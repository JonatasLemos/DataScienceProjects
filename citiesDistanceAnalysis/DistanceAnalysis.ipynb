{
 "cells": [
  {
   "cell_type": "markdown",
   "id": "loving-diana",
   "metadata": {},
   "source": [
    "#  Distance between cities"
   ]
  },
  {
   "cell_type": "code",
   "execution_count": 217,
   "id": "characteristic-affiliate",
   "metadata": {},
   "outputs": [],
   "source": [
    "import pandas as pd\n",
    "from simpledbf import Dbf5 as db\n",
    "import numpy as np\n",
    "import matplotlib.pyplot as plt"
   ]
  },
  {
   "cell_type": "markdown",
   "id": "conventional-scholar",
   "metadata": {},
   "source": [
    "### Reading all dbf files and converting to dataframe"
   ]
  },
  {
   "cell_type": "code",
   "execution_count": 218,
   "id": "rolled-backup",
   "metadata": {},
   "outputs": [],
   "source": [
    "list_of_dbfs = [\"brasil_north_points.dbf\", \"brasil_central_points.dbf\",\"brasil_east_points.dbf\",\n",
    "                \"brasil_mg_points.dbf\",\"brasil_northeast_points.dbf\",\n",
    "                \"brasil_PointDistance_south.dbf\",\"brasil_rs_points.dbf\",\"brasil_sp_points.dbf\"]\n",
    "def read_dbf(dbf_text):\n",
    "    dbf = db(dbf_text)\n",
    "    df_all = dbf.to_dataframe()\n",
    "    return df_all\n",
    "dbfs_read = [read_dbf(list_of_dbfs[i]) for i in range(len(list_of_dbfs))]"
   ]
  },
  {
   "cell_type": "markdown",
   "id": "furnished-offer",
   "metadata": {},
   "source": [
    "### Concating to get a single distances dataframe"
   ]
  },
  {
   "cell_type": "code",
   "execution_count": 219,
   "id": "fluid-particle",
   "metadata": {},
   "outputs": [],
   "source": [
    "concat_states = pd.concat([dbfs_read[i] for i in range(len(list_of_dbfs))])"
   ]
  },
  {
   "cell_type": "code",
   "execution_count": 220,
   "id": "tracked-press",
   "metadata": {},
   "outputs": [
    {
     "data": {
      "text/html": [
       "<div>\n",
       "<style scoped>\n",
       "    .dataframe tbody tr th:only-of-type {\n",
       "        vertical-align: middle;\n",
       "    }\n",
       "\n",
       "    .dataframe tbody tr th {\n",
       "        vertical-align: top;\n",
       "    }\n",
       "\n",
       "    .dataframe thead th {\n",
       "        text-align: right;\n",
       "    }\n",
       "</style>\n",
       "<table border=\"1\" class=\"dataframe\">\n",
       "  <thead>\n",
       "    <tr style=\"text-align: right;\">\n",
       "      <th></th>\n",
       "      <th>INPUT_FID</th>\n",
       "      <th>NEAR_FID</th>\n",
       "      <th>DISTANCE</th>\n",
       "    </tr>\n",
       "  </thead>\n",
       "  <tbody>\n",
       "    <tr>\n",
       "      <th>0</th>\n",
       "      <td>2</td>\n",
       "      <td>3792</td>\n",
       "      <td>17.377536</td>\n",
       "    </tr>\n",
       "    <tr>\n",
       "      <th>1</th>\n",
       "      <td>2</td>\n",
       "      <td>1446</td>\n",
       "      <td>16.903538</td>\n",
       "    </tr>\n",
       "    <tr>\n",
       "      <th>2</th>\n",
       "      <td>2</td>\n",
       "      <td>1335</td>\n",
       "      <td>16.759935</td>\n",
       "    </tr>\n",
       "    <tr>\n",
       "      <th>3</th>\n",
       "      <td>2</td>\n",
       "      <td>1242</td>\n",
       "      <td>17.004500</td>\n",
       "    </tr>\n",
       "    <tr>\n",
       "      <th>4</th>\n",
       "      <td>2</td>\n",
       "      <td>844</td>\n",
       "      <td>17.025101</td>\n",
       "    </tr>\n",
       "  </tbody>\n",
       "</table>\n",
       "</div>"
      ],
      "text/plain": [
       "   INPUT_FID  NEAR_FID   DISTANCE\n",
       "0          2      3792  17.377536\n",
       "1          2      1446  16.903538\n",
       "2          2      1335  16.759935\n",
       "3          2      1242  17.004500\n",
       "4          2       844  17.025101"
      ]
     },
     "execution_count": 220,
     "metadata": {},
     "output_type": "execute_result"
    }
   ],
   "source": [
    "concat_states.head()"
   ]
  },
  {
   "cell_type": "markdown",
   "id": "naval-crest",
   "metadata": {},
   "source": [
    "### Reading sheets with city names and population"
   ]
  },
  {
   "cell_type": "code",
   "execution_count": 221,
   "id": "located-external",
   "metadata": {},
   "outputs": [
    {
     "data": {
      "text/html": [
       "<div>\n",
       "<style scoped>\n",
       "    .dataframe tbody tr th:only-of-type {\n",
       "        vertical-align: middle;\n",
       "    }\n",
       "\n",
       "    .dataframe tbody tr th {\n",
       "        vertical-align: top;\n",
       "    }\n",
       "\n",
       "    .dataframe thead th {\n",
       "        text-align: right;\n",
       "    }\n",
       "</style>\n",
       "<table border=\"1\" class=\"dataframe\">\n",
       "  <thead>\n",
       "    <tr style=\"text-align: right;\">\n",
       "      <th></th>\n",
       "      <th>Unnamed: 0</th>\n",
       "      <th>NAME</th>\n",
       "      <th>POPULAÇÃO ESTIMADA</th>\n",
       "      <th>STATE</th>\n",
       "    </tr>\n",
       "  </thead>\n",
       "  <tbody>\n",
       "    <tr>\n",
       "      <th>0</th>\n",
       "      <td>5</td>\n",
       "      <td>Brasília/DF</td>\n",
       "      <td>2914830</td>\n",
       "      <td>DF</td>\n",
       "    </tr>\n",
       "    <tr>\n",
       "      <th>1</th>\n",
       "      <td>6</td>\n",
       "      <td>Campo Grande/MS</td>\n",
       "      <td>853622</td>\n",
       "      <td>MS</td>\n",
       "    </tr>\n",
       "    <tr>\n",
       "      <th>2</th>\n",
       "      <td>7</td>\n",
       "      <td>Cuiabá/MT</td>\n",
       "      <td>580489</td>\n",
       "      <td>MT</td>\n",
       "    </tr>\n",
       "    <tr>\n",
       "      <th>3</th>\n",
       "      <td>11</td>\n",
       "      <td>Goiânia/GO</td>\n",
       "      <td>1430697</td>\n",
       "      <td>GO</td>\n",
       "    </tr>\n",
       "    <tr>\n",
       "      <th>4</th>\n",
       "      <td>17</td>\n",
       "      <td>Palmas/TO</td>\n",
       "      <td>272726</td>\n",
       "      <td>TO</td>\n",
       "    </tr>\n",
       "  </tbody>\n",
       "</table>\n",
       "</div>"
      ],
      "text/plain": [
       "   Unnamed: 0             NAME  POPULAÇÃO ESTIMADA STATE\n",
       "0           5      Brasília/DF             2914830    DF\n",
       "1           6  Campo Grande/MS              853622    MS\n",
       "2           7        Cuiabá/MT              580489    MT\n",
       "3          11       Goiânia/GO             1430697    GO\n",
       "4          17        Palmas/TO              272726    TO"
      ]
     },
     "execution_count": 221,
     "metadata": {},
     "output_type": "execute_result"
    }
   ],
   "source": [
    "list_of_sheets = [\"North\",\"Central\",\"East\",\"MG\",\"Northeast\",\"South\",\"RS\",\"SP\"]\n",
    "sheets_read = [pd.read_excel(\"output_distance.xlsx\",sheet_name=list_of_sheets[i]) for i in range(len(list_of_sheets))]\n",
    "sheets_read[1].head()"
   ]
  },
  {
   "cell_type": "markdown",
   "id": "optional-graphic",
   "metadata": {},
   "source": [
    "### Concating to get a single population dataframe"
   ]
  },
  {
   "cell_type": "code",
   "execution_count": 222,
   "id": "average-funds",
   "metadata": {},
   "outputs": [
    {
     "data": {
      "text/html": [
       "<div>\n",
       "<style scoped>\n",
       "    .dataframe tbody tr th:only-of-type {\n",
       "        vertical-align: middle;\n",
       "    }\n",
       "\n",
       "    .dataframe tbody tr th {\n",
       "        vertical-align: top;\n",
       "    }\n",
       "\n",
       "    .dataframe thead th {\n",
       "        text-align: right;\n",
       "    }\n",
       "</style>\n",
       "<table border=\"1\" class=\"dataframe\">\n",
       "  <thead>\n",
       "    <tr style=\"text-align: right;\">\n",
       "      <th></th>\n",
       "      <th>INPUT_FID</th>\n",
       "      <th>NAME</th>\n",
       "      <th>POPULAÇÃO ESTIMADA</th>\n",
       "      <th>STATE</th>\n",
       "    </tr>\n",
       "  </thead>\n",
       "  <tbody>\n",
       "    <tr>\n",
       "      <th>0</th>\n",
       "      <td>2</td>\n",
       "      <td>Belém/PA</td>\n",
       "      <td>1439561</td>\n",
       "      <td>PA</td>\n",
       "    </tr>\n",
       "    <tr>\n",
       "      <th>1</th>\n",
       "      <td>4</td>\n",
       "      <td>Boa Vista/RR</td>\n",
       "      <td>320714</td>\n",
       "      <td>RR</td>\n",
       "    </tr>\n",
       "    <tr>\n",
       "      <th>2</th>\n",
       "      <td>13</td>\n",
       "      <td>Macapá/AP</td>\n",
       "      <td>456171</td>\n",
       "      <td>AP</td>\n",
       "    </tr>\n",
       "    <tr>\n",
       "      <th>3</th>\n",
       "      <td>15</td>\n",
       "      <td>Manaus/AM</td>\n",
       "      <td>2057711</td>\n",
       "      <td>AM</td>\n",
       "    </tr>\n",
       "    <tr>\n",
       "      <th>4</th>\n",
       "      <td>19</td>\n",
       "      <td>Porto Velho/RO</td>\n",
       "      <td>502748</td>\n",
       "      <td>RO</td>\n",
       "    </tr>\n",
       "  </tbody>\n",
       "</table>\n",
       "</div>"
      ],
      "text/plain": [
       "   INPUT_FID            NAME  POPULAÇÃO ESTIMADA STATE\n",
       "0          2        Belém/PA             1439561    PA\n",
       "1          4    Boa Vista/RR              320714    RR\n",
       "2         13       Macapá/AP              456171    AP\n",
       "3         15       Manaus/AM             2057711    AM\n",
       "4         19  Porto Velho/RO              502748    RO"
      ]
     },
     "execution_count": 222,
     "metadata": {},
     "output_type": "execute_result"
    }
   ],
   "source": [
    "concat_sheets = pd.concat([sheets_read[i] for i in range(len(list_of_sheets))])\n",
    "concat_sheets = concat_sheets.rename(columns={'Unnamed: 0': 'INPUT_FID'})\n",
    "concat_sheets.head()"
   ]
  },
  {
   "cell_type": "markdown",
   "id": "aging-omega",
   "metadata": {},
   "source": [
    "### Extracting each state from the population dataframe"
   ]
  },
  {
   "cell_type": "code",
   "execution_count": 265,
   "id": "bigger-insulin",
   "metadata": {
    "scrolled": false
   },
   "outputs": [
    {
     "data": {
      "text/html": [
       "<div>\n",
       "<style scoped>\n",
       "    .dataframe tbody tr th:only-of-type {\n",
       "        vertical-align: middle;\n",
       "    }\n",
       "\n",
       "    .dataframe tbody tr th {\n",
       "        vertical-align: top;\n",
       "    }\n",
       "\n",
       "    .dataframe thead th {\n",
       "        text-align: right;\n",
       "    }\n",
       "</style>\n",
       "<table border=\"1\" class=\"dataframe\">\n",
       "  <thead>\n",
       "    <tr style=\"text-align: right;\">\n",
       "      <th></th>\n",
       "      <th>INPUT_FID</th>\n",
       "      <th>NAME</th>\n",
       "      <th>POPULAÇÃO ESTIMADA</th>\n",
       "      <th>STATE</th>\n",
       "    </tr>\n",
       "  </thead>\n",
       "  <tbody>\n",
       "    <tr>\n",
       "      <th>2</th>\n",
       "      <td>13</td>\n",
       "      <td>Macapá/AP</td>\n",
       "      <td>456171</td>\n",
       "      <td>AP</td>\n",
       "    </tr>\n",
       "    <tr>\n",
       "      <th>41</th>\n",
       "      <td>213</td>\n",
       "      <td>Amapá/AP</td>\n",
       "      <td>8622</td>\n",
       "      <td>AP</td>\n",
       "    </tr>\n",
       "    <tr>\n",
       "      <th>155</th>\n",
       "      <td>922</td>\n",
       "      <td>Calçoene/AP</td>\n",
       "      <td>10163</td>\n",
       "      <td>AP</td>\n",
       "    </tr>\n",
       "    <tr>\n",
       "      <th>239</th>\n",
       "      <td>1541</td>\n",
       "      <td>Cutias/AP</td>\n",
       "      <td>5407</td>\n",
       "      <td>AP</td>\n",
       "    </tr>\n",
       "    <tr>\n",
       "      <th>264</th>\n",
       "      <td>1795</td>\n",
       "      <td>Ferreira Gomes/AP</td>\n",
       "      <td>6901</td>\n",
       "      <td>AP</td>\n",
       "    </tr>\n",
       "  </tbody>\n",
       "</table>\n",
       "</div>"
      ],
      "text/plain": [
       "     INPUT_FID               NAME  POPULAÇÃO ESTIMADA STATE\n",
       "2           13          Macapá/AP              456171    AP\n",
       "41         213           Amapá/AP                8622    AP\n",
       "155        922        Calçoene/AP               10163    AP\n",
       "239       1541          Cutias/AP                5407    AP\n",
       "264       1795  Ferreira Gomes/AP                6901    AP"
      ]
     },
     "execution_count": 265,
     "metadata": {},
     "output_type": "execute_result"
    }
   ],
   "source": [
    "pat = [\"(.*\\/PA)\",\"(.*\\/RR)\",\"(.*\\/AP)\",\"(.*\\/AM)\",\"(.*\\/RO)\",\"(.*\\/AC)\",\"(.*\\/MA)\",\"(.*\\/PI)\",\n",
    "       \"(.*\\/MS)\",\"(.*\\/MT)\",\"(.*\\/GO)\",\"(.*\\/TO)\",\"(.*\\/SE)\",\"(.*\\/AL)\",\"(.*\\/RJ)\",\"(.*\\/BA)\",\"(.*\\/ES)\"\n",
    "       ,\"(.*\\/MG)\",\"(.*\\/CE)\",\"(.*\\/PB)\",\"(.*\\/RN)\",\"(.*\\/PE)\",\"(.*\\/PR)\",\"(.*\\/SC)\",\"(.*\\/RS)\",\"(.*\\/SP)\"]\n",
    "copy_list = [concat_sheets.copy() for i in range(len(pat))]\n",
    "for i in range(len(pat)):\n",
    "    copy_list[i][\"NAME\"] = concat_sheets[\"NAME\"].str.extract(pat[i])\n",
    "    copy_list[i] = copy_list[i].dropna()\n",
    "copy_list[2].head()"
   ]
  },
  {
   "cell_type": "markdown",
   "id": "median-recruitment",
   "metadata": {},
   "source": [
    "### Spliting the concated distances dataframe in dataframes representing each state"
   ]
  },
  {
   "cell_type": "code",
   "execution_count": 266,
   "id": "opening-lindsay",
   "metadata": {},
   "outputs": [
    {
     "data": {
      "text/html": [
       "<div>\n",
       "<style scoped>\n",
       "    .dataframe tbody tr th:only-of-type {\n",
       "        vertical-align: middle;\n",
       "    }\n",
       "\n",
       "    .dataframe tbody tr th {\n",
       "        vertical-align: top;\n",
       "    }\n",
       "\n",
       "    .dataframe thead th {\n",
       "        text-align: right;\n",
       "    }\n",
       "</style>\n",
       "<table border=\"1\" class=\"dataframe\">\n",
       "  <thead>\n",
       "    <tr style=\"text-align: right;\">\n",
       "      <th></th>\n",
       "      <th>INPUT_FID</th>\n",
       "      <th>NEAR_FID</th>\n",
       "      <th>DISTANCE</th>\n",
       "    </tr>\n",
       "  </thead>\n",
       "  <tbody>\n",
       "    <tr>\n",
       "      <th>79</th>\n",
       "      <td>2</td>\n",
       "      <td>673</td>\n",
       "      <td>20.253862</td>\n",
       "    </tr>\n",
       "    <tr>\n",
       "      <th>135</th>\n",
       "      <td>2</td>\n",
       "      <td>1996</td>\n",
       "      <td>24.838286</td>\n",
       "    </tr>\n",
       "    <tr>\n",
       "      <th>137</th>\n",
       "      <td>2</td>\n",
       "      <td>2250</td>\n",
       "      <td>23.856492</td>\n",
       "    </tr>\n",
       "    <tr>\n",
       "      <th>138</th>\n",
       "      <td>2</td>\n",
       "      <td>1693</td>\n",
       "      <td>22.333761</td>\n",
       "    </tr>\n",
       "    <tr>\n",
       "      <th>139</th>\n",
       "      <td>2</td>\n",
       "      <td>1659</td>\n",
       "      <td>21.994621</td>\n",
       "    </tr>\n",
       "    <tr>\n",
       "      <th>...</th>\n",
       "      <td>...</td>\n",
       "      <td>...</td>\n",
       "      <td>...</td>\n",
       "    </tr>\n",
       "    <tr>\n",
       "      <th>560074</th>\n",
       "      <td>5559</td>\n",
       "      <td>3263</td>\n",
       "      <td>10.940252</td>\n",
       "    </tr>\n",
       "    <tr>\n",
       "      <th>560077</th>\n",
       "      <td>5559</td>\n",
       "      <td>566</td>\n",
       "      <td>11.255070</td>\n",
       "    </tr>\n",
       "    <tr>\n",
       "      <th>560185</th>\n",
       "      <td>5559</td>\n",
       "      <td>4656</td>\n",
       "      <td>21.491772</td>\n",
       "    </tr>\n",
       "    <tr>\n",
       "      <th>560186</th>\n",
       "      <td>5559</td>\n",
       "      <td>4406</td>\n",
       "      <td>19.402464</td>\n",
       "    </tr>\n",
       "    <tr>\n",
       "      <th>560187</th>\n",
       "      <td>5559</td>\n",
       "      <td>526</td>\n",
       "      <td>17.249850</td>\n",
       "    </tr>\n",
       "  </tbody>\n",
       "</table>\n",
       "<p>46376 rows × 3 columns</p>\n",
       "</div>"
      ],
      "text/plain": [
       "        INPUT_FID  NEAR_FID   DISTANCE\n",
       "79              2       673  20.253862\n",
       "135             2      1996  24.838286\n",
       "137             2      2250  23.856492\n",
       "138             2      1693  22.333761\n",
       "139             2      1659  21.994621\n",
       "...           ...       ...        ...\n",
       "560074       5559      3263  10.940252\n",
       "560077       5559       566  11.255070\n",
       "560185       5559      4656  21.491772\n",
       "560186       5559      4406  19.402464\n",
       "560187       5559       526  17.249850\n",
       "\n",
       "[46376 rows x 3 columns]"
      ]
     },
     "execution_count": 266,
     "metadata": {},
     "output_type": "execute_result"
    }
   ],
   "source": [
    "states = [concat_states[concat_states['NEAR_FID'].isin(copy_list[i]['INPUT_FID'])] \n",
    "          for i in range(len(pat))]\n",
    "states[3]"
   ]
  },
  {
   "cell_type": "markdown",
   "id": "grave-master",
   "metadata": {},
   "source": [
    "### Merging distances dataframe with population dataframe."
   ]
  },
  {
   "cell_type": "code",
   "execution_count": 225,
   "id": "distinguished-election",
   "metadata": {},
   "outputs": [
    {
     "data": {
      "text/html": [
       "<div>\n",
       "<style scoped>\n",
       "    .dataframe tbody tr th:only-of-type {\n",
       "        vertical-align: middle;\n",
       "    }\n",
       "\n",
       "    .dataframe tbody tr th {\n",
       "        vertical-align: top;\n",
       "    }\n",
       "\n",
       "    .dataframe thead th {\n",
       "        text-align: right;\n",
       "    }\n",
       "</style>\n",
       "<table border=\"1\" class=\"dataframe\">\n",
       "  <thead>\n",
       "    <tr style=\"text-align: right;\">\n",
       "      <th></th>\n",
       "      <th>INPUT_FID</th>\n",
       "      <th>NAME</th>\n",
       "      <th>POPULAÇÃO ESTIMADA</th>\n",
       "      <th>STATE</th>\n",
       "      <th>NEAR_FID</th>\n",
       "      <th>DISTANCE</th>\n",
       "    </tr>\n",
       "  </thead>\n",
       "  <tbody>\n",
       "    <tr>\n",
       "      <th>0</th>\n",
       "      <td>4</td>\n",
       "      <td>Boa Vista/RR</td>\n",
       "      <td>320714</td>\n",
       "      <td>RR</td>\n",
       "      <td>1104</td>\n",
       "      <td>1.102300</td>\n",
       "    </tr>\n",
       "    <tr>\n",
       "      <th>1</th>\n",
       "      <td>4</td>\n",
       "      <td>Boa Vista/RR</td>\n",
       "      <td>320714</td>\n",
       "      <td>RR</td>\n",
       "      <td>4812</td>\n",
       "      <td>1.886386</td>\n",
       "    </tr>\n",
       "    <tr>\n",
       "      <th>2</th>\n",
       "      <td>4</td>\n",
       "      <td>Boa Vista/RR</td>\n",
       "      <td>320714</td>\n",
       "      <td>RR</td>\n",
       "      <td>4682</td>\n",
       "      <td>2.018375</td>\n",
       "    </tr>\n",
       "    <tr>\n",
       "      <th>3</th>\n",
       "      <td>4</td>\n",
       "      <td>Boa Vista/RR</td>\n",
       "      <td>320714</td>\n",
       "      <td>RR</td>\n",
       "      <td>4272</td>\n",
       "      <td>1.891279</td>\n",
       "    </tr>\n",
       "    <tr>\n",
       "      <th>4</th>\n",
       "      <td>4</td>\n",
       "      <td>Boa Vista/RR</td>\n",
       "      <td>320714</td>\n",
       "      <td>RR</td>\n",
       "      <td>1163</td>\n",
       "      <td>2.168565</td>\n",
       "    </tr>\n",
       "  </tbody>\n",
       "</table>\n",
       "</div>"
      ],
      "text/plain": [
       "   INPUT_FID          NAME  POPULAÇÃO ESTIMADA STATE  NEAR_FID  DISTANCE\n",
       "0          4  Boa Vista/RR              320714    RR      1104  1.102300\n",
       "1          4  Boa Vista/RR              320714    RR      4812  1.886386\n",
       "2          4  Boa Vista/RR              320714    RR      4682  2.018375\n",
       "3          4  Boa Vista/RR              320714    RR      4272  1.891279\n",
       "4          4  Boa Vista/RR              320714    RR      1163  2.168565"
      ]
     },
     "execution_count": 225,
     "metadata": {},
     "output_type": "execute_result"
    }
   ],
   "source": [
    "merged_states = [copy_list[i].merge(states[i]) for i in range(len(pat))]\n",
    "merged_states[1].head()"
   ]
  },
  {
   "cell_type": "markdown",
   "id": "ranging-coverage",
   "metadata": {},
   "source": [
    "### Grouping by state,city name and population to find the cities with the least summed distance"
   ]
  },
  {
   "cell_type": "code",
   "execution_count": 263,
   "id": "willing-prairie",
   "metadata": {},
   "outputs": [
    {
     "data": {
      "text/html": [
       "<div>\n",
       "<style scoped>\n",
       "    .dataframe tbody tr th:only-of-type {\n",
       "        vertical-align: middle;\n",
       "    }\n",
       "\n",
       "    .dataframe tbody tr th {\n",
       "        vertical-align: top;\n",
       "    }\n",
       "\n",
       "    .dataframe thead th {\n",
       "        text-align: right;\n",
       "    }\n",
       "</style>\n",
       "<table border=\"1\" class=\"dataframe\">\n",
       "  <thead>\n",
       "    <tr style=\"text-align: right;\">\n",
       "      <th></th>\n",
       "      <th>STATE</th>\n",
       "      <th>NAME</th>\n",
       "      <th>POPULAÇÃO ESTIMADA</th>\n",
       "      <th>DISTANCE</th>\n",
       "    </tr>\n",
       "  </thead>\n",
       "  <tbody>\n",
       "    <tr>\n",
       "      <th>49</th>\n",
       "      <td>SP</td>\n",
       "      <td>Bariri/SP</td>\n",
       "      <td>34048</td>\n",
       "      <td>1238.308948</td>\n",
       "    </tr>\n",
       "    <tr>\n",
       "      <th>68</th>\n",
       "      <td>SP</td>\n",
       "      <td>Bocaina/SP</td>\n",
       "      <td>11810</td>\n",
       "      <td>1239.751583</td>\n",
       "    </tr>\n",
       "    <tr>\n",
       "      <th>245</th>\n",
       "      <td>SP</td>\n",
       "      <td>Itaju/SP</td>\n",
       "      <td>3606</td>\n",
       "      <td>1240.800233</td>\n",
       "    </tr>\n",
       "    <tr>\n",
       "      <th>255</th>\n",
       "      <td>SP</td>\n",
       "      <td>Itapuí/SP</td>\n",
       "      <td>13328</td>\n",
       "      <td>1241.164064</td>\n",
       "    </tr>\n",
       "    <tr>\n",
       "      <th>73</th>\n",
       "      <td>SP</td>\n",
       "      <td>Boracéia/SP</td>\n",
       "      <td>4631</td>\n",
       "      <td>1241.194092</td>\n",
       "    </tr>\n",
       "  </tbody>\n",
       "</table>\n",
       "</div>"
      ],
      "text/plain": [
       "    STATE         NAME  POPULAÇÃO ESTIMADA     DISTANCE\n",
       "49     SP    Bariri/SP               34048  1238.308948\n",
       "68     SP   Bocaina/SP               11810  1239.751583\n",
       "245    SP     Itaju/SP                3606  1240.800233\n",
       "255    SP    Itapuí/SP               13328  1241.164064\n",
       "73     SP  Boracéia/SP                4631  1241.194092"
      ]
     },
     "execution_count": 263,
     "metadata": {},
     "output_type": "execute_result"
    }
   ],
   "source": [
    "grouped_states = [merged_states[i].groupby(['STATE','NAME','POPULAÇÃO ESTIMADA'], as_index=False)\n",
    "                  ['DISTANCE'].sum().sort_values(by=\"DISTANCE\",axis=0) for i in range(len(pat))]\n",
    "grouped_states[25].head()"
   ]
  },
  {
   "cell_type": "markdown",
   "id": "regular-rebound",
   "metadata": {},
   "source": [
    "### Getting the least and most centralized cities in each state"
   ]
  },
  {
   "cell_type": "code",
   "execution_count": 260,
   "id": "binary-wellington",
   "metadata": {},
   "outputs": [
    {
     "name": "stdout",
     "output_type": "stream",
     "text": [
      "Most centralized\n"
     ]
    },
    {
     "data": {
      "text/plain": [
       "25             Bariri/SP\n",
       "17     Belo Horizonte/MG\n",
       "20               Bodó/RN\n",
       "1               Cantá/RR\n",
       "3             Codajás/AM\n",
       "2      Ferreira Gomes/AP\n",
       "24    Fontoura Xavier/RS\n",
       "22      Godoy Moreira/PR\n",
       "0        Igarapé-Miri/PA\n",
       "10            Inhumas/GO\n",
       "dtype: object"
      ]
     },
     "execution_count": 260,
     "metadata": {},
     "output_type": "execute_result"
    }
   ],
   "source": [
    "min_states = pd.Series({i: grouped_states[i][grouped_states[i]['DISTANCE'] ==\n",
    "                                  grouped_states[i]['DISTANCE'].min()][\"NAME\"].to_numpy()[0]\n",
    "                  for i in range(len(pat))}).sort_values()\n",
    "\n",
    "max_states = pd.Series({i: grouped_states[i][grouped_states[i]['DISTANCE'] ==\n",
    "                                  grouped_states[i]['DISTANCE'].max()][\"NAME\"].to_numpy()[0]\n",
    "                  for i in range(len(pat))}).sort_values()\n",
    "\n",
    "print(\"Most centralized\")\n",
    "min_states.head(10)"
   ]
  },
  {
   "cell_type": "code",
   "execution_count": 261,
   "id": "disabled-headset",
   "metadata": {},
   "outputs": [
    {
     "name": "stdout",
     "output_type": "stream",
     "text": [
      "Least centralized\n"
     ]
    },
    {
     "data": {
      "text/plain": [
       "21                     Afrânio/PE\n",
       "6                Alto Parnaíba/MA\n",
       "11                    Araguaçu/TO\n",
       "24             Barra do Quaraí/RS\n",
       "19        Cachoeira dos Índios/PB\n",
       "12    Canindé de São Francisco/SE\n",
       "17                 Carneirinho/MG\n",
       "8                      Corumbá/MS\n",
       "7        Cristalândia do Piauí/PI\n",
       "23          Dionísio Cerqueira/SC\n",
       "dtype: object"
      ]
     },
     "execution_count": 261,
     "metadata": {},
     "output_type": "execute_result"
    }
   ],
   "source": [
    "print(\"Least centralized\")\n",
    "max_states.head(10)"
   ]
  },
  {
   "cell_type": "markdown",
   "id": "antique-party",
   "metadata": {},
   "source": [
    "### Getting the 10 most and 10 least centralized cities in each state"
   ]
  },
  {
   "cell_type": "code",
   "execution_count": 229,
   "id": "joint-nation",
   "metadata": {},
   "outputs": [],
   "source": [
    "df_first_10 = [grouped_states[i].head(10) for i in range(len(pat))]\n",
    "df_last_10 = [grouped_states[i].tail(10).sort_values(by=\"DISTANCE\",ascending=False)\n",
    "              for i in range(len(pat))]"
   ]
  },
  {
   "cell_type": "code",
   "execution_count": 232,
   "id": "shared-ozone",
   "metadata": {},
   "outputs": [],
   "source": [
    "capitals = pd.read_excel(\"output_distance.xlsx\",sheet_name=\"Capitals\")"
   ]
  },
  {
   "cell_type": "markdown",
   "id": "brave-state",
   "metadata": {},
   "source": [
    "### Percent of cities more centralized than the capital"
   ]
  },
  {
   "cell_type": "code",
   "execution_count": 267,
   "id": "forbidden-timeline",
   "metadata": {},
   "outputs": [],
   "source": [
    "position_capitals = {}\n",
    "number_of_cities = {}\n",
    "for i in range(len(pat)):\n",
    "    \n",
    "    grouped_states[i] = grouped_states[i].set_index(np.arange(0, len(grouped_states[i])))\n",
    "    \n",
    "    position_capitals[grouped_states[i][grouped_states[i]['NAME']\n",
    "                                    .isin(capitals['NAME'])][\"NAME\"].to_numpy()[0]] = \\\n",
    "    grouped_states[i][grouped_states[i]['NAME'].isin(capitals['NAME'])].index.to_numpy()[0]\n",
    "    \n",
    "    number_of_cities[grouped_states[i][grouped_states[i]['NAME']\n",
    "                    .isin(capitals['NAME'])][\"STATE\"].to_numpy()[0]] = len(grouped_states[i])\n",
    "\n",
    "capital_position = pd.Series(position_capitals)"
   ]
  },
  {
   "cell_type": "code",
   "execution_count": 251,
   "id": "falling-steps",
   "metadata": {},
   "outputs": [],
   "source": [
    "cities_per_state = pd.Series(number_of_cities)"
   ]
  },
  {
   "cell_type": "code",
   "execution_count": 252,
   "id": "mysterious-essay",
   "metadata": {},
   "outputs": [],
   "source": [
    "indexes = list(capital_position.index)\n",
    "percent_cities = pd.Series({indexes[i]: (capital_position[i]/cities_per_state[i])*100 \n",
    "               for i in range(len(cities_per_state))})\n",
    "percent_cities_sort = percent_cities.sort_values()"
   ]
  },
  {
   "cell_type": "code",
   "execution_count": 253,
   "id": "changing-clinic",
   "metadata": {},
   "outputs": [
    {
     "data": {
      "text/plain": [
       "Belo Horizonte/MG     0.000000\n",
       "Boa Vista/RR          6.666667\n",
       "Belém/PA              9.090909\n",
       "Goiânia/GO            9.349593\n",
       "Palmas/TO            11.510791\n",
       "Campo Grande/MS      16.883117\n",
       "Cuiabá/MT            17.985612\n",
       "Manaus/AM            20.967742\n",
       "Rio Branco/AC        22.727273\n",
       "Vitória/ES           30.769231\n",
       "Rio de Janeiro/RJ    36.956522\n",
       "Aracaju/SE           37.333333\n",
       "Salvador/BA          39.808153\n",
       "Macapá/AP            43.750000\n",
       "São Luís/MA          47.926267\n",
       "Teresina/PI          48.648649\n",
       "Fortaleza/CE         52.173913\n",
       "Maceió/AL            56.862745\n",
       "Porto Alegre/RS      61.770624\n",
       "São Paulo/SP         70.077519\n",
       "Recife/PE            73.369565\n",
       "Florianópolis/SC     74.402730\n",
       "Natal/RN             76.047904\n",
       "João Pessoa/PB       88.340807\n",
       "Porto Velho/RO       94.230769\n",
       "Curitiba/PR          94.235589\n",
       "dtype: float64"
      ]
     },
     "execution_count": 253,
     "metadata": {},
     "output_type": "execute_result"
    }
   ],
   "source": [
    "percent_cities_sort"
   ]
  },
  {
   "cell_type": "markdown",
   "id": "brown-monitor",
   "metadata": {},
   "source": [
    "### Least centralized capitals"
   ]
  },
  {
   "cell_type": "code",
   "execution_count": 254,
   "id": "pointed-birthday",
   "metadata": {},
   "outputs": [
    {
     "data": {
      "image/png": "[encoded data removed]",
      "text/plain": [
       "<Figure size 432x288 with 1 Axes>"
      ]
     },
     "metadata": {
      "needs_background": "light"
     },
     "output_type": "display_data"
    }
   ],
   "source": [
    "percent_cities = percent_cities.sort_values(ascending=True)\n",
    "plt.barh(percent_cities.tail(10).index,percent_cities.tail(10).values)\n",
    "plt.title(\"Capitais menos centralizadas\")\n",
    "plt.grid(b = True, color ='grey',\n",
    "        linestyle ='-.', linewidth = 1,\n",
    "        alpha = 0.2)\n",
    "plt.xlabel('% de cidades do estado mais centralizadas que a capital')\n",
    "plt.ylabel('Capital')\n",
    "plt.show()"
   ]
  },
  {
   "cell_type": "markdown",
   "id": "sticky-producer",
   "metadata": {},
   "source": [
    "### Most centralized capitals"
   ]
  },
  {
   "cell_type": "code",
   "execution_count": 255,
   "id": "israeli-candle",
   "metadata": {
    "scrolled": true
   },
   "outputs": [
    {
     "data": {
      "image/png": "[encoded data removed]",
      "text/plain": [
       "<Figure size 432x288 with 1 Axes>"
      ]
     },
     "metadata": {
      "needs_background": "light"
     },
     "output_type": "display_data"
    }
   ],
   "source": [
    "percent_cities = percent_cities.sort_values(ascending=False)\n",
    "plt.barh(percent_cities.tail(10).index,percent_cities.tail(10).values)\n",
    "plt.title(\"Capitais mais centralizadas\")\n",
    "plt.grid(b = True, color ='grey',\n",
    "        linestyle ='-.', linewidth = 1,\n",
    "        alpha = 0.2)\n",
    "plt.xlabel('% de cidades do estado mais centralizadas que a capital')\n",
    "plt.ylabel('Capital')\n",
    "plt.show()"
   ]
  }
 ],
 "metadata": {
  "kernelspec": {
   "display_name": "Python 3",
   "language": "python",
   "name": "python3"
  },
  "language_info": {
   "codemirror_mode": {
    "name": "ipython",
    "version": 3
   },
   "file_extension": ".py",
   "mimetype": "text/x-python",
   "name": "python",
   "nbconvert_exporter": "python",
   "pygments_lexer": "ipython3",
   "version": "3.8.6"
  }
 },
 "nbformat": 4,
 "nbformat_minor": 5
}
