{
 "cells": [
  {
   "cell_type": "markdown",
   "id": "grand-finding",
   "metadata": {},
   "source": [
    "# Closest Capital Analysis "
   ]
  },
  {
   "cell_type": "code",
   "execution_count": 87,
   "id": "disturbed-prototype",
   "metadata": {},
   "outputs": [],
   "source": [
    "import pandas as pd\n",
    "from simpledbf import Dbf5 as db\n",
    "import numpy as np\n",
    "import matplotlib.pyplot as plt\n",
    "%matplotlib inline\n",
    "plt.rcParams[\"figure.figsize\"] = [10, 6]"
   ]
  },
  {
   "cell_type": "markdown",
   "id": "serious-earth",
   "metadata": {},
   "source": [
    "### Reading dbf,converting, adding STATE column and creating DF with state capitals"
   ]
  },
  {
   "cell_type": "code",
   "execution_count": 88,
   "id": "elementary-carbon",
   "metadata": {},
   "outputs": [],
   "source": [
    "dbf = db(\"distances_brasil.dbf\")\n",
    "distance_cities = dbf.to_dataframe()\n",
    "distance_cities = distance_cities.drop([\"codmun1\"],axis=1)\n",
    "distance_cities.at[distance_cities[distance_cities[\"NAME\"]==\"São Francisco de Assis do Piauí/P\"].index[0],\n",
    "          \"NAME\"] = \"São Francisco de Assis do Piauí/PI\"\n",
    "distance_cities.at[distance_cities[distance_cities[\"NAME\"]==\"Vila Bela da Santíssima Trindade/M\"].index[0],\n",
    "          \"NAME\"] = \"Vila Bela da Santíssima Trindade/MT\"\n",
    "distance_cities.at[distance_cities[distance_cities[\"NAME\"]==\"São Sebastião de Lagoa de Roça/P\"].index[0],\n",
    "          \"NAME\"] = \"São Sebastião de Lagoa de Roça/PB\""
   ]
  },
  {
   "cell_type": "code",
   "execution_count": 89,
   "id": "apparent-vocabulary",
   "metadata": {},
   "outputs": [
    {
     "data": {
      "text/html": [
       "<div>\n",
       "<style scoped>\n",
       "    .dataframe tbody tr th:only-of-type {\n",
       "        vertical-align: middle;\n",
       "    }\n",
       "\n",
       "    .dataframe tbody tr th {\n",
       "        vertical-align: top;\n",
       "    }\n",
       "\n",
       "    .dataframe thead th {\n",
       "        text-align: right;\n",
       "    }\n",
       "</style>\n",
       "<table border=\"1\" class=\"dataframe\">\n",
       "  <thead>\n",
       "    <tr style=\"text-align: right;\">\n",
       "      <th></th>\n",
       "      <th>NAME</th>\n",
       "      <th>NEAR_FID</th>\n",
       "      <th>NEAR_DIST</th>\n",
       "      <th>STATE</th>\n",
       "    </tr>\n",
       "  </thead>\n",
       "  <tbody>\n",
       "    <tr>\n",
       "      <th>0</th>\n",
       "      <td>Aracaju/SE</td>\n",
       "      <td>1</td>\n",
       "      <td>1.279808e-10</td>\n",
       "      <td>SE</td>\n",
       "    </tr>\n",
       "    <tr>\n",
       "      <th>1</th>\n",
       "      <td>Belém/PA</td>\n",
       "      <td>2</td>\n",
       "      <td>1.580439e-10</td>\n",
       "      <td>PA</td>\n",
       "    </tr>\n",
       "    <tr>\n",
       "      <th>2</th>\n",
       "      <td>Belo Horizonte/MG</td>\n",
       "      <td>3</td>\n",
       "      <td>5.696375e-10</td>\n",
       "      <td>MG</td>\n",
       "    </tr>\n",
       "    <tr>\n",
       "      <th>3</th>\n",
       "      <td>Boa Vista/RR</td>\n",
       "      <td>4</td>\n",
       "      <td>3.281908e-10</td>\n",
       "      <td>RR</td>\n",
       "    </tr>\n",
       "    <tr>\n",
       "      <th>4</th>\n",
       "      <td>Brasília/DF</td>\n",
       "      <td>5</td>\n",
       "      <td>4.157356e-10</td>\n",
       "      <td>DF</td>\n",
       "    </tr>\n",
       "    <tr>\n",
       "      <th>...</th>\n",
       "      <td>...</td>\n",
       "      <td>...</td>\n",
       "      <td>...</td>\n",
       "      <td>...</td>\n",
       "    </tr>\n",
       "    <tr>\n",
       "      <th>5555</th>\n",
       "      <td>Xique-Xique/BA</td>\n",
       "      <td>23</td>\n",
       "      <td>4.735711e+00</td>\n",
       "      <td>BA</td>\n",
       "    </tr>\n",
       "    <tr>\n",
       "      <th>5556</th>\n",
       "      <td>Zabelê/PB</td>\n",
       "      <td>14</td>\n",
       "      <td>2.094263e+00</td>\n",
       "      <td>PB</td>\n",
       "    </tr>\n",
       "    <tr>\n",
       "      <th>5557</th>\n",
       "      <td>Zacarias/SP</td>\n",
       "      <td>25</td>\n",
       "      <td>4.229949e+00</td>\n",
       "      <td>SP</td>\n",
       "    </tr>\n",
       "    <tr>\n",
       "      <th>5558</th>\n",
       "      <td>Zé Doca/MA</td>\n",
       "      <td>24</td>\n",
       "      <td>1.679836e+00</td>\n",
       "      <td>MA</td>\n",
       "    </tr>\n",
       "    <tr>\n",
       "      <th>5559</th>\n",
       "      <td>Zortéa/SC</td>\n",
       "      <td>18</td>\n",
       "      <td>2.602383e+00</td>\n",
       "      <td>SC</td>\n",
       "    </tr>\n",
       "  </tbody>\n",
       "</table>\n",
       "<p>5560 rows × 4 columns</p>\n",
       "</div>"
      ],
      "text/plain": [
       "                   NAME  NEAR_FID     NEAR_DIST STATE\n",
       "0            Aracaju/SE         1  1.279808e-10    SE\n",
       "1              Belém/PA         2  1.580439e-10    PA\n",
       "2     Belo Horizonte/MG         3  5.696375e-10    MG\n",
       "3          Boa Vista/RR         4  3.281908e-10    RR\n",
       "4           Brasília/DF         5  4.157356e-10    DF\n",
       "...                 ...       ...           ...   ...\n",
       "5555     Xique-Xique/BA        23  4.735711e+00    BA\n",
       "5556          Zabelê/PB        14  2.094263e+00    PB\n",
       "5557        Zacarias/SP        25  4.229949e+00    SP\n",
       "5558         Zé Doca/MA        24  1.679836e+00    MA\n",
       "5559          Zortéa/SC        18  2.602383e+00    SC\n",
       "\n",
       "[5560 rows x 4 columns]"
      ]
     },
     "execution_count": 89,
     "metadata": {},
     "output_type": "execute_result"
    }
   ],
   "source": [
    "distance_cities[\"STATE\"] = [i.split(\"/\")[-1] for i in distance_cities[\"NAME\"]]\n",
    "distance_cities"
   ]
  },
  {
   "cell_type": "code",
   "execution_count": 90,
   "id": "executed-rendering",
   "metadata": {},
   "outputs": [],
   "source": [
    "capitals = distance_cities[distance_cities.index < 27]"
   ]
  },
  {
   "cell_type": "markdown",
   "id": "becoming-species",
   "metadata": {},
   "source": [
    "### Adding the column Closest Capital, with the closest capital to each brazilian city"
   ]
  },
  {
   "cell_type": "code",
   "execution_count": 91,
   "id": "reverse-world",
   "metadata": {},
   "outputs": [
    {
     "data": {
      "text/html": [
       "<div>\n",
       "<style scoped>\n",
       "    .dataframe tbody tr th:only-of-type {\n",
       "        vertical-align: middle;\n",
       "    }\n",
       "\n",
       "    .dataframe tbody tr th {\n",
       "        vertical-align: top;\n",
       "    }\n",
       "\n",
       "    .dataframe thead th {\n",
       "        text-align: right;\n",
       "    }\n",
       "</style>\n",
       "<table border=\"1\" class=\"dataframe\">\n",
       "  <thead>\n",
       "    <tr style=\"text-align: right;\">\n",
       "      <th></th>\n",
       "      <th>NAME</th>\n",
       "      <th>NEAR_FID</th>\n",
       "      <th>NEAR_DIST</th>\n",
       "      <th>STATE</th>\n",
       "      <th>Closest Capital</th>\n",
       "    </tr>\n",
       "  </thead>\n",
       "  <tbody>\n",
       "    <tr>\n",
       "      <th>60</th>\n",
       "      <td>Adrianópolis/PR</td>\n",
       "      <td>8</td>\n",
       "      <td>0.820954</td>\n",
       "      <td>PR</td>\n",
       "      <td>Curitiba/PR</td>\n",
       "    </tr>\n",
       "    <tr>\n",
       "      <th>61</th>\n",
       "      <td>Adustina/BA</td>\n",
       "      <td>1</td>\n",
       "      <td>1.095304</td>\n",
       "      <td>BA</td>\n",
       "      <td>Aracaju/SE</td>\n",
       "    </tr>\n",
       "    <tr>\n",
       "      <th>62</th>\n",
       "      <td>Afogados da Ingazeira/PE</td>\n",
       "      <td>14</td>\n",
       "      <td>2.700469</td>\n",
       "      <td>PE</td>\n",
       "      <td>Maceió/AL</td>\n",
       "    </tr>\n",
       "    <tr>\n",
       "      <th>63</th>\n",
       "      <td>Afonso Bezerra/RN</td>\n",
       "      <td>16</td>\n",
       "      <td>1.330577</td>\n",
       "      <td>RN</td>\n",
       "      <td>Natal/RN</td>\n",
       "    </tr>\n",
       "    <tr>\n",
       "      <th>64</th>\n",
       "      <td>Afonso Cláudio/ES</td>\n",
       "      <td>27</td>\n",
       "      <td>0.823306</td>\n",
       "      <td>ES</td>\n",
       "      <td>Vitória/ES</td>\n",
       "    </tr>\n",
       "    <tr>\n",
       "      <th>65</th>\n",
       "      <td>Afonso Cunha/MA</td>\n",
       "      <td>26</td>\n",
       "      <td>1.089236</td>\n",
       "      <td>MA</td>\n",
       "      <td>Teresina/PI</td>\n",
       "    </tr>\n",
       "    <tr>\n",
       "      <th>66</th>\n",
       "      <td>Afrânio/PE</td>\n",
       "      <td>26</td>\n",
       "      <td>3.868704</td>\n",
       "      <td>PE</td>\n",
       "      <td>Teresina/PI</td>\n",
       "    </tr>\n",
       "    <tr>\n",
       "      <th>67</th>\n",
       "      <td>Afuá/PA</td>\n",
       "      <td>13</td>\n",
       "      <td>0.706732</td>\n",
       "      <td>PA</td>\n",
       "      <td>Macapá/AP</td>\n",
       "    </tr>\n",
       "    <tr>\n",
       "      <th>68</th>\n",
       "      <td>Agrestina/PE</td>\n",
       "      <td>20</td>\n",
       "      <td>1.138124</td>\n",
       "      <td>PE</td>\n",
       "      <td>Recife/PE</td>\n",
       "    </tr>\n",
       "    <tr>\n",
       "      <th>69</th>\n",
       "      <td>Agricolândia/PI</td>\n",
       "      <td>26</td>\n",
       "      <td>0.722351</td>\n",
       "      <td>PI</td>\n",
       "      <td>Teresina/PI</td>\n",
       "    </tr>\n",
       "  </tbody>\n",
       "</table>\n",
       "</div>"
      ],
      "text/plain": [
       "                        NAME  NEAR_FID  NEAR_DIST STATE Closest Capital\n",
       "60           Adrianópolis/PR         8   0.820954    PR     Curitiba/PR\n",
       "61               Adustina/BA         1   1.095304    BA      Aracaju/SE\n",
       "62  Afogados da Ingazeira/PE        14   2.700469    PE       Maceió/AL\n",
       "63         Afonso Bezerra/RN        16   1.330577    RN        Natal/RN\n",
       "64         Afonso Cláudio/ES        27   0.823306    ES      Vitória/ES\n",
       "65           Afonso Cunha/MA        26   1.089236    MA     Teresina/PI\n",
       "66                Afrânio/PE        26   3.868704    PE     Teresina/PI\n",
       "67                   Afuá/PA        13   0.706732    PA       Macapá/AP\n",
       "68              Agrestina/PE        20   1.138124    PE       Recife/PE\n",
       "69           Agricolândia/PI        26   0.722351    PI     Teresina/PI"
      ]
     },
     "execution_count": 91,
     "metadata": {},
     "output_type": "execute_result"
    }
   ],
   "source": [
    "distance_cities[\"Closest Capital\"] = [capitals[capitals[\"NEAR_FID\"] == i][\"NAME\"].to_numpy()[0]\n",
    "                              for i in distance_cities[\"NEAR_FID\"]]\n",
    "distance_cities[60:70]"
   ]
  },
  {
   "cell_type": "markdown",
   "id": "integral-circle",
   "metadata": {},
   "source": [
    "### Grouping DF by state and Closest Capital and aggregating using size"
   ]
  },
  {
   "cell_type": "code",
   "execution_count": 92,
   "id": "mathematical-electron",
   "metadata": {},
   "outputs": [
    {
     "data": {
      "text/html": [
       "<div>\n",
       "<style scoped>\n",
       "    .dataframe tbody tr th:only-of-type {\n",
       "        vertical-align: middle;\n",
       "    }\n",
       "\n",
       "    .dataframe tbody tr th {\n",
       "        vertical-align: top;\n",
       "    }\n",
       "\n",
       "    .dataframe thead th {\n",
       "        text-align: right;\n",
       "    }\n",
       "</style>\n",
       "<table border=\"1\" class=\"dataframe\">\n",
       "  <thead>\n",
       "    <tr style=\"text-align: right;\">\n",
       "      <th></th>\n",
       "      <th></th>\n",
       "      <th>Number</th>\n",
       "    </tr>\n",
       "    <tr>\n",
       "      <th>STATE</th>\n",
       "      <th>Closest Capital</th>\n",
       "      <th></th>\n",
       "    </tr>\n",
       "  </thead>\n",
       "  <tbody>\n",
       "    <tr>\n",
       "      <th>AC</th>\n",
       "      <th>Rio Branco/AC</th>\n",
       "      <td>22</td>\n",
       "    </tr>\n",
       "    <tr>\n",
       "      <th rowspan=\"2\" valign=\"top\">AL</th>\n",
       "      <th>Maceió/AL</th>\n",
       "      <td>73</td>\n",
       "    </tr>\n",
       "    <tr>\n",
       "      <th>Aracaju/SE</th>\n",
       "      <td>29</td>\n",
       "    </tr>\n",
       "    <tr>\n",
       "      <th rowspan=\"2\" valign=\"top\">AM</th>\n",
       "      <th>Manaus/AM</th>\n",
       "      <td>39</td>\n",
       "    </tr>\n",
       "    <tr>\n",
       "      <th>Rio Branco/AC</th>\n",
       "      <td>13</td>\n",
       "    </tr>\n",
       "    <tr>\n",
       "      <th>...</th>\n",
       "      <th>...</th>\n",
       "      <td>...</td>\n",
       "    </tr>\n",
       "    <tr>\n",
       "      <th rowspan=\"2\" valign=\"top\">SP</th>\n",
       "      <th>Rio de Janeiro/RJ</th>\n",
       "      <td>9</td>\n",
       "    </tr>\n",
       "    <tr>\n",
       "      <th>Belo Horizonte/MG</th>\n",
       "      <td>1</td>\n",
       "    </tr>\n",
       "    <tr>\n",
       "      <th rowspan=\"3\" valign=\"top\">TO</th>\n",
       "      <th>Palmas/TO</th>\n",
       "      <td>124</td>\n",
       "    </tr>\n",
       "    <tr>\n",
       "      <th>Belém/PA</th>\n",
       "      <td>12</td>\n",
       "    </tr>\n",
       "    <tr>\n",
       "      <th>Brasília/DF</th>\n",
       "      <td>3</td>\n",
       "    </tr>\n",
       "  </tbody>\n",
       "</table>\n",
       "<p>83 rows × 1 columns</p>\n",
       "</div>"
      ],
      "text/plain": [
       "                         Number\n",
       "STATE Closest Capital          \n",
       "AC    Rio Branco/AC          22\n",
       "AL    Maceió/AL              73\n",
       "      Aracaju/SE             29\n",
       "AM    Manaus/AM              39\n",
       "      Rio Branco/AC          13\n",
       "...                         ...\n",
       "SP    Rio de Janeiro/RJ       9\n",
       "      Belo Horizonte/MG       1\n",
       "TO    Palmas/TO             124\n",
       "      Belém/PA               12\n",
       "      Brasília/DF             3\n",
       "\n",
       "[83 rows x 1 columns]"
      ]
     },
     "execution_count": 92,
     "metadata": {},
     "output_type": "execute_result"
    }
   ],
   "source": [
    "grouped_states = distance_cities.groupby([\"STATE\",\"Closest Capital\"]).agg(\"size\").to_frame()\n",
    "grouped_states = grouped_states.rename(columns={0: \"Number\"})\n",
    "grouped_states = grouped_states.sort_values('Number', ascending=False).sort_index(level='STATE', sort_remaining=False)\n",
    "grouped_states"
   ]
  },
  {
   "cell_type": "markdown",
   "id": "derived-forth",
   "metadata": {},
   "source": [
    "### Getting the number of cities closer to each capital"
   ]
  },
  {
   "cell_type": "code",
   "execution_count": 93,
   "id": "comic-cisco",
   "metadata": {},
   "outputs": [
    {
     "data": {
      "text/plain": [
       "Porto Alegre/RS      585\n",
       "Curitiba/PR          489\n",
       "São Paulo/SP         486\n",
       "Belo Horizonte/MG    461\n",
       "Salvador/BA          344\n",
       "Teresina/PI          319\n",
       "Goiânia/GO           296\n",
       "Campo Grande/MS      247\n",
       "Fortaleza/CE         224\n",
       "Palmas/TO            207\n",
       "dtype: int64"
      ]
     },
     "execution_count": 93,
     "metadata": {},
     "output_type": "execute_result"
    }
   ],
   "source": [
    "close_sum = pd.Series({i:grouped_states.xs(i,level=1).sum().to_numpy()[0] for i in capitals[\"NAME\"]})\n",
    "close_sum_sorted = close_sum.sort_values(ascending=False)\n",
    "close_sum_sorted.head(10)"
   ]
  },
  {
   "cell_type": "markdown",
   "id": "speaking-trust",
   "metadata": {},
   "source": [
    "### Getting the number of cities within the state which are closer to its capital"
   ]
  },
  {
   "cell_type": "code",
   "execution_count": 94,
   "id": "frank-representation",
   "metadata": {},
   "outputs": [
    {
     "data": {
      "text/plain": [
       "Porto Alegre/RS      497\n",
       "Belo Horizonte/MG    460\n",
       "São Paulo/SP         385\n",
       "Salvador/BA          325\n",
       "Curitiba/PR          306\n",
       "Teresina/PI          205\n",
       "Goiânia/GO           179\n",
       "Fortaleza/CE         156\n",
       "Florianópolis/SC     136\n",
       "Palmas/TO            124\n",
       "dtype: int64"
      ]
     },
     "execution_count": 94,
     "metadata": {},
     "output_type": "execute_result"
    }
   ],
   "source": [
    "state_cities = pd.Series({j:grouped_states.loc[i,j].to_numpy()[0] for i,j in zip(capitals[\"STATE\"],capitals[\"NAME\"])})\n",
    "state_cities_sorted = state_cities.sort_values(ascending=False)\n",
    "state_cities_sorted.head(10)"
   ]
  },
  {
   "cell_type": "markdown",
   "id": "upset-seafood",
   "metadata": {},
   "source": [
    "### Getting the number of cities per state"
   ]
  },
  {
   "cell_type": "code",
   "execution_count": 95,
   "id": "exclusive-gregory",
   "metadata": {},
   "outputs": [
    {
     "data": {
      "text/plain": [
       "MG    853\n",
       "SP    645\n",
       "RS    497\n",
       "BA    417\n",
       "PR    399\n",
       "SC    293\n",
       "GO    246\n",
       "PB    223\n",
       "PI    222\n",
       "MA    217\n",
       "dtype: int64"
      ]
     },
     "execution_count": 95,
     "metadata": {},
     "output_type": "execute_result"
    }
   ],
   "source": [
    "number_of_cities = pd.Series({i:grouped_states.xs(i).sum().to_numpy()[0] for i in capitals[\"STATE\"]})\n",
    "number_of_cities_sorted = number_of_cities.sort_values(ascending=False)\n",
    "number_of_cities_sorted.head(10)"
   ]
  },
  {
   "cell_type": "markdown",
   "id": "biblical-segment",
   "metadata": {},
   "source": [
    "### Ploting the percent of state cities within the capital's influence zone"
   ]
  },
  {
   "cell_type": "code",
   "execution_count": 96,
   "id": "negative-graham",
   "metadata": {},
   "outputs": [
    {
     "data": {
      "image/png": "[encoded data removed]",
      "text/plain": [
       "<Figure size 720x432 with 1 Axes>"
      ]
     },
     "metadata": {
      "needs_background": "light"
     },
     "output_type": "display_data"
    }
   ],
   "source": [
    "state_capitals = capitals[\"NAME\"].unique()\n",
    "percent_of_cities = pd.Series({state_capitals[i]:(state_cities[i]/number_of_cities[i])*100 for i in range(27)})\n",
    "percent_of_cities = percent_of_cities.sort_values(ascending=True).tail(10)\n",
    "plt.barh(percent_of_cities.index,percent_of_cities.values)\n",
    "plt.title(\"Zona de influência estadual da capital\")\n",
    "plt.xlabel('% de cidades do estado mais próximas da capital')\n",
    "plt.ylabel('Capital')\n",
    "plt.grid(lw=\"0.2\")\n",
    "plt.show()"
   ]
  },
  {
   "cell_type": "markdown",
   "id": "failing-energy",
   "metadata": {},
   "source": [
    "### Ploting the percent of all cities within the capital's influence zone"
   ]
  },
  {
   "cell_type": "code",
   "execution_count": 97,
   "id": "competent-legislature",
   "metadata": {},
   "outputs": [
    {
     "name": "stdout",
     "output_type": "stream",
     "text": [
      "5560\n"
     ]
    },
    {
     "data": {
      "image/png": "[encoded data removed]",
      "text/plain": [
       "<Figure size 720x432 with 1 Axes>"
      ]
     },
     "metadata": {
      "needs_background": "light"
     },
     "output_type": "display_data"
    }
   ],
   "source": [
    "print(number_of_cities.sum())\n",
    "percent_of_cities_national = pd.Series({state_capitals[i]:(close_sum[i]/number_of_cities.sum())*100 for i in range(27)})\n",
    "percent_of_cities_national = percent_of_cities_national.sort_values(ascending=True).tail(10)\n",
    "plt.barh(percent_of_cities_national.index,percent_of_cities_national.values)\n",
    "plt.title(\"Zona de influência nacional da capital\")\n",
    "plt.xlabel('% de cidades do estado (ou interestaduais) mais próximas')\n",
    "plt.ylabel('Capital')\n",
    "plt.grid(lw=\"0.2\")\n",
    "plt.show()"
   ]
  },
  {
   "cell_type": "code",
   "execution_count": null,
   "id": "royal-produce",
   "metadata": {},
   "outputs": [],
   "source": []
  }
 ],
 "metadata": {
  "kernelspec": {
   "display_name": "Python 3",
   "language": "python",
   "name": "python3"
  },
  "language_info": {
   "codemirror_mode": {
    "name": "ipython",
    "version": 3
   },
   "file_extension": ".py",
   "mimetype": "text/x-python",
   "name": "python",
   "nbconvert_exporter": "python",
   "pygments_lexer": "ipython3",
   "version": "3.8.6"
  }
 },
 "nbformat": 4,
 "nbformat_minor": 5
}
