{
 "cells": [
  {
   "cell_type": "markdown",
   "id": "listed-devon",
   "metadata": {},
   "source": [
    "# Closest Capital - Population Analysis"
   ]
  },
  {
   "cell_type": "code",
   "execution_count": 153,
   "id": "computational-lithuania",
   "metadata": {},
   "outputs": [],
   "source": [
    "import pandas as pd\n",
    "from simpledbf import Dbf5 as db\n",
    "import numpy as np\n",
    "import matplotlib.pyplot as plt\n",
    "%matplotlib inline\n",
    "plt.rcParams[\"figure.figsize\"] = [10, 6]"
   ]
  },
  {
   "cell_type": "markdown",
   "id": "logical-boundary",
   "metadata": {},
   "source": [
    "### Reading dbf and excel,converting, adding STATE column and creating DF with state capitals"
   ]
  },
  {
   "cell_type": "code",
   "execution_count": 154,
   "id": "increasing-fountain",
   "metadata": {},
   "outputs": [
    {
     "data": {
      "text/html": [
       "<div>\n",
       "<style scoped>\n",
       "    .dataframe tbody tr th:only-of-type {\n",
       "        vertical-align: middle;\n",
       "    }\n",
       "\n",
       "    .dataframe tbody tr th {\n",
       "        vertical-align: top;\n",
       "    }\n",
       "\n",
       "    .dataframe thead th {\n",
       "        text-align: right;\n",
       "    }\n",
       "</style>\n",
       "<table border=\"1\" class=\"dataframe\">\n",
       "  <thead>\n",
       "    <tr style=\"text-align: right;\">\n",
       "      <th></th>\n",
       "      <th>NAME</th>\n",
       "      <th>NEAR_FID</th>\n",
       "      <th>NEAR_DIST</th>\n",
       "      <th>STATE</th>\n",
       "    </tr>\n",
       "  </thead>\n",
       "  <tbody>\n",
       "    <tr>\n",
       "      <th>0</th>\n",
       "      <td>Aracaju/SE</td>\n",
       "      <td>1</td>\n",
       "      <td>1.279808e-10</td>\n",
       "      <td>SE</td>\n",
       "    </tr>\n",
       "    <tr>\n",
       "      <th>1</th>\n",
       "      <td>Belém/PA</td>\n",
       "      <td>2</td>\n",
       "      <td>1.580439e-10</td>\n",
       "      <td>PA</td>\n",
       "    </tr>\n",
       "    <tr>\n",
       "      <th>2</th>\n",
       "      <td>Belo Horizonte/MG</td>\n",
       "      <td>3</td>\n",
       "      <td>5.696375e-10</td>\n",
       "      <td>MG</td>\n",
       "    </tr>\n",
       "    <tr>\n",
       "      <th>3</th>\n",
       "      <td>Boa Vista/RR</td>\n",
       "      <td>4</td>\n",
       "      <td>3.281908e-10</td>\n",
       "      <td>RR</td>\n",
       "    </tr>\n",
       "    <tr>\n",
       "      <th>4</th>\n",
       "      <td>Brasília/DF</td>\n",
       "      <td>5</td>\n",
       "      <td>4.157356e-10</td>\n",
       "      <td>DF</td>\n",
       "    </tr>\n",
       "    <tr>\n",
       "      <th>...</th>\n",
       "      <td>...</td>\n",
       "      <td>...</td>\n",
       "      <td>...</td>\n",
       "      <td>...</td>\n",
       "    </tr>\n",
       "    <tr>\n",
       "      <th>5555</th>\n",
       "      <td>Xique-Xique/BA</td>\n",
       "      <td>23</td>\n",
       "      <td>4.735711e+00</td>\n",
       "      <td>BA</td>\n",
       "    </tr>\n",
       "    <tr>\n",
       "      <th>5556</th>\n",
       "      <td>Zabelê/PB</td>\n",
       "      <td>14</td>\n",
       "      <td>2.094263e+00</td>\n",
       "      <td>PB</td>\n",
       "    </tr>\n",
       "    <tr>\n",
       "      <th>5557</th>\n",
       "      <td>Zacarias/SP</td>\n",
       "      <td>25</td>\n",
       "      <td>4.229949e+00</td>\n",
       "      <td>SP</td>\n",
       "    </tr>\n",
       "    <tr>\n",
       "      <th>5558</th>\n",
       "      <td>Zé Doca/MA</td>\n",
       "      <td>24</td>\n",
       "      <td>1.679836e+00</td>\n",
       "      <td>MA</td>\n",
       "    </tr>\n",
       "    <tr>\n",
       "      <th>5559</th>\n",
       "      <td>Zortéa/SC</td>\n",
       "      <td>18</td>\n",
       "      <td>2.602383e+00</td>\n",
       "      <td>SC</td>\n",
       "    </tr>\n",
       "  </tbody>\n",
       "</table>\n",
       "<p>5560 rows × 4 columns</p>\n",
       "</div>"
      ],
      "text/plain": [
       "                   NAME  NEAR_FID     NEAR_DIST STATE\n",
       "0            Aracaju/SE         1  1.279808e-10    SE\n",
       "1              Belém/PA         2  1.580439e-10    PA\n",
       "2     Belo Horizonte/MG         3  5.696375e-10    MG\n",
       "3          Boa Vista/RR         4  3.281908e-10    RR\n",
       "4           Brasília/DF         5  4.157356e-10    DF\n",
       "...                 ...       ...           ...   ...\n",
       "5555     Xique-Xique/BA        23  4.735711e+00    BA\n",
       "5556          Zabelê/PB        14  2.094263e+00    PB\n",
       "5557        Zacarias/SP        25  4.229949e+00    SP\n",
       "5558         Zé Doca/MA        24  1.679836e+00    MA\n",
       "5559          Zortéa/SC        18  2.602383e+00    SC\n",
       "\n",
       "[5560 rows x 4 columns]"
      ]
     },
     "execution_count": 154,
     "metadata": {},
     "output_type": "execute_result"
    }
   ],
   "source": [
    "dbf = db(\"distances_brasil.dbf\")\n",
    "distance_cities = dbf.to_dataframe()\n",
    "population = pd.read_excel(\"output_distance.xlsx\")\n",
    "distance_cities = distance_cities.drop([\"codmun1\"],axis=1)\n",
    "population = population.drop([\"Unnamed: 0\"],axis=1)\n",
    "distance_cities.at[distance_cities[distance_cities[\"NAME\"]==\"São Francisco de Assis do Piauí/P\"].index[0],\n",
    "          \"NAME\"] = \"São Francisco de Assis do Piauí/PI\"\n",
    "distance_cities.at[distance_cities[distance_cities[\"NAME\"]==\"Vila Bela da Santíssima Trindade/M\"].index[0],\n",
    "          \"NAME\"] = \"Vila Bela da Santíssima Trindade/MT\"\n",
    "distance_cities.at[distance_cities[distance_cities[\"NAME\"]==\"São Sebastião de Lagoa de Roça/P\"].index[0],\n",
    "          \"NAME\"] = \"São Sebastião de Lagoa de Roça/PB\"\n",
    "distance_cities[\"STATE\"] = [i.split(\"/\")[-1] for i in distance_cities[\"NAME\"]]\n",
    "distance_cities"
   ]
  },
  {
   "cell_type": "code",
   "execution_count": 155,
   "id": "difficult-receiver",
   "metadata": {},
   "outputs": [],
   "source": [
    "capitals = distance_cities[distance_cities.index < 27]"
   ]
  },
  {
   "cell_type": "markdown",
   "id": "synthetic-equality",
   "metadata": {},
   "source": [
    "### Merging population and distance_cities DFs"
   ]
  },
  {
   "cell_type": "code",
   "execution_count": 156,
   "id": "universal-japanese",
   "metadata": {},
   "outputs": [
    {
     "data": {
      "text/html": [
       "<div>\n",
       "<style scoped>\n",
       "    .dataframe tbody tr th:only-of-type {\n",
       "        vertical-align: middle;\n",
       "    }\n",
       "\n",
       "    .dataframe tbody tr th {\n",
       "        vertical-align: top;\n",
       "    }\n",
       "\n",
       "    .dataframe thead th {\n",
       "        text-align: right;\n",
       "    }\n",
       "</style>\n",
       "<table border=\"1\" class=\"dataframe\">\n",
       "  <thead>\n",
       "    <tr style=\"text-align: right;\">\n",
       "      <th></th>\n",
       "      <th>NAME</th>\n",
       "      <th>POPULAÇÃO ESTIMADA</th>\n",
       "      <th>STATE</th>\n",
       "      <th>NEAR_FID</th>\n",
       "      <th>NEAR_DIST</th>\n",
       "    </tr>\n",
       "  </thead>\n",
       "  <tbody>\n",
       "    <tr>\n",
       "      <th>0</th>\n",
       "      <td>Aracaju/SE</td>\n",
       "      <td>632744</td>\n",
       "      <td>SE</td>\n",
       "      <td>1</td>\n",
       "      <td>1.279808e-10</td>\n",
       "    </tr>\n",
       "    <tr>\n",
       "      <th>1</th>\n",
       "      <td>Belém/PA</td>\n",
       "      <td>1439561</td>\n",
       "      <td>PA</td>\n",
       "      <td>2</td>\n",
       "      <td>1.580439e-10</td>\n",
       "    </tr>\n",
       "    <tr>\n",
       "      <th>2</th>\n",
       "      <td>Belo Horizonte/MG</td>\n",
       "      <td>2502557</td>\n",
       "      <td>MG</td>\n",
       "      <td>3</td>\n",
       "      <td>5.696375e-10</td>\n",
       "    </tr>\n",
       "    <tr>\n",
       "      <th>3</th>\n",
       "      <td>Boa Vista/RR</td>\n",
       "      <td>320714</td>\n",
       "      <td>RR</td>\n",
       "      <td>4</td>\n",
       "      <td>3.281908e-10</td>\n",
       "    </tr>\n",
       "    <tr>\n",
       "      <th>4</th>\n",
       "      <td>Brasília/DF</td>\n",
       "      <td>2914830</td>\n",
       "      <td>DF</td>\n",
       "      <td>5</td>\n",
       "      <td>4.157356e-10</td>\n",
       "    </tr>\n",
       "    <tr>\n",
       "      <th>...</th>\n",
       "      <td>...</td>\n",
       "      <td>...</td>\n",
       "      <td>...</td>\n",
       "      <td>...</td>\n",
       "      <td>...</td>\n",
       "    </tr>\n",
       "    <tr>\n",
       "      <th>5555</th>\n",
       "      <td>Xique-Xique/BA</td>\n",
       "      <td>48316</td>\n",
       "      <td>BA</td>\n",
       "      <td>23</td>\n",
       "      <td>4.735711e+00</td>\n",
       "    </tr>\n",
       "    <tr>\n",
       "      <th>5556</th>\n",
       "      <td>Zabelê/PB</td>\n",
       "      <td>2208</td>\n",
       "      <td>PB</td>\n",
       "      <td>14</td>\n",
       "      <td>2.094263e+00</td>\n",
       "    </tr>\n",
       "    <tr>\n",
       "      <th>5557</th>\n",
       "      <td>Zacarias/SP</td>\n",
       "      <td>2574</td>\n",
       "      <td>SP</td>\n",
       "      <td>25</td>\n",
       "      <td>4.229949e+00</td>\n",
       "    </tr>\n",
       "    <tr>\n",
       "      <th>5558</th>\n",
       "      <td>Zé Doca/MA</td>\n",
       "      <td>50507</td>\n",
       "      <td>MA</td>\n",
       "      <td>24</td>\n",
       "      <td>1.679836e+00</td>\n",
       "    </tr>\n",
       "    <tr>\n",
       "      <th>5559</th>\n",
       "      <td>Zortéa/SC</td>\n",
       "      <td>3227</td>\n",
       "      <td>SC</td>\n",
       "      <td>18</td>\n",
       "      <td>2.602383e+00</td>\n",
       "    </tr>\n",
       "  </tbody>\n",
       "</table>\n",
       "<p>5560 rows × 5 columns</p>\n",
       "</div>"
      ],
      "text/plain": [
       "                   NAME POPULAÇÃO ESTIMADA STATE  NEAR_FID     NEAR_DIST\n",
       "0            Aracaju/SE             632744    SE         1  1.279808e-10\n",
       "1              Belém/PA            1439561    PA         2  1.580439e-10\n",
       "2     Belo Horizonte/MG            2502557    MG         3  5.696375e-10\n",
       "3          Boa Vista/RR             320714    RR         4  3.281908e-10\n",
       "4           Brasília/DF            2914830    DF         5  4.157356e-10\n",
       "...                 ...                ...   ...       ...           ...\n",
       "5555     Xique-Xique/BA              48316    BA        23  4.735711e+00\n",
       "5556          Zabelê/PB               2208    PB        14  2.094263e+00\n",
       "5557        Zacarias/SP               2574    SP        25  4.229949e+00\n",
       "5558         Zé Doca/MA              50507    MA        24  1.679836e+00\n",
       "5559          Zortéa/SC               3227    SC        18  2.602383e+00\n",
       "\n",
       "[5560 rows x 5 columns]"
      ]
     },
     "execution_count": 156,
     "metadata": {},
     "output_type": "execute_result"
    }
   ],
   "source": [
    "pop_cities = pd.merge(population, distance_cities)\n",
    "pop_cities"
   ]
  },
  {
   "cell_type": "code",
   "execution_count": 157,
   "id": "sapphire-lighter",
   "metadata": {},
   "outputs": [],
   "source": [
    "#pop_cities_capital = pd.merge(population, capitals, left_index=True, right_index=True)"
   ]
  },
  {
   "cell_type": "markdown",
   "id": "welcome-stations",
   "metadata": {},
   "source": [
    "### Adding the column Closest Capital, with the closest capital to each brazilian city"
   ]
  },
  {
   "cell_type": "code",
   "execution_count": 158,
   "id": "desperate-wichita",
   "metadata": {},
   "outputs": [
    {
     "data": {
      "text/html": [
       "<div>\n",
       "<style scoped>\n",
       "    .dataframe tbody tr th:only-of-type {\n",
       "        vertical-align: middle;\n",
       "    }\n",
       "\n",
       "    .dataframe tbody tr th {\n",
       "        vertical-align: top;\n",
       "    }\n",
       "\n",
       "    .dataframe thead th {\n",
       "        text-align: right;\n",
       "    }\n",
       "</style>\n",
       "<table border=\"1\" class=\"dataframe\">\n",
       "  <thead>\n",
       "    <tr style=\"text-align: right;\">\n",
       "      <th></th>\n",
       "      <th>NAME</th>\n",
       "      <th>POPULAÇÃO ESTIMADA</th>\n",
       "      <th>STATE</th>\n",
       "      <th>NEAR_FID</th>\n",
       "      <th>NEAR_DIST</th>\n",
       "      <th>Closest Capital</th>\n",
       "    </tr>\n",
       "  </thead>\n",
       "  <tbody>\n",
       "    <tr>\n",
       "      <th>0</th>\n",
       "      <td>Aracaju/SE</td>\n",
       "      <td>632744</td>\n",
       "      <td>SE</td>\n",
       "      <td>1</td>\n",
       "      <td>1.279808e-10</td>\n",
       "      <td>Aracaju/SE</td>\n",
       "    </tr>\n",
       "    <tr>\n",
       "      <th>1</th>\n",
       "      <td>Belém/PA</td>\n",
       "      <td>1439561</td>\n",
       "      <td>PA</td>\n",
       "      <td>2</td>\n",
       "      <td>1.580439e-10</td>\n",
       "      <td>Belém/PA</td>\n",
       "    </tr>\n",
       "    <tr>\n",
       "      <th>2</th>\n",
       "      <td>Belo Horizonte/MG</td>\n",
       "      <td>2502557</td>\n",
       "      <td>MG</td>\n",
       "      <td>3</td>\n",
       "      <td>5.696375e-10</td>\n",
       "      <td>Belo Horizonte/MG</td>\n",
       "    </tr>\n",
       "    <tr>\n",
       "      <th>3</th>\n",
       "      <td>Boa Vista/RR</td>\n",
       "      <td>320714</td>\n",
       "      <td>RR</td>\n",
       "      <td>4</td>\n",
       "      <td>3.281908e-10</td>\n",
       "      <td>Boa Vista/RR</td>\n",
       "    </tr>\n",
       "    <tr>\n",
       "      <th>4</th>\n",
       "      <td>Brasília/DF</td>\n",
       "      <td>2914830</td>\n",
       "      <td>DF</td>\n",
       "      <td>5</td>\n",
       "      <td>4.157356e-10</td>\n",
       "      <td>Brasília/DF</td>\n",
       "    </tr>\n",
       "    <tr>\n",
       "      <th>...</th>\n",
       "      <td>...</td>\n",
       "      <td>...</td>\n",
       "      <td>...</td>\n",
       "      <td>...</td>\n",
       "      <td>...</td>\n",
       "      <td>...</td>\n",
       "    </tr>\n",
       "    <tr>\n",
       "      <th>5555</th>\n",
       "      <td>Xique-Xique/BA</td>\n",
       "      <td>48316</td>\n",
       "      <td>BA</td>\n",
       "      <td>23</td>\n",
       "      <td>4.735711e+00</td>\n",
       "      <td>Salvador/BA</td>\n",
       "    </tr>\n",
       "    <tr>\n",
       "      <th>5556</th>\n",
       "      <td>Zabelê/PB</td>\n",
       "      <td>2208</td>\n",
       "      <td>PB</td>\n",
       "      <td>14</td>\n",
       "      <td>2.094263e+00</td>\n",
       "      <td>Maceió/AL</td>\n",
       "    </tr>\n",
       "    <tr>\n",
       "      <th>5557</th>\n",
       "      <td>Zacarias/SP</td>\n",
       "      <td>2574</td>\n",
       "      <td>SP</td>\n",
       "      <td>25</td>\n",
       "      <td>4.229949e+00</td>\n",
       "      <td>São Paulo/SP</td>\n",
       "    </tr>\n",
       "    <tr>\n",
       "      <th>5558</th>\n",
       "      <td>Zé Doca/MA</td>\n",
       "      <td>50507</td>\n",
       "      <td>MA</td>\n",
       "      <td>24</td>\n",
       "      <td>1.679836e+00</td>\n",
       "      <td>São Luís/MA</td>\n",
       "    </tr>\n",
       "    <tr>\n",
       "      <th>5559</th>\n",
       "      <td>Zortéa/SC</td>\n",
       "      <td>3227</td>\n",
       "      <td>SC</td>\n",
       "      <td>18</td>\n",
       "      <td>2.602383e+00</td>\n",
       "      <td>Porto Alegre/RS</td>\n",
       "    </tr>\n",
       "  </tbody>\n",
       "</table>\n",
       "<p>5560 rows × 6 columns</p>\n",
       "</div>"
      ],
      "text/plain": [
       "                   NAME POPULAÇÃO ESTIMADA STATE  NEAR_FID     NEAR_DIST  \\\n",
       "0            Aracaju/SE             632744    SE         1  1.279808e-10   \n",
       "1              Belém/PA            1439561    PA         2  1.580439e-10   \n",
       "2     Belo Horizonte/MG            2502557    MG         3  5.696375e-10   \n",
       "3          Boa Vista/RR             320714    RR         4  3.281908e-10   \n",
       "4           Brasília/DF            2914830    DF         5  4.157356e-10   \n",
       "...                 ...                ...   ...       ...           ...   \n",
       "5555     Xique-Xique/BA              48316    BA        23  4.735711e+00   \n",
       "5556          Zabelê/PB               2208    PB        14  2.094263e+00   \n",
       "5557        Zacarias/SP               2574    SP        25  4.229949e+00   \n",
       "5558         Zé Doca/MA              50507    MA        24  1.679836e+00   \n",
       "5559          Zortéa/SC               3227    SC        18  2.602383e+00   \n",
       "\n",
       "        Closest Capital  \n",
       "0            Aracaju/SE  \n",
       "1              Belém/PA  \n",
       "2     Belo Horizonte/MG  \n",
       "3          Boa Vista/RR  \n",
       "4           Brasília/DF  \n",
       "...                 ...  \n",
       "5555        Salvador/BA  \n",
       "5556          Maceió/AL  \n",
       "5557       São Paulo/SP  \n",
       "5558        São Luís/MA  \n",
       "5559    Porto Alegre/RS  \n",
       "\n",
       "[5560 rows x 6 columns]"
      ]
     },
     "execution_count": 158,
     "metadata": {},
     "output_type": "execute_result"
    }
   ],
   "source": [
    "pop_cities[\"Closest Capital\"] = [capitals[capitals[\"NEAR_FID\"] == i][\"NAME\"].to_numpy()[0]\n",
    "                              for i in pop_cities[\"NEAR_FID\"]]\n",
    "pop_cities"
   ]
  },
  {
   "cell_type": "markdown",
   "id": "quick-desert",
   "metadata": {},
   "source": [
    "### Correcting cell and converting population to int"
   ]
  },
  {
   "cell_type": "code",
   "execution_count": 159,
   "id": "comprehensive-newark",
   "metadata": {},
   "outputs": [],
   "source": [
    "pop_cities.at[pop_cities[pop_cities[\"POPULAÇÃO ESTIMADA\"] == \"41.487(*)\"].index[0],\n",
    "          \"POPULAÇÃO ESTIMADA\"] = \"41487\"\n",
    "pop_cities[\"POPULAÇÃO ESTIMADA\"] = pop_cities[\"POPULAÇÃO ESTIMADA\"].astype(int)"
   ]
  },
  {
   "cell_type": "markdown",
   "id": "early-syndication",
   "metadata": {},
   "source": [
    "### Grouping DF by state and Closest Capital summing population"
   ]
  },
  {
   "cell_type": "code",
   "execution_count": 160,
   "id": "placed-tennis",
   "metadata": {},
   "outputs": [
    {
     "data": {
      "text/html": [
       "<div>\n",
       "<style scoped>\n",
       "    .dataframe tbody tr th:only-of-type {\n",
       "        vertical-align: middle;\n",
       "    }\n",
       "\n",
       "    .dataframe tbody tr th {\n",
       "        vertical-align: top;\n",
       "    }\n",
       "\n",
       "    .dataframe thead th {\n",
       "        text-align: right;\n",
       "    }\n",
       "</style>\n",
       "<table border=\"1\" class=\"dataframe\">\n",
       "  <thead>\n",
       "    <tr style=\"text-align: right;\">\n",
       "      <th></th>\n",
       "      <th></th>\n",
       "      <th>POPULAÇÃO ESTIMADA</th>\n",
       "    </tr>\n",
       "    <tr>\n",
       "      <th>STATE</th>\n",
       "      <th>Closest Capital</th>\n",
       "      <th></th>\n",
       "    </tr>\n",
       "  </thead>\n",
       "  <tbody>\n",
       "    <tr>\n",
       "      <th>AC</th>\n",
       "      <th>Rio Branco/AC</th>\n",
       "      <td>803513</td>\n",
       "    </tr>\n",
       "    <tr>\n",
       "      <th rowspan=\"2\" valign=\"top\">AL</th>\n",
       "      <th>Maceió/AL</th>\n",
       "      <td>2782411</td>\n",
       "    </tr>\n",
       "    <tr>\n",
       "      <th>Aracaju/SE</th>\n",
       "      <td>558521</td>\n",
       "    </tr>\n",
       "    <tr>\n",
       "      <th rowspan=\"2\" valign=\"top\">AM</th>\n",
       "      <th>Manaus/AM</th>\n",
       "      <td>3322582</td>\n",
       "    </tr>\n",
       "    <tr>\n",
       "      <th>Rio Branco/AC</th>\n",
       "      <td>346268</td>\n",
       "    </tr>\n",
       "    <tr>\n",
       "      <th>...</th>\n",
       "      <th>...</th>\n",
       "      <td>...</td>\n",
       "    </tr>\n",
       "    <tr>\n",
       "      <th rowspan=\"2\" valign=\"top\">SP</th>\n",
       "      <th>Rio de Janeiro/RJ</th>\n",
       "      <td>160529</td>\n",
       "    </tr>\n",
       "    <tr>\n",
       "      <th>Belo Horizonte/MG</th>\n",
       "      <td>3597</td>\n",
       "    </tr>\n",
       "    <tr>\n",
       "      <th rowspan=\"3\" valign=\"top\">TO</th>\n",
       "      <th>Palmas/TO</th>\n",
       "      <td>1363128</td>\n",
       "    </tr>\n",
       "    <tr>\n",
       "      <th>Belém/PA</th>\n",
       "      <td>131224</td>\n",
       "    </tr>\n",
       "    <tr>\n",
       "      <th>Brasília/DF</th>\n",
       "      <td>20774</td>\n",
       "    </tr>\n",
       "  </tbody>\n",
       "</table>\n",
       "<p>83 rows × 1 columns</p>\n",
       "</div>"
      ],
      "text/plain": [
       "                         POPULAÇÃO ESTIMADA\n",
       "STATE Closest Capital                      \n",
       "AC    Rio Branco/AC                  803513\n",
       "AL    Maceió/AL                     2782411\n",
       "      Aracaju/SE                     558521\n",
       "AM    Manaus/AM                     3322582\n",
       "      Rio Branco/AC                  346268\n",
       "...                                     ...\n",
       "SP    Rio de Janeiro/RJ              160529\n",
       "      Belo Horizonte/MG                3597\n",
       "TO    Palmas/TO                     1363128\n",
       "      Belém/PA                       131224\n",
       "      Brasília/DF                     20774\n",
       "\n",
       "[83 rows x 1 columns]"
      ]
     },
     "execution_count": 160,
     "metadata": {},
     "output_type": "execute_result"
    }
   ],
   "source": [
    "grouped_states = pop_cities.groupby([\"STATE\",\"Closest Capital\"])[\"POPULAÇÃO ESTIMADA\"].sum().to_frame()\n",
    "grouped_states = grouped_states.sort_values('POPULAÇÃO ESTIMADA', ascending=False).sort_index(level='STATE', sort_remaining=False)\n",
    "grouped_states"
   ]
  },
  {
   "cell_type": "markdown",
   "id": "heated-group",
   "metadata": {},
   "source": [
    "### Getting the population closer to each capital - nationwide level"
   ]
  },
  {
   "cell_type": "code",
   "execution_count": 161,
   "id": "crucial-omega",
   "metadata": {},
   "outputs": [
    {
     "data": {
      "text/plain": [
       "São Paulo/SP         42127566\n",
       "Rio de Janeiro/RJ    17393326\n",
       "Curitiba/PR          13425941\n",
       "Belo Horizonte/MG    13324194\n",
       "Salvador/BA          12629410\n",
       "Porto Alegre/RS      12196077\n",
       "Fortaleza/CE          9117623\n",
       "Goiânia/GO            7405562\n",
       "Vitória/ES            6725499\n",
       "Recife/PE             6437819\n",
       "dtype: int64"
      ]
     },
     "execution_count": 161,
     "metadata": {},
     "output_type": "execute_result"
    }
   ],
   "source": [
    "close_sum = pd.Series({i:grouped_states.xs(i,level=1).sum().to_numpy()[0] for i in capitals[\"NAME\"]})\n",
    "close_sum_sorted = close_sum.sort_values(ascending=False)\n",
    "close_sum_sorted.head(10)"
   ]
  },
  {
   "cell_type": "markdown",
   "id": "sonic-blocking",
   "metadata": {},
   "source": [
    "### Getting the population closer to each capital - state level"
   ]
  },
  {
   "cell_type": "code",
   "execution_count": 162,
   "id": "fixed-undergraduate",
   "metadata": {},
   "outputs": [
    {
     "data": {
      "text/plain": [
       "São Paulo/SP         40394666\n",
       "Rio de Janeiro/RJ    15770090\n",
       "Belo Horizonte/MG    13320597\n",
       "Salvador/BA          12383385\n",
       "Porto Alegre/RS      11247972\n",
       "Curitiba/PR           9708300\n",
       "Fortaleza/CE          8154460\n",
       "Recife/PE             6310945\n",
       "Belém/PA              5783048\n",
       "Goiânia/GO            4915758\n",
       "dtype: int64"
      ]
     },
     "execution_count": 162,
     "metadata": {},
     "output_type": "execute_result"
    }
   ],
   "source": [
    "state_cities = pd.Series({j:grouped_states.loc[i,j].to_numpy()[0] for i,j in zip(capitals[\"STATE\"],capitals[\"NAME\"])})\n",
    "state_cities_sorted = state_cities.sort_values(ascending=False)\n",
    "state_cities_sorted.head(10)"
   ]
  },
  {
   "cell_type": "markdown",
   "id": "static-appraisal",
   "metadata": {},
   "source": [
    "### Getting the population by state"
   ]
  },
  {
   "cell_type": "code",
   "execution_count": 163,
   "id": "processed-recall",
   "metadata": {},
   "outputs": [
    {
     "data": {
      "text/plain": [
       "SP    44396484\n",
       "MG    20869101\n",
       "RJ    16550024\n",
       "BA    15203934\n",
       "RS    11247972\n",
       "PR    11163018\n",
       "PE     9342243\n",
       "CE     8904459\n",
       "PA     8191477\n",
       "MA     6904241\n",
       "dtype: int64"
      ]
     },
     "execution_count": 163,
     "metadata": {},
     "output_type": "execute_result"
    }
   ],
   "source": [
    "state_pop = pd.Series({i:grouped_states.xs(i).sum().to_numpy()[0] for i in capitals[\"STATE\"]})\n",
    "state_pop_sorted = state_pop.sort_values(ascending=False)\n",
    "state_pop_sorted.head(10)"
   ]
  },
  {
   "cell_type": "markdown",
   "id": "settled-audio",
   "metadata": {},
   "source": [
    "### Ploting the percent of population within the capital's influence zone - statet level"
   ]
  },
  {
   "cell_type": "code",
   "execution_count": 164,
   "id": "twenty-latin",
   "metadata": {},
   "outputs": [
    {
     "data": {
      "image/png": "[encoded data removed]",
      "text/plain": [
       "<Figure size 720x432 with 1 Axes>"
      ]
     },
     "metadata": {
      "needs_background": "light"
     },
     "output_type": "display_data"
    }
   ],
   "source": [
    "state_capitals = capitals[\"NAME\"].unique()\n",
    "percent_of_cities = pd.Series({state_capitals[i]:(state_cities[i]/state_pop[i])*100 for i in range(27)})\n",
    "percent_of_cities = percent_of_cities.sort_values(ascending=True).tail(10)\n",
    "plt.barh(percent_of_cities.index,percent_of_cities.values)\n",
    "plt.title(\"% da população do estado na zona de influência da capital\")\n",
    "plt.xlabel('Porcentagem da população')\n",
    "plt.ylabel('Capital')\n",
    "plt.grid(lw=\"0.2\")\n",
    "plt.show()"
   ]
  },
  {
   "cell_type": "markdown",
   "id": "dietary-continuity",
   "metadata": {},
   "source": [
    "### Ploting the percent of population within the capital's influence zone - nationwide level"
   ]
  },
  {
   "cell_type": "code",
   "execution_count": 165,
   "id": "equipped-horizontal",
   "metadata": {},
   "outputs": [
    {
     "data": {
      "image/png": "[encoded data removed]",
      "text/plain": [
       "<Figure size 720x432 with 1 Axes>"
      ]
     },
     "metadata": {
      "needs_background": "light"
     },
     "output_type": "display_data"
    }
   ],
   "source": [
    "percent_of_cities_national = pd.Series({state_capitals[i]:(close_sum[i]/state_pop.sum())*100 for i in range(27)})\n",
    "percent_of_cities_national = percent_of_cities_national.sort_values(ascending=True).tail(10)\n",
    "plt.barh(percent_of_cities_national.index,percent_of_cities_national.values)\n",
    "plt.title(\"Porcentagem da População brasileira na zona de influência\")\n",
    "plt.xlabel(\"Porcentagem\")\n",
    "plt.ylabel('Capital')\n",
    "plt.grid(lw=\"0.2\")\n",
    "plt.show()"
   ]
  },
  {
   "cell_type": "markdown",
   "id": "literary-estate",
   "metadata": {},
   "source": [
    "### Ploting the percent of population per capital of influence - São Paulo State"
   ]
  },
  {
   "cell_type": "code",
   "execution_count": 166,
   "id": "strange-links",
   "metadata": {},
   "outputs": [
    {
     "data": {
      "image/png": "[encoded data removed]",
      "text/plain": [
       "<Figure size 720x432 with 1 Axes>"
      ]
     },
     "metadata": {
      "needs_background": "light"
     },
     "output_type": "display_data"
    }
   ],
   "source": [
    "grouped_series = pd.Series(grouped_states['POPULAÇÃO ESTIMADA'], index=grouped_states.index).sort_values(ascending=True)\n",
    "plt.barh(grouped_series[\"SP\"].index,grouped_series[\"SP\"].values)\n",
    "plt.title(\"População por capital mais próxima - Estado de São Paulo\")\n",
    "plt.xlabel('População')\n",
    "plt.ylabel('Capital')\n",
    "plt.grid(lw=0.2)\n",
    "plt.show()"
   ]
  },
  {
   "cell_type": "markdown",
   "id": "structured-amsterdam",
   "metadata": {},
   "source": [
    "### Ploting the percent of population per capital of influence - Minas Gerais"
   ]
  },
  {
   "cell_type": "code",
   "execution_count": 167,
   "id": "honest-penguin",
   "metadata": {},
   "outputs": [
    {
     "data": {
      "image/png": "[encoded data removed]",
      "text/plain": [
       "<Figure size 720x432 with 1 Axes>"
      ]
     },
     "metadata": {
      "needs_background": "light"
     },
     "output_type": "display_data"
    }
   ],
   "source": [
    "plt.barh(grouped_series[\"MG\"].index,grouped_series[\"MG\"].values)\n",
    "plt.title(\"População por capital mais próxima - Minas Gerais\")\n",
    "plt.xlabel('População')\n",
    "plt.ylabel('Capital')\n",
    "plt.grid(lw=0.2)\n",
    "plt.show()"
   ]
  },
  {
   "cell_type": "code",
   "execution_count": null,
   "id": "opposed-mechanism",
   "metadata": {},
   "outputs": [],
   "source": []
  }
 ],
 "metadata": {
  "kernelspec": {
   "display_name": "Python 3",
   "language": "python",
   "name": "python3"
  },
  "language_info": {
   "codemirror_mode": {
    "name": "ipython",
    "version": 3
   },
   "file_extension": ".py",
   "mimetype": "text/x-python",
   "name": "python",
   "nbconvert_exporter": "python",
   "pygments_lexer": "ipython3",
   "version": "3.8.6"
  }
 },
 "nbformat": 4,
 "nbformat_minor": 5
}
