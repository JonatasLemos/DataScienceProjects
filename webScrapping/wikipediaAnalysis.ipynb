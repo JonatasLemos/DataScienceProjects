{
 "cells": [
  {
   "cell_type": "markdown",
   "id": "careful-comparative",
   "metadata": {},
   "source": [
    "# Data Cleaning and Plots - Scraped data from wikipedia"
   ]
  },
  {
   "cell_type": "code",
   "execution_count": 11,
   "id": "diverse-return",
   "metadata": {},
   "outputs": [],
   "source": [
    "from bs4 import BeautifulSoup\n",
    "import pandas as pd\n",
    "import requests\n",
    "from requests.exceptions import HTTPError\n",
    "import time\n",
    "import numpy as np\n",
    "from random import randint"
   ]
  },
  {
   "cell_type": "markdown",
   "id": "regional-wichita",
   "metadata": {},
   "source": [
    "## Scraping data"
   ]
  },
  {
   "cell_type": "code",
   "execution_count": 21,
   "id": "amended-halifax",
   "metadata": {},
   "outputs": [],
   "source": [
    "list_of_urls = ['https://pt.wikipedia.org/wiki/Categoria:Naturais_de_Minas_Gerais',\n",
    "                'https://pt.wikipedia.org/w/index.php?title=Categoria:Naturais_de_Minas_Gerais&subcatfrom=Itamonte%0ANaturais+de+Itamonte#mw-subcategories',\n",
    "                'https://pt.wikipedia.org/w/index.php?title=Categoria:Naturais_de_Minas_Gerais&subcatfrom=Sao+Pedro+Uniao%0ANaturais+de+S%C3%A3o+Pedro+da+Uni%C3%A3o#mw-subcategories']\n",
    "citizens = []\n",
    "city_name = []\n",
    "flat_citizens = []\n",
    "flat_city_name = []\n",
    "for i in range(len(list_of_urls)):\n",
    "    try:\n",
    "        source = requests.get(list_of_urls[i]).text\n",
    "        soup = BeautifulSoup(source,'lxml')\n",
    "        citizens.append(soup.select(\"div > span:nth-of-type(2)\"))\n",
    "        city_name.append(soup.find_all('div',class_='CategoryTreeItem'))\n",
    "        time.sleep(randint(3, 10))\n",
    "        flat_citizens.extend(citizens[i])\n",
    "        flat_city_name.extend(city_name[i])\n",
    "    except HTTPError as http_err:\n",
    "        print(f'HTTP error occurred: {http_err}')\n",
    "    except Exception as err:\n",
    "        print(f'Other error occurred: {err}')\n",
    "cities = pd.Series(\n",
    "    {flat_city_name[i].a.text : flat_citizens[i].text for i in range(len(names))})\n",
    "cities = cities.drop(\"Naturais de Minas Gerais por ocupação\")\n",
    "cities.to_csv('citizens.csv')"
   ]
  },
  {
   "cell_type": "markdown",
   "id": "nasty-fiber",
   "metadata": {},
   "source": [
    "## Reading csv with scraped data"
   ]
  },
  {
   "cell_type": "code",
   "execution_count": 23,
   "id": "fitting-support",
   "metadata": {},
   "outputs": [
    {
     "data": {
      "text/html": [
       "<div>\n",
       "<style scoped>\n",
       "    .dataframe tbody tr th:only-of-type {\n",
       "        vertical-align: middle;\n",
       "    }\n",
       "\n",
       "    .dataframe tbody tr th {\n",
       "        vertical-align: top;\n",
       "    }\n",
       "\n",
       "    .dataframe thead th {\n",
       "        text-align: right;\n",
       "    }\n",
       "</style>\n",
       "<table border=\"1\" class=\"dataframe\">\n",
       "  <thead>\n",
       "    <tr style=\"text-align: right;\">\n",
       "      <th></th>\n",
       "      <th>NAME</th>\n",
       "      <th>PESSOAS NA WIKIPEDIA</th>\n",
       "    </tr>\n",
       "  </thead>\n",
       "  <tbody>\n",
       "    <tr>\n",
       "      <th>0</th>\n",
       "      <td>Naturais de Abadia dos Dourados</td>\n",
       "      <td>(4 P)</td>\n",
       "    </tr>\n",
       "    <tr>\n",
       "      <th>1</th>\n",
       "      <td>Naturais de Abaeté</td>\n",
       "      <td>(11 P)</td>\n",
       "    </tr>\n",
       "    <tr>\n",
       "      <th>2</th>\n",
       "      <td>Naturais de Abre-Campo</td>\n",
       "      <td>(2 P)</td>\n",
       "    </tr>\n",
       "    <tr>\n",
       "      <th>3</th>\n",
       "      <td>Naturais de Acaiaca</td>\n",
       "      <td>(2 P)</td>\n",
       "    </tr>\n",
       "    <tr>\n",
       "      <th>4</th>\n",
       "      <td>Naturais de Açucena (Minas Gerais)</td>\n",
       "      <td>(1 P)</td>\n",
       "    </tr>\n",
       "    <tr>\n",
       "      <th>5</th>\n",
       "      <td>Naturais de Água Boa (Minas Gerais)</td>\n",
       "      <td>(2 P)</td>\n",
       "    </tr>\n",
       "    <tr>\n",
       "      <th>6</th>\n",
       "      <td>Naturais de Aimorés (Minas Gerais)</td>\n",
       "      <td>(12 P)</td>\n",
       "    </tr>\n",
       "    <tr>\n",
       "      <th>7</th>\n",
       "      <td>Naturais de Aiuruoca</td>\n",
       "      <td>(6 P)</td>\n",
       "    </tr>\n",
       "    <tr>\n",
       "      <th>8</th>\n",
       "      <td>Naturais de Além Paraíba</td>\n",
       "      <td>(10 P)</td>\n",
       "    </tr>\n",
       "    <tr>\n",
       "      <th>9</th>\n",
       "      <td>Naturais de Alfenas</td>\n",
       "      <td>(18 P)</td>\n",
       "    </tr>\n",
       "    <tr>\n",
       "      <th>10</th>\n",
       "      <td>Naturais de Almenara</td>\n",
       "      <td>(4 P)</td>\n",
       "    </tr>\n",
       "  </tbody>\n",
       "</table>\n",
       "</div>"
      ],
      "text/plain": [
       "                                   NAME PESSOAS NA WIKIPEDIA\n",
       "0       Naturais de Abadia dos Dourados                (4 P)\n",
       "1                    Naturais de Abaeté               (11 P)\n",
       "2                Naturais de Abre-Campo                (2 P)\n",
       "3                   Naturais de Acaiaca                (2 P)\n",
       "4    Naturais de Açucena (Minas Gerais)                (1 P)\n",
       "5   Naturais de Água Boa (Minas Gerais)                (2 P)\n",
       "6    Naturais de Aimorés (Minas Gerais)               (12 P)\n",
       "7                  Naturais de Aiuruoca                (6 P)\n",
       "8              Naturais de Além Paraíba               (10 P)\n",
       "9                   Naturais de Alfenas               (18 P)\n",
       "10                 Naturais de Almenara                (4 P)"
      ]
     },
     "execution_count": 23,
     "metadata": {},
     "output_type": "execute_result"
    }
   ],
   "source": [
    "cities = pd.read_csv(\"citizens.csv\")\n",
    "cities = cities.rename(columns={\"Unnamed: 0\": \"NAME\", \"0\": \"PESSOAS NA WIKIPEDIA\"})\n",
    "cities.head(11)"
   ]
  },
  {
   "cell_type": "markdown",
   "id": "entertaining-arrow",
   "metadata": {},
   "source": [
    "## Eliminating unwanted chars using REGEX "
   ]
  },
  {
   "cell_type": "code",
   "execution_count": 14,
   "id": "extreme-lender",
   "metadata": {},
   "outputs": [
    {
     "data": {
      "text/html": [
       "<div>\n",
       "<style scoped>\n",
       "    .dataframe tbody tr th:only-of-type {\n",
       "        vertical-align: middle;\n",
       "    }\n",
       "\n",
       "    .dataframe tbody tr th {\n",
       "        vertical-align: top;\n",
       "    }\n",
       "\n",
       "    .dataframe thead th {\n",
       "        text-align: right;\n",
       "    }\n",
       "</style>\n",
       "<table border=\"1\" class=\"dataframe\">\n",
       "  <thead>\n",
       "    <tr style=\"text-align: right;\">\n",
       "      <th></th>\n",
       "      <th>NAME</th>\n",
       "      <th>PESSOAS NA WIKIPEDIA</th>\n",
       "    </tr>\n",
       "  </thead>\n",
       "  <tbody>\n",
       "    <tr>\n",
       "      <th>0</th>\n",
       "      <td>Abadia dos Dourados</td>\n",
       "      <td>4</td>\n",
       "    </tr>\n",
       "    <tr>\n",
       "      <th>1</th>\n",
       "      <td>Abaeté</td>\n",
       "      <td>11</td>\n",
       "    </tr>\n",
       "    <tr>\n",
       "      <th>2</th>\n",
       "      <td>Abre-Campo</td>\n",
       "      <td>2</td>\n",
       "    </tr>\n",
       "    <tr>\n",
       "      <th>3</th>\n",
       "      <td>Acaiaca</td>\n",
       "      <td>2</td>\n",
       "    </tr>\n",
       "    <tr>\n",
       "      <th>4</th>\n",
       "      <td>Açucena</td>\n",
       "      <td>1</td>\n",
       "    </tr>\n",
       "    <tr>\n",
       "      <th>5</th>\n",
       "      <td>Água Boa</td>\n",
       "      <td>2</td>\n",
       "    </tr>\n",
       "    <tr>\n",
       "      <th>6</th>\n",
       "      <td>Aimorés</td>\n",
       "      <td>12</td>\n",
       "    </tr>\n",
       "    <tr>\n",
       "      <th>7</th>\n",
       "      <td>Aiuruoca</td>\n",
       "      <td>6</td>\n",
       "    </tr>\n",
       "    <tr>\n",
       "      <th>8</th>\n",
       "      <td>Além Paraíba</td>\n",
       "      <td>10</td>\n",
       "    </tr>\n",
       "    <tr>\n",
       "      <th>9</th>\n",
       "      <td>Alfenas</td>\n",
       "      <td>18</td>\n",
       "    </tr>\n",
       "  </tbody>\n",
       "</table>\n",
       "</div>"
      ],
      "text/plain": [
       "                  NAME PESSOAS NA WIKIPEDIA\n",
       "0  Abadia dos Dourados                   4 \n",
       "1               Abaeté                  11 \n",
       "2           Abre-Campo                   2 \n",
       "3              Acaiaca                   2 \n",
       "4              Açucena                   1 \n",
       "5             Água Boa                   2 \n",
       "6              Aimorés                  12 \n",
       "7             Aiuruoca                   6 \n",
       "8         Além Paraíba                  10 \n",
       "9              Alfenas                  18 "
      ]
     },
     "execution_count": 14,
     "metadata": {},
     "output_type": "execute_result"
    }
   ],
   "source": [
    "cities[\"NAME\"] = cities[\"NAME\"].replace(to_replace='\\(.*|Naturais de', value='', regex=True).str.strip()\n",
    "cities[\"PESSOAS NA WIKIPEDIA\"] = cities[\"PESSOAS NA WIKIPEDIA\"].replace(to_replace='\\(|P\\)|vazia\\)', value='', regex=True)\n",
    "cities.head(10)"
   ]
  },
  {
   "cell_type": "markdown",
   "id": "satellite-offense",
   "metadata": {},
   "source": [
    "## Eliminating wrong values"
   ]
  },
  {
   "cell_type": "code",
   "execution_count": 15,
   "id": "surface-activity",
   "metadata": {},
   "outputs": [
    {
     "data": {
      "text/html": [
       "<div>\n",
       "<style scoped>\n",
       "    .dataframe tbody tr th:only-of-type {\n",
       "        vertical-align: middle;\n",
       "    }\n",
       "\n",
       "    .dataframe tbody tr th {\n",
       "        vertical-align: top;\n",
       "    }\n",
       "\n",
       "    .dataframe thead th {\n",
       "        text-align: right;\n",
       "    }\n",
       "</style>\n",
       "<table border=\"1\" class=\"dataframe\">\n",
       "  <thead>\n",
       "    <tr style=\"text-align: right;\">\n",
       "      <th></th>\n",
       "      <th>NAME</th>\n",
       "      <th>PESSOAS NA WIKIPEDIA</th>\n",
       "    </tr>\n",
       "  </thead>\n",
       "  <tbody>\n",
       "    <tr>\n",
       "      <th>0</th>\n",
       "      <td>Abadia dos Dourados</td>\n",
       "      <td>4</td>\n",
       "    </tr>\n",
       "    <tr>\n",
       "      <th>1</th>\n",
       "      <td>Abaeté</td>\n",
       "      <td>11</td>\n",
       "    </tr>\n",
       "    <tr>\n",
       "      <th>2</th>\n",
       "      <td>Abre-Campo</td>\n",
       "      <td>2</td>\n",
       "    </tr>\n",
       "    <tr>\n",
       "      <th>3</th>\n",
       "      <td>Acaiaca</td>\n",
       "      <td>2</td>\n",
       "    </tr>\n",
       "    <tr>\n",
       "      <th>4</th>\n",
       "      <td>Açucena</td>\n",
       "      <td>1</td>\n",
       "    </tr>\n",
       "  </tbody>\n",
       "</table>\n",
       "</div>"
      ],
      "text/plain": [
       "                  NAME  PESSOAS NA WIKIPEDIA\n",
       "0  Abadia dos Dourados                     4\n",
       "1               Abaeté                    11\n",
       "2           Abre-Campo                     2\n",
       "3              Acaiaca                     2\n",
       "4              Açucena                     1"
      ]
     },
     "execution_count": 15,
     "metadata": {},
     "output_type": "execute_result"
    }
   ],
   "source": [
    "cities = cities.drop(303)\n",
    "cities = cities.drop(152)\n",
    "cities = cities.drop(439)\n",
    "cities[\"PESSOAS NA WIKIPEDIA\"] = cities[\"PESSOAS NA WIKIPEDIA\"].astype('int64')\n",
    "cities.head()"
   ]
  },
  {
   "cell_type": "markdown",
   "id": "combined-vintage",
   "metadata": {},
   "source": [
    "## Reading cities with population CSV\n",
    "### Filtering and applying some changes"
   ]
  },
  {
   "cell_type": "code",
   "execution_count": 16,
   "id": "alpine-relief",
   "metadata": {},
   "outputs": [
    {
     "data": {
      "text/html": [
       "<div>\n",
       "<style scoped>\n",
       "    .dataframe tbody tr th:only-of-type {\n",
       "        vertical-align: middle;\n",
       "    }\n",
       "\n",
       "    .dataframe tbody tr th {\n",
       "        vertical-align: top;\n",
       "    }\n",
       "\n",
       "    .dataframe thead th {\n",
       "        text-align: right;\n",
       "    }\n",
       "</style>\n",
       "<table border=\"1\" class=\"dataframe\">\n",
       "  <thead>\n",
       "    <tr style=\"text-align: right;\">\n",
       "      <th></th>\n",
       "      <th>STATE</th>\n",
       "      <th>NAME</th>\n",
       "      <th>POPULAÇÃO ESTIMADA</th>\n",
       "    </tr>\n",
       "  </thead>\n",
       "  <tbody>\n",
       "    <tr>\n",
       "      <th>2114</th>\n",
       "      <td>MG</td>\n",
       "      <td>Belo Horizonte</td>\n",
       "      <td>2502557</td>\n",
       "    </tr>\n",
       "    <tr>\n",
       "      <th>2115</th>\n",
       "      <td>MG</td>\n",
       "      <td>Contagem</td>\n",
       "      <td>648766</td>\n",
       "    </tr>\n",
       "    <tr>\n",
       "      <th>2116</th>\n",
       "      <td>MG</td>\n",
       "      <td>Betim</td>\n",
       "      <td>417307</td>\n",
       "    </tr>\n",
       "    <tr>\n",
       "      <th>2117</th>\n",
       "      <td>MG</td>\n",
       "      <td>Ribeirão das Neves</td>\n",
       "      <td>322659</td>\n",
       "    </tr>\n",
       "    <tr>\n",
       "      <th>2118</th>\n",
       "      <td>MG</td>\n",
       "      <td>Santa Luzia</td>\n",
       "      <td>216254</td>\n",
       "    </tr>\n",
       "  </tbody>\n",
       "</table>\n",
       "</div>"
      ],
      "text/plain": [
       "     STATE                NAME  POPULAÇÃO ESTIMADA\n",
       "2114    MG      Belo Horizonte             2502557\n",
       "2115    MG            Contagem              648766\n",
       "2116    MG               Betim              417307\n",
       "2117    MG  Ribeirão das Neves              322659\n",
       "2118    MG         Santa Luzia              216254"
      ]
     },
     "execution_count": 16,
     "metadata": {},
     "output_type": "execute_result"
    }
   ],
   "source": [
    "cities_pop = pd.read_csv(\"sorted_cities_pop.csv\")\n",
    "cities_pop = cities_pop[cities_pop[\"STATE\"] == \"MG\"]\n",
    "cities_pop = cities_pop.drop([\"Unnamed: 0\",\"DISTANCE POP\"],axis=1)\n",
    "cities_pop[\"NAME\"] = [i.split(\"/\")[0] for i in cities_pop[\"NAME\"]]\n",
    "cities_pop.head()"
   ]
  },
  {
   "cell_type": "markdown",
   "id": "normal-little",
   "metadata": {},
   "source": [
    "## Correcting wrong names"
   ]
  },
  {
   "cell_type": "code",
   "execution_count": 17,
   "id": "duplicate-april",
   "metadata": {},
   "outputs": [
    {
     "name": "stdout",
     "output_type": "stream",
     "text": [
      "['Abre-Campo', 'Amparo da Serra', 'Bocaiuva', 'Brazópolis', 'Galileia', 'Passa-Quatro', 'São João del-Rei', 'São Tomé das Letras']\n"
     ]
    }
   ],
   "source": [
    "wrong = cities[~cities['NAME'].isin(cities_pop['NAME'])]\n",
    "wrong_list = wrong[\"NAME\"].tolist()\n",
    "print(wrong_list)\n",
    "correct_list = [\"Abre Campo\", \"Amparo do Serra\", \"Bocaiúva\",\"Brasópolis\",\"Galiléia\",\n",
    "                \"Passa Quatro\", \"São João del Rei\", \"São Thomé das Letras\"]\n",
    "for i in range(len(wrong_list)):\n",
    "    cities.at[cities[cities[\"NAME\"]==wrong_list[i]].index[0],\n",
    "            \"NAME\"] = correct_list[i]\n"
   ]
  },
  {
   "cell_type": "markdown",
   "id": "suspected-reform",
   "metadata": {},
   "source": [
    "## Merging DFs using outer join "
   ]
  },
  {
   "cell_type": "code",
   "execution_count": 18,
   "id": "enormous-workstation",
   "metadata": {},
   "outputs": [
    {
     "data": {
      "text/html": [
       "<div>\n",
       "<style scoped>\n",
       "    .dataframe tbody tr th:only-of-type {\n",
       "        vertical-align: middle;\n",
       "    }\n",
       "\n",
       "    .dataframe tbody tr th {\n",
       "        vertical-align: top;\n",
       "    }\n",
       "\n",
       "    .dataframe thead th {\n",
       "        text-align: right;\n",
       "    }\n",
       "</style>\n",
       "<table border=\"1\" class=\"dataframe\">\n",
       "  <thead>\n",
       "    <tr style=\"text-align: right;\">\n",
       "      <th></th>\n",
       "      <th>NAME</th>\n",
       "      <th>PESSOAS NA WIKIPEDIA</th>\n",
       "      <th>STATE</th>\n",
       "      <th>POPULAÇÃO ESTIMADA</th>\n",
       "    </tr>\n",
       "  </thead>\n",
       "  <tbody>\n",
       "    <tr>\n",
       "      <th>0</th>\n",
       "      <td>Abadia dos Dourados</td>\n",
       "      <td>4.0</td>\n",
       "      <td>MG</td>\n",
       "      <td>7015</td>\n",
       "    </tr>\n",
       "    <tr>\n",
       "      <th>1</th>\n",
       "      <td>Abaeté</td>\n",
       "      <td>11.0</td>\n",
       "      <td>MG</td>\n",
       "      <td>23535</td>\n",
       "    </tr>\n",
       "    <tr>\n",
       "      <th>2</th>\n",
       "      <td>Abre Campo</td>\n",
       "      <td>2.0</td>\n",
       "      <td>MG</td>\n",
       "      <td>13719</td>\n",
       "    </tr>\n",
       "    <tr>\n",
       "      <th>3</th>\n",
       "      <td>Acaiaca</td>\n",
       "      <td>2.0</td>\n",
       "      <td>MG</td>\n",
       "      <td>4056</td>\n",
       "    </tr>\n",
       "    <tr>\n",
       "      <th>4</th>\n",
       "      <td>Açucena</td>\n",
       "      <td>1.0</td>\n",
       "      <td>MG</td>\n",
       "      <td>10140</td>\n",
       "    </tr>\n",
       "  </tbody>\n",
       "</table>\n",
       "</div>"
      ],
      "text/plain": [
       "                  NAME  PESSOAS NA WIKIPEDIA STATE  POPULAÇÃO ESTIMADA\n",
       "0  Abadia dos Dourados                   4.0    MG                7015\n",
       "1               Abaeté                  11.0    MG               23535\n",
       "2           Abre Campo                   2.0    MG               13719\n",
       "3              Acaiaca                   2.0    MG                4056\n",
       "4              Açucena                   1.0    MG               10140"
      ]
     },
     "execution_count": 18,
     "metadata": {},
     "output_type": "execute_result"
    }
   ],
   "source": [
    "cities = cities.merge(cities_pop,how='outer')\n",
    "cities.head()"
   ]
  },
  {
   "cell_type": "markdown",
   "id": "beneficial-sight",
   "metadata": {},
   "source": [
    "## Fixes to get the final DF - exporting to CSV "
   ]
  },
  {
   "cell_type": "code",
   "execution_count": 19,
   "id": "superb-gallery",
   "metadata": {},
   "outputs": [],
   "source": [
    "cities['PESSOAS NA WIKIPEDIA'] = cities['PESSOAS NA WIKIPEDIA'].fillna(0)\n",
    "cities = cities.drop([\"STATE\"],axis=1)\n",
    "cities_with_famous = cities.copy()\n",
    "cities_with_famous.to_csv('merged_cities_famous.csv')"
   ]
  },
  {
   "cell_type": "code",
   "execution_count": null,
   "id": "african-denmark",
   "metadata": {},
   "outputs": [],
   "source": []
  }
 ],
 "metadata": {
  "kernelspec": {
   "display_name": "Python 3",
   "language": "python",
   "name": "python3"
  },
  "language_info": {
   "codemirror_mode": {
    "name": "ipython",
    "version": 3
   },
   "file_extension": ".py",
   "mimetype": "text/x-python",
   "name": "python",
   "nbconvert_exporter": "python",
   "pygments_lexer": "ipython3",
   "version": "3.8.6"
  }
 },
 "nbformat": 4,
 "nbformat_minor": 5
}
