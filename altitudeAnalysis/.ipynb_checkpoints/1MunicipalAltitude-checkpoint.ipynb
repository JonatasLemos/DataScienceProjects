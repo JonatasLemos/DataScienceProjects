{
 "cells": [
  {
   "cell_type": "markdown",
   "id": "appointed-express",
   "metadata": {},
   "source": [
    "# Altitude Analysis"
   ]
  },
  {
   "cell_type": "code",
   "execution_count": 2,
   "id": "casual-saver",
   "metadata": {},
   "outputs": [
    {
     "name": "stdout",
     "output_type": "stream",
     "text": [
      "PyTables is not installed. No support for HDF output.\n",
      "SQLalchemy is not installed. No support for SQL output.\n"
     ]
    }
   ],
   "source": [
    "import pandas as pd\n",
    "import scipy.stats as stats\n",
    "from simpledbf import Dbf5 as db\n",
    "import matplotlib.pyplot as plt\n",
    "%matplotlib inline"
   ]
  },
  {
   "cell_type": "markdown",
   "id": "comfortable-little",
   "metadata": {},
   "source": [
    "## Reading dbf "
   ]
  },
  {
   "cell_type": "code",
   "execution_count": 110,
   "id": "hungarian-upper",
   "metadata": {},
   "outputs": [
    {
     "data": {
      "text/html": [
       "<div>\n",
       "<style scoped>\n",
       "    .dataframe tbody tr th:only-of-type {\n",
       "        vertical-align: middle;\n",
       "    }\n",
       "\n",
       "    .dataframe tbody tr th {\n",
       "        vertical-align: top;\n",
       "    }\n",
       "\n",
       "    .dataframe thead th {\n",
       "        text-align: right;\n",
       "    }\n",
       "</style>\n",
       "<table border=\"1\" class=\"dataframe\">\n",
       "  <thead>\n",
       "    <tr style=\"text-align: right;\">\n",
       "      <th></th>\n",
       "      <th>NM_MUN</th>\n",
       "      <th>ZONE_CODE</th>\n",
       "      <th>COUNT</th>\n",
       "      <th>AREA</th>\n",
       "      <th>MIN</th>\n",
       "      <th>MAX</th>\n",
       "      <th>RANGE</th>\n",
       "      <th>MEAN</th>\n",
       "      <th>STD</th>\n",
       "      <th>SUM</th>\n",
       "      <th>VARIETY</th>\n",
       "      <th>MAJORITY</th>\n",
       "      <th>MINORITY</th>\n",
       "      <th>MEDIAN</th>\n",
       "    </tr>\n",
       "  </thead>\n",
       "  <tbody>\n",
       "    <tr>\n",
       "      <th>0</th>\n",
       "      <td>Abadia dos Dourados</td>\n",
       "      <td>1</td>\n",
       "      <td>1092</td>\n",
       "      <td>0.075833</td>\n",
       "      <td>639</td>\n",
       "      <td>988</td>\n",
       "      <td>349</td>\n",
       "      <td>772.872711</td>\n",
       "      <td>61.986597</td>\n",
       "      <td>843977.0</td>\n",
       "      <td>270</td>\n",
       "      <td>760</td>\n",
       "      <td>639</td>\n",
       "      <td>774</td>\n",
       "    </tr>\n",
       "    <tr>\n",
       "      <th>1</th>\n",
       "      <td>Abaeté</td>\n",
       "      <td>2</td>\n",
       "      <td>2245</td>\n",
       "      <td>0.155903</td>\n",
       "      <td>564</td>\n",
       "      <td>904</td>\n",
       "      <td>340</td>\n",
       "      <td>642.046771</td>\n",
       "      <td>43.834646</td>\n",
       "      <td>1441395.0</td>\n",
       "      <td>223</td>\n",
       "      <td>632</td>\n",
       "      <td>717</td>\n",
       "      <td>637</td>\n",
       "    </tr>\n",
       "    <tr>\n",
       "      <th>2</th>\n",
       "      <td>Abre Campo</td>\n",
       "      <td>3</td>\n",
       "      <td>581</td>\n",
       "      <td>0.040347</td>\n",
       "      <td>391</td>\n",
       "      <td>1068</td>\n",
       "      <td>677</td>\n",
       "      <td>672.084337</td>\n",
       "      <td>126.220764</td>\n",
       "      <td>390481.0</td>\n",
       "      <td>345</td>\n",
       "      <td>642</td>\n",
       "      <td>391</td>\n",
       "      <td>669</td>\n",
       "    </tr>\n",
       "    <tr>\n",
       "      <th>3</th>\n",
       "      <td>Acaiaca</td>\n",
       "      <td>4</td>\n",
       "      <td>123</td>\n",
       "      <td>0.008542</td>\n",
       "      <td>450</td>\n",
       "      <td>744</td>\n",
       "      <td>294</td>\n",
       "      <td>609.121951</td>\n",
       "      <td>60.718005</td>\n",
       "      <td>74922.0</td>\n",
       "      <td>96</td>\n",
       "      <td>606</td>\n",
       "      <td>450</td>\n",
       "      <td>617</td>\n",
       "    </tr>\n",
       "    <tr>\n",
       "      <th>4</th>\n",
       "      <td>Açucena</td>\n",
       "      <td>5</td>\n",
       "      <td>1007</td>\n",
       "      <td>0.069931</td>\n",
       "      <td>197</td>\n",
       "      <td>964</td>\n",
       "      <td>767</td>\n",
       "      <td>502.974181</td>\n",
       "      <td>201.501221</td>\n",
       "      <td>506495.0</td>\n",
       "      <td>515</td>\n",
       "      <td>243</td>\n",
       "      <td>197</td>\n",
       "      <td>492</td>\n",
       "    </tr>\n",
       "  </tbody>\n",
       "</table>\n",
       "</div>"
      ],
      "text/plain": [
       "                NM_MUN  ZONE_CODE  COUNT      AREA  MIN   MAX  RANGE  \\\n",
       "0  Abadia dos Dourados          1   1092  0.075833  639   988    349   \n",
       "1               Abaeté          2   2245  0.155903  564   904    340   \n",
       "2           Abre Campo          3    581  0.040347  391  1068    677   \n",
       "3              Acaiaca          4    123  0.008542  450   744    294   \n",
       "4              Açucena          5   1007  0.069931  197   964    767   \n",
       "\n",
       "         MEAN         STD        SUM  VARIETY  MAJORITY  MINORITY  MEDIAN  \n",
       "0  772.872711   61.986597   843977.0      270       760       639     774  \n",
       "1  642.046771   43.834646  1441395.0      223       632       717     637  \n",
       "2  672.084337  126.220764   390481.0      345       642       391     669  \n",
       "3  609.121951   60.718005    74922.0       96       606       450     617  \n",
       "4  502.974181  201.501221   506495.0      515       243       197     492  "
      ]
     },
     "execution_count": 110,
     "metadata": {},
     "output_type": "execute_result"
    }
   ],
   "source": [
    "dbf = db(\"ZonalSt_alt_municip.dbf\")\n",
    "df_altitudes = dbf.to_dataframe()\n",
    "df_altitudes.head()"
   ]
  },
  {
   "cell_type": "markdown",
   "id": "lonely-screening",
   "metadata": {},
   "source": [
    "## Using Pearson Correlation"
   ]
  },
  {
   "cell_type": "code",
   "execution_count": 111,
   "id": "exact-neighborhood",
   "metadata": {},
   "outputs": [
    {
     "name": "stdout",
     "output_type": "stream",
     "text": [
      "CORRELATION BETWEEN MEAN MUNICIPAL ALTITUDE AND MUNICIPAL ALTITUDE RANGE\n",
      "Correlation: 0.20147585986959732\n",
      "P_VALUE: 2.908345116215118e-09\n"
     ]
    }
   ],
   "source": [
    "print(\"CORRELATION BETWEEN MEAN MUNICIPAL ALTITUDE AND MUNICIPAL ALTITUDE RANGE\")\n",
    "corr,pval=stats.pearsonr(df_altitudes['MEAN'],df_altitudes['RANGE'])\n",
    "print(\"Correlation:\",corr)\n",
    "print(\"P_VALUE:\",pval)"
   ]
  },
  {
   "cell_type": "markdown",
   "id": "legal-transformation",
   "metadata": {},
   "source": [
    "## Creating intervals of altitudes using pd.cut"
   ]
  },
  {
   "cell_type": "code",
   "execution_count": 112,
   "id": "tired-vinyl",
   "metadata": {},
   "outputs": [
    {
     "data": {
      "text/html": [
       "<div>\n",
       "<style scoped>\n",
       "    .dataframe tbody tr th:only-of-type {\n",
       "        vertical-align: middle;\n",
       "    }\n",
       "\n",
       "    .dataframe tbody tr th {\n",
       "        vertical-align: top;\n",
       "    }\n",
       "\n",
       "    .dataframe thead th {\n",
       "        text-align: right;\n",
       "    }\n",
       "</style>\n",
       "<table border=\"1\" class=\"dataframe\">\n",
       "  <thead>\n",
       "    <tr style=\"text-align: right;\">\n",
       "      <th></th>\n",
       "      <th>NM_MUN</th>\n",
       "      <th>MEAN</th>\n",
       "      <th>Altitude</th>\n",
       "    </tr>\n",
       "  </thead>\n",
       "  <tbody>\n",
       "    <tr>\n",
       "      <th>783</th>\n",
       "      <td>Serra dos Aimorés</td>\n",
       "      <td>195.273764</td>\n",
       "      <td>0-300m</td>\n",
       "    </tr>\n",
       "    <tr>\n",
       "      <th>597</th>\n",
       "      <td>Pirapetinga</td>\n",
       "      <td>201.526749</td>\n",
       "      <td>0-300m</td>\n",
       "    </tr>\n",
       "    <tr>\n",
       "      <th>662</th>\n",
       "      <td>Salto da Divisa</td>\n",
       "      <td>217.307828</td>\n",
       "      <td>0-300m</td>\n",
       "    </tr>\n",
       "    <tr>\n",
       "      <th>18</th>\n",
       "      <td>Alpercata</td>\n",
       "      <td>219.131068</td>\n",
       "      <td>0-300m</td>\n",
       "    </tr>\n",
       "    <tr>\n",
       "      <th>815</th>\n",
       "      <td>Tumiritinga</td>\n",
       "      <td>230.138710</td>\n",
       "      <td>0-300m</td>\n",
       "    </tr>\n",
       "    <tr>\n",
       "      <th>...</th>\n",
       "      <td>...</td>\n",
       "      <td>...</td>\n",
       "      <td>...</td>\n",
       "    </tr>\n",
       "    <tr>\n",
       "      <th>771</th>\n",
       "      <td>Senador Amaral</td>\n",
       "      <td>1464.656250</td>\n",
       "      <td>1100-1600m</td>\n",
       "    </tr>\n",
       "    <tr>\n",
       "      <th>233</th>\n",
       "      <td>Delfim Moreira</td>\n",
       "      <td>1483.495202</td>\n",
       "      <td>1100-1600m</td>\n",
       "    </tr>\n",
       "    <tr>\n",
       "      <th>12</th>\n",
       "      <td>Alagoa</td>\n",
       "      <td>1507.425000</td>\n",
       "      <td>1100-1600m</td>\n",
       "    </tr>\n",
       "    <tr>\n",
       "      <th>465</th>\n",
       "      <td>Marmelópolis</td>\n",
       "      <td>1543.764706</td>\n",
       "      <td>1100-1600m</td>\n",
       "    </tr>\n",
       "    <tr>\n",
       "      <th>373</th>\n",
       "      <td>Itamonte</td>\n",
       "      <td>1570.446886</td>\n",
       "      <td>1100-1600m</td>\n",
       "    </tr>\n",
       "  </tbody>\n",
       "</table>\n",
       "<p>853 rows × 3 columns</p>\n",
       "</div>"
      ],
      "text/plain": [
       "                NM_MUN         MEAN    Altitude\n",
       "783  Serra dos Aimorés   195.273764      0-300m\n",
       "597        Pirapetinga   201.526749      0-300m\n",
       "662    Salto da Divisa   217.307828      0-300m\n",
       "18           Alpercata   219.131068      0-300m\n",
       "815        Tumiritinga   230.138710      0-300m\n",
       "..                 ...          ...         ...\n",
       "771     Senador Amaral  1464.656250  1100-1600m\n",
       "233     Delfim Moreira  1483.495202  1100-1600m\n",
       "12              Alagoa  1507.425000  1100-1600m\n",
       "465       Marmelópolis  1543.764706  1100-1600m\n",
       "373           Itamonte  1570.446886  1100-1600m\n",
       "\n",
       "[853 rows x 3 columns]"
      ]
     },
     "execution_count": 112,
     "metadata": {},
     "output_type": "execute_result"
    }
   ],
   "source": [
    "df_altitudes = df_altitudes.sort_values(by=\"MEAN\")\n",
    "df_altitudes[\"Altitude\"] = pd.cut(x=df_altitudes[\"MEAN\"],bins=[0, 300, 600, 850, 1100, 1600]\n",
    "                    ,labels=[\"0-300m\",\"300-600m\",\"600-850m\",\"850-1100m\",\"1100-1600m\"])\n",
    "df_altitudes[[\"NM_MUN\",\"MEAN\",\"Altitude\"]]"
   ]
  },
  {
   "cell_type": "markdown",
   "id": "fuzzy-kidney",
   "metadata": {},
   "source": [
    "## Finding the number of cities in each altitude interval"
   ]
  },
  {
   "cell_type": "code",
   "execution_count": 113,
   "id": "fifty-insider",
   "metadata": {},
   "outputs": [
    {
     "name": "stdout",
     "output_type": "stream",
     "text": [
      "0-300m         28\n",
      "300-600m      183\n",
      "600-850m      324\n",
      "850-1100m     268\n",
      "1100-1600m     50\n",
      "dtype: int64\n"
     ]
    }
   ],
   "source": [
    "labels=[\"0-300m\",\"300-600m\",\"600-850m\",\"850-1100m\",\"1100-1600m\"]\n",
    "number_of_cities = pd.Series({i:df_altitudes[df_altitudes[\"Altitude\"]==i][\"MEAN\"].size for i in labels})\n",
    "print(number_of_cities)"
   ]
  },
  {
   "cell_type": "markdown",
   "id": "annoying-shelter",
   "metadata": {},
   "source": [
    "## Creating population Dataframe from xls"
   ]
  },
  {
   "cell_type": "code",
   "execution_count": 114,
   "id": "complex-slovenia",
   "metadata": {},
   "outputs": [
    {
     "data": {
      "text/html": [
       "<div>\n",
       "<style scoped>\n",
       "    .dataframe tbody tr th:only-of-type {\n",
       "        vertical-align: middle;\n",
       "    }\n",
       "\n",
       "    .dataframe tbody tr th {\n",
       "        vertical-align: top;\n",
       "    }\n",
       "\n",
       "    .dataframe thead th {\n",
       "        text-align: right;\n",
       "    }\n",
       "</style>\n",
       "<table border=\"1\" class=\"dataframe\">\n",
       "  <thead>\n",
       "    <tr style=\"text-align: right;\">\n",
       "      <th></th>\n",
       "      <th>UF</th>\n",
       "      <th>COD. UF</th>\n",
       "      <th>COD. MUNIC</th>\n",
       "      <th>NOME DO MUNICÍPIO</th>\n",
       "      <th>POPULAÇÃO ESTIMADA</th>\n",
       "    </tr>\n",
       "  </thead>\n",
       "  <tbody>\n",
       "    <tr>\n",
       "      <th>2244</th>\n",
       "      <td>MG</td>\n",
       "      <td>31.0</td>\n",
       "      <td>104.0</td>\n",
       "      <td>Abadia dos Dourados</td>\n",
       "      <td>7015.0</td>\n",
       "    </tr>\n",
       "    <tr>\n",
       "      <th>2245</th>\n",
       "      <td>MG</td>\n",
       "      <td>31.0</td>\n",
       "      <td>203.0</td>\n",
       "      <td>Abaeté</td>\n",
       "      <td>23535.0</td>\n",
       "    </tr>\n",
       "    <tr>\n",
       "      <th>2246</th>\n",
       "      <td>MG</td>\n",
       "      <td>31.0</td>\n",
       "      <td>302.0</td>\n",
       "      <td>Abre Campo</td>\n",
       "      <td>13719.0</td>\n",
       "    </tr>\n",
       "    <tr>\n",
       "      <th>2247</th>\n",
       "      <td>MG</td>\n",
       "      <td>31.0</td>\n",
       "      <td>401.0</td>\n",
       "      <td>Acaiaca</td>\n",
       "      <td>4056.0</td>\n",
       "    </tr>\n",
       "    <tr>\n",
       "      <th>2248</th>\n",
       "      <td>MG</td>\n",
       "      <td>31.0</td>\n",
       "      <td>500.0</td>\n",
       "      <td>Açucena</td>\n",
       "      <td>10140.0</td>\n",
       "    </tr>\n",
       "  </tbody>\n",
       "</table>\n",
       "</div>"
      ],
      "text/plain": [
       "      UF  COD. UF  COD. MUNIC    NOME DO MUNICÍPIO  POPULAÇÃO ESTIMADA\n",
       "2244  MG     31.0       104.0  Abadia dos Dourados              7015.0\n",
       "2245  MG     31.0       203.0               Abaeté             23535.0\n",
       "2246  MG     31.0       302.0           Abre Campo             13719.0\n",
       "2247  MG     31.0       401.0              Acaiaca              4056.0\n",
       "2248  MG     31.0       500.0              Açucena             10140.0"
      ]
     },
     "execution_count": 114,
     "metadata": {},
     "output_type": "execute_result"
    }
   ],
   "source": [
    "df_pop = pd.read_excel(\"population.xls\", sheet_name=\"Municípios\")\n",
    "df_pop = df_pop.dropna()\n",
    "df_pop = df_pop[df_pop[\"UF\"] == \"MG\"]\n",
    "df_pop.head()"
   ]
  },
  {
   "cell_type": "markdown",
   "id": "developmental-aruba",
   "metadata": {},
   "source": [
    "## Correcting wrong names"
   ]
  },
  {
   "cell_type": "code",
   "execution_count": 115,
   "id": "needed-firmware",
   "metadata": {},
   "outputs": [],
   "source": [
    "wrong_names = df_altitudes[~df_altitudes['NM_MUN'].\n",
    "    isin(df_pop['NOME DO MUNICÍPIO'])][\"NM_MUN\"].to_numpy()\n",
    "correct_names = [\"Pingo-d'Água\",\"Dona Eusébia\",\"São Sebastião da Vargem Alegre\",\"Passa-Vinte\",\n",
    "                 \"São Thomé das Letras\",\"Brasópolis\"]\n",
    "for i in range(len(correct_names)):\n",
    "    df_altitudes.at[df_altitudes[df_altitudes[\"NM_MUN\"]==wrong_names[i]].index[0],\n",
    "          \"NM_MUN\"] = correct_names[i]\n",
    "df_altitudes = df_altitudes.rename(columns={\"NM_MUN\": \"NOME DO MUNICÍPIO\"})    "
   ]
  },
  {
   "cell_type": "markdown",
   "id": "found-tomato",
   "metadata": {},
   "source": [
    "## Merging DFs"
   ]
  },
  {
   "cell_type": "code",
   "execution_count": 116,
   "id": "fundamental-juvenile",
   "metadata": {},
   "outputs": [
    {
     "data": {
      "text/html": [
       "<div>\n",
       "<style scoped>\n",
       "    .dataframe tbody tr th:only-of-type {\n",
       "        vertical-align: middle;\n",
       "    }\n",
       "\n",
       "    .dataframe tbody tr th {\n",
       "        vertical-align: top;\n",
       "    }\n",
       "\n",
       "    .dataframe thead th {\n",
       "        text-align: right;\n",
       "    }\n",
       "</style>\n",
       "<table border=\"1\" class=\"dataframe\">\n",
       "  <thead>\n",
       "    <tr style=\"text-align: right;\">\n",
       "      <th></th>\n",
       "      <th>NOME DO MUNICÍPIO</th>\n",
       "      <th>MEAN</th>\n",
       "      <th>Altitude</th>\n",
       "      <th>POPULAÇÃO ESTIMADA</th>\n",
       "    </tr>\n",
       "  </thead>\n",
       "  <tbody>\n",
       "    <tr>\n",
       "      <th>0</th>\n",
       "      <td>Serra dos Aimorés</td>\n",
       "      <td>195.273764</td>\n",
       "      <td>0-300m</td>\n",
       "      <td>8767.0</td>\n",
       "    </tr>\n",
       "    <tr>\n",
       "      <th>1</th>\n",
       "      <td>Pirapetinga</td>\n",
       "      <td>201.526749</td>\n",
       "      <td>0-300m</td>\n",
       "      <td>10818.0</td>\n",
       "    </tr>\n",
       "    <tr>\n",
       "      <th>2</th>\n",
       "      <td>Salto da Divisa</td>\n",
       "      <td>217.307828</td>\n",
       "      <td>0-300m</td>\n",
       "      <td>7107.0</td>\n",
       "    </tr>\n",
       "    <tr>\n",
       "      <th>3</th>\n",
       "      <td>Alpercata</td>\n",
       "      <td>219.131068</td>\n",
       "      <td>0-300m</td>\n",
       "      <td>7478.0</td>\n",
       "    </tr>\n",
       "    <tr>\n",
       "      <th>4</th>\n",
       "      <td>Tumiritinga</td>\n",
       "      <td>230.138710</td>\n",
       "      <td>0-300m</td>\n",
       "      <td>6669.0</td>\n",
       "    </tr>\n",
       "  </tbody>\n",
       "</table>\n",
       "</div>"
      ],
      "text/plain": [
       "   NOME DO MUNICÍPIO        MEAN Altitude  POPULAÇÃO ESTIMADA\n",
       "0  Serra dos Aimorés  195.273764   0-300m              8767.0\n",
       "1        Pirapetinga  201.526749   0-300m             10818.0\n",
       "2    Salto da Divisa  217.307828   0-300m              7107.0\n",
       "3          Alpercata  219.131068   0-300m              7478.0\n",
       "4        Tumiritinga  230.138710   0-300m              6669.0"
      ]
     },
     "execution_count": 116,
     "metadata": {},
     "output_type": "execute_result"
    }
   ],
   "source": [
    "df_altitudes = df_altitudes.merge(df_pop)\n",
    "df_altitudes[[\"NOME DO MUNICÍPIO\",\"MEAN\",\"Altitude\",\"POPULAÇÃO ESTIMADA\"]].head()"
   ]
  },
  {
   "cell_type": "code",
   "execution_count": 117,
   "id": "sapphire-corner",
   "metadata": {},
   "outputs": [
    {
     "data": {
      "text/html": [
       "<div>\n",
       "<style scoped>\n",
       "    .dataframe tbody tr th:only-of-type {\n",
       "        vertical-align: middle;\n",
       "    }\n",
       "\n",
       "    .dataframe tbody tr th {\n",
       "        vertical-align: top;\n",
       "    }\n",
       "\n",
       "    .dataframe thead th {\n",
       "        text-align: right;\n",
       "    }\n",
       "</style>\n",
       "<table border=\"1\" class=\"dataframe\">\n",
       "  <thead>\n",
       "    <tr style=\"text-align: right;\">\n",
       "      <th></th>\n",
       "      <th></th>\n",
       "      <th>MEAN</th>\n",
       "      <th>POPULAÇÃO ESTIMADA</th>\n",
       "    </tr>\n",
       "    <tr>\n",
       "      <th>Altitude</th>\n",
       "      <th>NOME DO MUNICÍPIO</th>\n",
       "      <th></th>\n",
       "      <th></th>\n",
       "    </tr>\n",
       "  </thead>\n",
       "  <tbody>\n",
       "    <tr>\n",
       "      <th rowspan=\"5\" valign=\"top\">0-300m</th>\n",
       "      <th>Serra dos Aimorés</th>\n",
       "      <td>195.273764</td>\n",
       "      <td>8767.0</td>\n",
       "    </tr>\n",
       "    <tr>\n",
       "      <th>Pirapetinga</th>\n",
       "      <td>201.526749</td>\n",
       "      <td>10818.0</td>\n",
       "    </tr>\n",
       "    <tr>\n",
       "      <th>Salto da Divisa</th>\n",
       "      <td>217.307828</td>\n",
       "      <td>7107.0</td>\n",
       "    </tr>\n",
       "    <tr>\n",
       "      <th>Alpercata</th>\n",
       "      <td>219.131068</td>\n",
       "      <td>7478.0</td>\n",
       "    </tr>\n",
       "    <tr>\n",
       "      <th>Tumiritinga</th>\n",
       "      <td>230.138710</td>\n",
       "      <td>6669.0</td>\n",
       "    </tr>\n",
       "    <tr>\n",
       "      <th>...</th>\n",
       "      <th>...</th>\n",
       "      <td>...</td>\n",
       "      <td>...</td>\n",
       "    </tr>\n",
       "    <tr>\n",
       "      <th rowspan=\"5\" valign=\"top\">1100-1600m</th>\n",
       "      <th>Senador Amaral</th>\n",
       "      <td>1464.656250</td>\n",
       "      <td>5419.0</td>\n",
       "    </tr>\n",
       "    <tr>\n",
       "      <th>Delfim Moreira</th>\n",
       "      <td>1483.495202</td>\n",
       "      <td>8201.0</td>\n",
       "    </tr>\n",
       "    <tr>\n",
       "      <th>Alagoa</th>\n",
       "      <td>1507.425000</td>\n",
       "      <td>2760.0</td>\n",
       "    </tr>\n",
       "    <tr>\n",
       "      <th>Marmelópolis</th>\n",
       "      <td>1543.764706</td>\n",
       "      <td>2938.0</td>\n",
       "    </tr>\n",
       "    <tr>\n",
       "      <th>Itamonte</th>\n",
       "      <td>1570.446886</td>\n",
       "      <td>15136.0</td>\n",
       "    </tr>\n",
       "  </tbody>\n",
       "</table>\n",
       "<p>853 rows × 2 columns</p>\n",
       "</div>"
      ],
      "text/plain": [
       "                                     MEAN  POPULAÇÃO ESTIMADA\n",
       "Altitude   NOME DO MUNICÍPIO                                 \n",
       "0-300m     Serra dos Aimorés   195.273764              8767.0\n",
       "           Pirapetinga         201.526749             10818.0\n",
       "           Salto da Divisa     217.307828              7107.0\n",
       "           Alpercata           219.131068              7478.0\n",
       "           Tumiritinga         230.138710              6669.0\n",
       "...                                   ...                 ...\n",
       "1100-1600m Senador Amaral     1464.656250              5419.0\n",
       "           Delfim Moreira     1483.495202              8201.0\n",
       "           Alagoa             1507.425000              2760.0\n",
       "           Marmelópolis       1543.764706              2938.0\n",
       "           Itamonte           1570.446886             15136.0\n",
       "\n",
       "[853 rows x 2 columns]"
      ]
     },
     "execution_count": 117,
     "metadata": {},
     "output_type": "execute_result"
    }
   ],
   "source": [
    "df_altitudes = df_altitudes.set_index([\"Altitude\",\"NOME DO MUNICÍPIO\"])\n",
    "df_altitudes[[\"MEAN\",\"POPULAÇÃO ESTIMADA\"]]"
   ]
  },
  {
   "cell_type": "code",
   "execution_count": 120,
   "id": "representative-cycle",
   "metadata": {},
   "outputs": [
    {
     "name": "stdout",
     "output_type": "stream",
     "text": [
      "POPULATION PER INTERVAL OF MEAN ALTITUDE\n",
      "0-300m          534873.0\n",
      "300-600m       3546931.0\n",
      "600-850m      11557929.0\n",
      "850-1100m     20084287.0\n",
      "1100-1600m    20869101.0\n",
      "dtype: float64\n",
      "PERCENT OF POPULATION PER INTERVAL OF MEAN ALTITUDE\n",
      "0-300m         2.562990\n",
      "300-600m      14.433099\n",
      "600-850m      38.386886\n",
      "850-1100m     40.856374\n",
      "1100-1600m     3.760651\n",
      "dtype: float64\n"
     ]
    }
   ],
   "source": [
    "bins=[300, 600, 850, 1100, 1600]\n",
    "pop = pd.Series({labels[i]:df_altitudes[df_altitudes[\"MEAN\"] < bins[i]][\"POPULAÇÃO ESTIMADA\"].sum() for i in range(len(labels))})\n",
    "print(\"POPULATION PER INTERVAL OF MEAN ALTITUDE\")\n",
    "print(pop)\n",
    "pop_total = df_altitudes[\"POPULAÇÃO ESTIMADA\"].sum()\n",
    "pop_intervals = pd.Series({i:((df_altitudes.xs(i)[\"POPULAÇÃO ESTIMADA\"].sum())/pop_total)*100 for i in labels})\n",
    "print(\"PERCENT OF POPULATION PER INTERVAL OF MEAN ALTITUDE\")\n",
    "print(pop_intervals)"
   ]
  },
  {
   "cell_type": "code",
   "execution_count": 3,
   "id": "imperial-satin",
   "metadata": {},
   "outputs": [
    {
     "ename": "NameError",
     "evalue": "name 'labels' is not defined",
     "output_type": "error",
     "traceback": [
      "\u001b[1;31m---------------------------------------------------------------------------\u001b[0m",
      "\u001b[1;31mNameError\u001b[0m                                 Traceback (most recent call last)",
      "\u001b[1;32m<ipython-input-3-936f7660ea6b>\u001b[0m in \u001b[0;36m<module>\u001b[1;34m\u001b[0m\n\u001b[0;32m      1\u001b[0m \u001b[0mplt\u001b[0m\u001b[1;33m.\u001b[0m\u001b[0mrcParams\u001b[0m\u001b[1;33m[\u001b[0m\u001b[1;34m\"figure.figsize\"\u001b[0m\u001b[1;33m]\u001b[0m \u001b[1;33m=\u001b[0m \u001b[1;33m[\u001b[0m\u001b[1;36m10\u001b[0m\u001b[1;33m,\u001b[0m \u001b[1;36m6\u001b[0m\u001b[1;33m]\u001b[0m\u001b[1;33m\u001b[0m\u001b[1;33m\u001b[0m\u001b[0m\n\u001b[1;32m----> 2\u001b[1;33m \u001b[0mplt\u001b[0m\u001b[1;33m.\u001b[0m\u001b[0mbarh\u001b[0m\u001b[1;33m(\u001b[0m\u001b[0mlabels\u001b[0m\u001b[1;33m,\u001b[0m\u001b[0mnumber_of_cities\u001b[0m\u001b[1;33m)\u001b[0m\u001b[1;33m\u001b[0m\u001b[1;33m\u001b[0m\u001b[0m\n\u001b[0m\u001b[0;32m      3\u001b[0m \u001b[0mplt\u001b[0m\u001b[1;33m.\u001b[0m\u001b[0mtitle\u001b[0m\u001b[1;33m(\u001b[0m\u001b[1;34m\"Número de municípios por faixa de altitude - Minas Gerais\"\u001b[0m\u001b[1;33m)\u001b[0m\u001b[1;33m\u001b[0m\u001b[1;33m\u001b[0m\u001b[0m\n\u001b[0;32m      4\u001b[0m \u001b[0mplt\u001b[0m\u001b[1;33m.\u001b[0m\u001b[0mxlabel\u001b[0m\u001b[1;33m(\u001b[0m\u001b[1;34m'Número de cidades'\u001b[0m\u001b[1;33m)\u001b[0m\u001b[1;33m\u001b[0m\u001b[1;33m\u001b[0m\u001b[0m\n\u001b[0;32m      5\u001b[0m \u001b[0mplt\u001b[0m\u001b[1;33m.\u001b[0m\u001b[0mylabel\u001b[0m\u001b[1;33m(\u001b[0m\u001b[1;34m'Altitude Média'\u001b[0m\u001b[1;33m)\u001b[0m\u001b[1;33m\u001b[0m\u001b[1;33m\u001b[0m\u001b[0m\n",
      "\u001b[1;31mNameError\u001b[0m: name 'labels' is not defined"
     ]
    }
   ],
   "source": [
    "plt.rcParams[\"figure.figsize\"] = [10, 6]\n",
    "plt.barh(labels,number_of_cities)\n",
    "plt.title(\"Número de municípios por faixa de altitude - Minas Gerais\")\n",
    "plt.xlabel('Número de cidades')\n",
    "plt.ylabel('Altitude Média')\n",
    "plt.grid(lw=\"0.2\")\n",
    "plt.show()"
   ]
  },
  {
   "cell_type": "code",
   "execution_count": 122,
   "id": "registered-bidding",
   "metadata": {},
   "outputs": [
    {
     "data": {
      "image/png": "[encoded data removed]",
      "text/plain": [
       "<Figure size 432x288 with 1 Axes>"
      ]
     },
     "metadata": {
      "needs_background": "light"
     },
     "output_type": "display_data"
    }
   ],
   "source": [
    "plt.barh(labels,pop_intervals)\n",
    "plt.title(\"% da população por faixa de altitude - Minas Gerais\")\n",
    "plt.xlabel('% da população')\n",
    "plt.ylabel('Altitude Média')\n",
    "plt.grid(lw=\"0.2\")\n",
    "plt.show()"
   ]
  },
  {
   "cell_type": "code",
   "execution_count": 123,
   "id": "grateful-saudi",
   "metadata": {},
   "outputs": [],
   "source": [
    "df_altitudes = df_altitudes.loc[:,['MEAN','MIN','MAX','RANGE','AREA','POPULAÇÃO ESTIMADA']]\n",
    "df_altitudes.to_csv('municipal_altitude.csv')"
   ]
  },
  {
   "cell_type": "code",
   "execution_count": null,
   "id": "physical-cyprus",
   "metadata": {},
   "outputs": [],
   "source": []
  }
 ],
 "metadata": {
  "kernelspec": {
   "display_name": "Python 3",
   "language": "python",
   "name": "python3"
  },
  "language_info": {
   "codemirror_mode": {
    "name": "ipython",
    "version": 3
   },
   "file_extension": ".py",
   "mimetype": "text/x-python",
   "name": "python",
   "nbconvert_exporter": "python",
   "pygments_lexer": "ipython3",
   "version": "3.8.6"
  }
 },
 "nbformat": 4,
 "nbformat_minor": 5
}
