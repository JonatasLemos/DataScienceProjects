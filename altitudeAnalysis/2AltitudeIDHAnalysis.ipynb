{
 "cells": [
  {
   "cell_type": "markdown",
   "id": "pacific-welsh",
   "metadata": {},
   "source": [
    "# City altitude Analysis"
   ]
  },
  {
   "cell_type": "code",
   "execution_count": 135,
   "id": "killing-column",
   "metadata": {},
   "outputs": [],
   "source": [
    "import scipy.stats as stats\n",
    "import matplotlib.pyplot as plt\n",
    "import pandas as pd\n",
    "from simpledbf import Dbf5 as db\n",
    "import numpy as np"
   ]
  },
  {
   "cell_type": "markdown",
   "id": "reverse-offering",
   "metadata": {},
   "source": [
    "## Reading city altitudes dbf"
   ]
  },
  {
   "cell_type": "code",
   "execution_count": 136,
   "id": "greater-agent",
   "metadata": {},
   "outputs": [
    {
     "data": {
      "text/html": [
       "<div>\n",
       "<style scoped>\n",
       "    .dataframe tbody tr th:only-of-type {\n",
       "        vertical-align: middle;\n",
       "    }\n",
       "\n",
       "    .dataframe tbody tr th {\n",
       "        vertical-align: top;\n",
       "    }\n",
       "\n",
       "    .dataframe thead th {\n",
       "        text-align: right;\n",
       "    }\n",
       "</style>\n",
       "<table border=\"1\" class=\"dataframe\">\n",
       "  <thead>\n",
       "    <tr style=\"text-align: right;\">\n",
       "      <th></th>\n",
       "      <th>NAME</th>\n",
       "      <th>Altitude (m)</th>\n",
       "    </tr>\n",
       "  </thead>\n",
       "  <tbody>\n",
       "    <tr>\n",
       "      <th>0</th>\n",
       "      <td>Cônego Marinho/MG</td>\n",
       "      <td>650</td>\n",
       "    </tr>\n",
       "    <tr>\n",
       "      <th>1</th>\n",
       "      <td>Espinosa/MG</td>\n",
       "      <td>566</td>\n",
       "    </tr>\n",
       "    <tr>\n",
       "      <th>2</th>\n",
       "      <td>Formoso/MG</td>\n",
       "      <td>844</td>\n",
       "    </tr>\n",
       "    <tr>\n",
       "      <th>3</th>\n",
       "      <td>Gameleiras/MG</td>\n",
       "      <td>519</td>\n",
       "    </tr>\n",
       "    <tr>\n",
       "      <th>4</th>\n",
       "      <td>Itacarambi/MG</td>\n",
       "      <td>454</td>\n",
       "    </tr>\n",
       "  </tbody>\n",
       "</table>\n",
       "</div>"
      ],
      "text/plain": [
       "                NAME  Altitude (m)\n",
       "0  Cônego Marinho/MG           650\n",
       "1        Espinosa/MG           566\n",
       "2         Formoso/MG           844\n",
       "3      Gameleiras/MG           519\n",
       "4      Itacarambi/MG           454"
      ]
     },
     "execution_count": 136,
     "metadata": {},
     "output_type": "execute_result"
    }
   ],
   "source": [
    "dbf = db(\"altitude_cities_mg.dbf\")\n",
    "df_altitudes = dbf.to_dataframe()\n",
    "df_altitudes = df_altitudes.drop(columns=[\"LAYER\",\"LABEL\",\"codmun2\",\"codmun1\"])\n",
    "df_altitudes = df_altitudes.rename(columns={\"RASTERVALU\": \"Altitude (m)\"})\n",
    "df_altitudes.head()"
   ]
  },
  {
   "cell_type": "markdown",
   "id": "incorporated-tiger",
   "metadata": {},
   "source": [
    "## Creating intervals of altitudes"
   ]
  },
  {
   "cell_type": "code",
   "execution_count": 137,
   "id": "formal-password",
   "metadata": {},
   "outputs": [
    {
     "data": {
      "text/html": [
       "<div>\n",
       "<style scoped>\n",
       "    .dataframe tbody tr th:only-of-type {\n",
       "        vertical-align: middle;\n",
       "    }\n",
       "\n",
       "    .dataframe tbody tr th {\n",
       "        vertical-align: top;\n",
       "    }\n",
       "\n",
       "    .dataframe thead th {\n",
       "        text-align: right;\n",
       "    }\n",
       "</style>\n",
       "<table border=\"1\" class=\"dataframe\">\n",
       "  <thead>\n",
       "    <tr style=\"text-align: right;\">\n",
       "      <th></th>\n",
       "      <th>NAME</th>\n",
       "      <th>Altitude (m)</th>\n",
       "      <th>Altitude Intervals</th>\n",
       "    </tr>\n",
       "  </thead>\n",
       "  <tbody>\n",
       "    <tr>\n",
       "      <th>0</th>\n",
       "      <td>Cônego Marinho</td>\n",
       "      <td>650</td>\n",
       "      <td>600-850m</td>\n",
       "    </tr>\n",
       "    <tr>\n",
       "      <th>1</th>\n",
       "      <td>Espinosa</td>\n",
       "      <td>566</td>\n",
       "      <td>300-600m</td>\n",
       "    </tr>\n",
       "    <tr>\n",
       "      <th>2</th>\n",
       "      <td>Formoso</td>\n",
       "      <td>844</td>\n",
       "      <td>600-850m</td>\n",
       "    </tr>\n",
       "    <tr>\n",
       "      <th>3</th>\n",
       "      <td>Gameleiras</td>\n",
       "      <td>519</td>\n",
       "      <td>300-600m</td>\n",
       "    </tr>\n",
       "    <tr>\n",
       "      <th>4</th>\n",
       "      <td>Itacarambi</td>\n",
       "      <td>454</td>\n",
       "      <td>300-600m</td>\n",
       "    </tr>\n",
       "  </tbody>\n",
       "</table>\n",
       "</div>"
      ],
      "text/plain": [
       "             NAME  Altitude (m) Altitude Intervals\n",
       "0  Cônego Marinho           650           600-850m\n",
       "1        Espinosa           566           300-600m\n",
       "2         Formoso           844           600-850m\n",
       "3      Gameleiras           519           300-600m\n",
       "4      Itacarambi           454           300-600m"
      ]
     },
     "execution_count": 137,
     "metadata": {},
     "output_type": "execute_result"
    }
   ],
   "source": [
    "df_altitudes[\"Altitude\"] = pd.cut(x=df_altitudes[\"Altitude (m)\"],bins=[0, 300, 600, 850, 1100, 1500]\n",
    "                    ,labels=[\"0-300m\",\"300-600m\",\"600-850m\",\"850-1100m\",\"1100-1500m\"])\n",
    "df_altitudes[\"NAME\"] = df_altitudes[\"NAME\"].replace(\"\\/MG\",\"\",regex=True)\n",
    "df_altitudes = df_altitudes.rename(columns={\"Altitude\":\"Altitude Intervals\"})\n",
    "df_altitudes.head()"
   ]
  },
  {
   "cell_type": "markdown",
   "id": "right-plenty",
   "metadata": {},
   "source": [
    "## Counting number of cities per category"
   ]
  },
  {
   "cell_type": "code",
   "execution_count": 138,
   "id": "outer-portugal",
   "metadata": {},
   "outputs": [
    {
     "name": "stdout",
     "output_type": "stream",
     "text": [
      "Size per category\n",
      "0-300m         76\n",
      "300-600m      206\n",
      "600-850m      327\n",
      "850-1100m     214\n",
      "1100-1500m     30\n",
      "dtype: int64\n"
     ]
    }
   ],
   "source": [
    "labels=[\"0-300m\",\"300-600m\",\"600-850m\",\"850-1100m\",\"1100-1500m\"]\n",
    "number_of_cities = pd.Series({i:df_altitudes[df_altitudes[\"Altitude Intervals\"]==i][\"Altitude (m)\"].size for i in labels})\n",
    "print(\"Size per category\")\n",
    "print(number_of_cities)"
   ]
  },
  {
   "cell_type": "markdown",
   "id": "exclusive-tracy",
   "metadata": {},
   "source": [
    "## Ploting "
   ]
  },
  {
   "cell_type": "code",
   "execution_count": 139,
   "id": "speaking-asset",
   "metadata": {},
   "outputs": [
    {
     "data": {
      "image/png": "[encoded data removed]",
      "text/plain": [
       "<Figure size 432x288 with 1 Axes>"
      ]
     },
     "metadata": {
      "needs_background": "light"
     },
     "output_type": "display_data"
    }
   ],
   "source": [
    "plt.barh(labels,number_of_cities)\n",
    "plt.title(\"Número de cidades por faixa de altitude - Minas Gerais\")\n",
    "plt.xlabel('Número de cidades')\n",
    "plt.ylabel('Altitude da sede municipal')\n",
    "plt.show()"
   ]
  },
  {
   "cell_type": "markdown",
   "id": "bright-corpus",
   "metadata": {},
   "source": [
    "## Reading CSV with HDI, per capta income etc."
   ]
  },
  {
   "cell_type": "code",
   "execution_count": 140,
   "id": "criminal-explorer",
   "metadata": {},
   "outputs": [],
   "source": [
    "df_idh = pd.read_csv(\"idh.csv\")"
   ]
  },
  {
   "cell_type": "code",
   "execution_count": 141,
   "id": "parental-remark",
   "metadata": {},
   "outputs": [],
   "source": [
    "wrong_names = df_altitudes[~df_altitudes['NAME'].\n",
    "    isin(df_idh['Município'])][\"NAME\"].to_numpy()\n",
    "correct_names = [\"Varjão de Minas\",\"Itabirinha\"]\n",
    "for i in range(len(correct_names)):\n",
    "    df_altitudes.at[df_altitudes[df_altitudes[\"NAME\"]==wrong_names[i]].index[0],\n",
    "          \"NAME\"] = correct_names[i]"
   ]
  },
  {
   "cell_type": "code",
   "execution_count": 142,
   "id": "removed-maker",
   "metadata": {},
   "outputs": [
    {
     "data": {
      "text/html": [
       "<div>\n",
       "<style scoped>\n",
       "    .dataframe tbody tr th:only-of-type {\n",
       "        vertical-align: middle;\n",
       "    }\n",
       "\n",
       "    .dataframe tbody tr th {\n",
       "        vertical-align: top;\n",
       "    }\n",
       "\n",
       "    .dataframe thead th {\n",
       "        text-align: right;\n",
       "    }\n",
       "</style>\n",
       "<table border=\"1\" class=\"dataframe\">\n",
       "  <thead>\n",
       "    <tr style=\"text-align: right;\">\n",
       "      <th></th>\n",
       "      <th>Município</th>\n",
       "      <th>IDHM</th>\n",
       "      <th>Renda per capita</th>\n",
       "      <th>Índice de Gini</th>\n",
       "      <th>População urbana</th>\n",
       "      <th>População rural</th>\n",
       "      <th>População total</th>\n",
       "      <th>Rural/Total</th>\n",
       "    </tr>\n",
       "  </thead>\n",
       "  <tbody>\n",
       "    <tr>\n",
       "      <th>0</th>\n",
       "      <td>Abadia dos Dourados</td>\n",
       "      <td>0.689</td>\n",
       "      <td>596.18</td>\n",
       "      <td>0.47</td>\n",
       "      <td>4189</td>\n",
       "      <td>2515</td>\n",
       "      <td>6704</td>\n",
       "      <td>0.375149</td>\n",
       "    </tr>\n",
       "    <tr>\n",
       "      <th>1</th>\n",
       "      <td>Abaeté</td>\n",
       "      <td>0.698</td>\n",
       "      <td>707.24</td>\n",
       "      <td>0.54</td>\n",
       "      <td>19704</td>\n",
       "      <td>2986</td>\n",
       "      <td>22690</td>\n",
       "      <td>0.131600</td>\n",
       "    </tr>\n",
       "    <tr>\n",
       "      <th>2</th>\n",
       "      <td>Abre Campo</td>\n",
       "      <td>0.654</td>\n",
       "      <td>444.32</td>\n",
       "      <td>0.52</td>\n",
       "      <td>7281</td>\n",
       "      <td>6030</td>\n",
       "      <td>13311</td>\n",
       "      <td>0.453009</td>\n",
       "    </tr>\n",
       "    <tr>\n",
       "      <th>3</th>\n",
       "      <td>Acaiaca</td>\n",
       "      <td>0.630</td>\n",
       "      <td>357.03</td>\n",
       "      <td>0.48</td>\n",
       "      <td>2553</td>\n",
       "      <td>1367</td>\n",
       "      <td>3920</td>\n",
       "      <td>0.348724</td>\n",
       "    </tr>\n",
       "    <tr>\n",
       "      <th>4</th>\n",
       "      <td>Açucena</td>\n",
       "      <td>0.610</td>\n",
       "      <td>325.42</td>\n",
       "      <td>0.48</td>\n",
       "      <td>4805</td>\n",
       "      <td>5471</td>\n",
       "      <td>10276</td>\n",
       "      <td>0.532406</td>\n",
       "    </tr>\n",
       "  </tbody>\n",
       "</table>\n",
       "</div>"
      ],
      "text/plain": [
       "             Município   IDHM  Renda per capita  Índice de Gini  \\\n",
       "0  Abadia dos Dourados  0.689            596.18            0.47   \n",
       "1               Abaeté  0.698            707.24            0.54   \n",
       "2           Abre Campo  0.654            444.32            0.52   \n",
       "3              Acaiaca  0.630            357.03            0.48   \n",
       "4              Açucena  0.610            325.42            0.48   \n",
       "\n",
       "   População urbana  População rural  População total  Rural/Total  \n",
       "0              4189             2515             6704     0.375149  \n",
       "1             19704             2986            22690     0.131600  \n",
       "2              7281             6030            13311     0.453009  \n",
       "3              2553             1367             3920     0.348724  \n",
       "4              4805             5471            10276     0.532406  "
      ]
     },
     "execution_count": 142,
     "metadata": {},
     "output_type": "execute_result"
    }
   ],
   "source": [
    "df_idh = df_idh.loc[:, ['Município', 'IDHM','Renda per capita','Índice de Gini',\n",
    "                        'População urbana','População rural','População total']]\n",
    "df_idh[\"Rural/Total\"] = df_idh['População rural']/df_idh['População total']\n",
    "df_idh.head()"
   ]
  },
  {
   "cell_type": "markdown",
   "id": "isolated-western",
   "metadata": {},
   "source": [
    "## Merging DFS"
   ]
  },
  {
   "cell_type": "code",
   "execution_count": 143,
   "id": "aboriginal-organic",
   "metadata": {},
   "outputs": [
    {
     "data": {
      "text/html": [
       "<div>\n",
       "<style scoped>\n",
       "    .dataframe tbody tr th:only-of-type {\n",
       "        vertical-align: middle;\n",
       "    }\n",
       "\n",
       "    .dataframe tbody tr th {\n",
       "        vertical-align: top;\n",
       "    }\n",
       "\n",
       "    .dataframe thead th {\n",
       "        text-align: right;\n",
       "    }\n",
       "</style>\n",
       "<table border=\"1\" class=\"dataframe\">\n",
       "  <thead>\n",
       "    <tr style=\"text-align: right;\">\n",
       "      <th></th>\n",
       "      <th>NAME</th>\n",
       "      <th>Altitude (m)</th>\n",
       "      <th>Altitude Intervals</th>\n",
       "      <th>IDHM</th>\n",
       "      <th>Renda per capita</th>\n",
       "      <th>Índice de Gini</th>\n",
       "      <th>População urbana</th>\n",
       "      <th>População rural</th>\n",
       "      <th>População total</th>\n",
       "      <th>Rural/Total</th>\n",
       "    </tr>\n",
       "  </thead>\n",
       "  <tbody>\n",
       "    <tr>\n",
       "      <th>0</th>\n",
       "      <td>Cônego Marinho</td>\n",
       "      <td>650</td>\n",
       "      <td>600-850m</td>\n",
       "      <td>0.621</td>\n",
       "      <td>245.64</td>\n",
       "      <td>0.52</td>\n",
       "      <td>1915</td>\n",
       "      <td>5186</td>\n",
       "      <td>7101</td>\n",
       "      <td>0.730320</td>\n",
       "    </tr>\n",
       "    <tr>\n",
       "      <th>1</th>\n",
       "      <td>Espinosa</td>\n",
       "      <td>566</td>\n",
       "      <td>300-600m</td>\n",
       "      <td>0.627</td>\n",
       "      <td>299.13</td>\n",
       "      <td>0.45</td>\n",
       "      <td>18023</td>\n",
       "      <td>13090</td>\n",
       "      <td>31113</td>\n",
       "      <td>0.420724</td>\n",
       "    </tr>\n",
       "    <tr>\n",
       "      <th>2</th>\n",
       "      <td>Formoso</td>\n",
       "      <td>844</td>\n",
       "      <td>600-850m</td>\n",
       "      <td>0.640</td>\n",
       "      <td>370.41</td>\n",
       "      <td>0.54</td>\n",
       "      <td>5173</td>\n",
       "      <td>3004</td>\n",
       "      <td>8177</td>\n",
       "      <td>0.367372</td>\n",
       "    </tr>\n",
       "    <tr>\n",
       "      <th>3</th>\n",
       "      <td>Gameleiras</td>\n",
       "      <td>519</td>\n",
       "      <td>300-600m</td>\n",
       "      <td>0.650</td>\n",
       "      <td>258.85</td>\n",
       "      <td>0.50</td>\n",
       "      <td>1413</td>\n",
       "      <td>3726</td>\n",
       "      <td>5139</td>\n",
       "      <td>0.725044</td>\n",
       "    </tr>\n",
       "    <tr>\n",
       "      <th>4</th>\n",
       "      <td>Itacarambi</td>\n",
       "      <td>454</td>\n",
       "      <td>300-600m</td>\n",
       "      <td>0.641</td>\n",
       "      <td>321.22</td>\n",
       "      <td>0.50</td>\n",
       "      <td>13799</td>\n",
       "      <td>3921</td>\n",
       "      <td>17720</td>\n",
       "      <td>0.221275</td>\n",
       "    </tr>\n",
       "  </tbody>\n",
       "</table>\n",
       "</div>"
      ],
      "text/plain": [
       "             NAME  Altitude (m) Altitude Intervals   IDHM  Renda per capita  \\\n",
       "0  Cônego Marinho           650           600-850m  0.621            245.64   \n",
       "1        Espinosa           566           300-600m  0.627            299.13   \n",
       "2         Formoso           844           600-850m  0.640            370.41   \n",
       "3      Gameleiras           519           300-600m  0.650            258.85   \n",
       "4      Itacarambi           454           300-600m  0.641            321.22   \n",
       "\n",
       "   Índice de Gini  População urbana  População rural  População total  \\\n",
       "0            0.52              1915             5186             7101   \n",
       "1            0.45             18023            13090            31113   \n",
       "2            0.54              5173             3004             8177   \n",
       "3            0.50              1413             3726             5139   \n",
       "4            0.50             13799             3921            17720   \n",
       "\n",
       "   Rural/Total  \n",
       "0     0.730320  \n",
       "1     0.420724  \n",
       "2     0.367372  \n",
       "3     0.725044  \n",
       "4     0.221275  "
      ]
     },
     "execution_count": 143,
     "metadata": {},
     "output_type": "execute_result"
    }
   ],
   "source": [
    "df_idh = df_idh.rename(columns={\"Município\": \"NAME\"})\n",
    "df_altitudes = df_altitudes.merge(df_idh)\n",
    "df_altitudes.head()"
   ]
  },
  {
   "cell_type": "markdown",
   "id": "criminal-language",
   "metadata": {},
   "source": [
    "## Correlating IDHM and Altitude"
   ]
  },
  {
   "cell_type": "code",
   "execution_count": 144,
   "id": "color-disabled",
   "metadata": {},
   "outputs": [
    {
     "name": "stdout",
     "output_type": "stream",
     "text": [
      "CORRELATION BETWEEN IDHM AND ALTITUDE\n",
      "0.233203155888095\n",
      "5.3380130463004375e-12\n"
     ]
    }
   ],
   "source": [
    "print(\"CORRELATION BETWEEN IDHM AND ALTITUDE\")\n",
    "corr_altitude,pval=stats.pearsonr(df_altitudes['IDHM'],df_altitudes[\"Altitude (m)\"])\n",
    "print(corr_altitude)\n",
    "print(pval)"
   ]
  },
  {
   "cell_type": "markdown",
   "id": "fifty-episode",
   "metadata": {},
   "source": [
    "## Correlating Per capta income and Altitude"
   ]
  },
  {
   "cell_type": "code",
   "execution_count": 145,
   "id": "smoking-density",
   "metadata": {},
   "outputs": [
    {
     "name": "stdout",
     "output_type": "stream",
     "text": [
      "CORRELAÇÃO ALTITUDE RENDA PER CAPITA\n",
      "0.23012711445759743\n",
      "1.0261818574150218e-11\n"
     ]
    }
   ],
   "source": [
    "print(\"CORRELAÇÃO ALTITUDE RENDA PER CAPITA\")\n",
    "corr_altitude,pval=stats.pearsonr(df_altitudes['Renda per capita'],df_altitudes[\"Altitude (m)\"])\n",
    "print(corr_altitude)\n",
    "print(pval)"
   ]
  },
  {
   "cell_type": "markdown",
   "id": "vocal-musical",
   "metadata": {},
   "source": [
    "## Correlating IDHM and rural population ratio"
   ]
  },
  {
   "cell_type": "code",
   "execution_count": 146,
   "id": "numerical-edition",
   "metadata": {},
   "outputs": [
    {
     "name": "stdout",
     "output_type": "stream",
     "text": [
      "CORRELAÇÃO IDHM - POPULAÇÃO RURAL\n",
      "-0.6923813135585672\n",
      "9.361683144621764e-123\n"
     ]
    },
    {
     "data": {
      "image/png": "[encoded data removed]",
      "text/plain": [
       "<Figure size 432x288 with 1 Axes>"
      ]
     },
     "metadata": {
      "needs_background": "light"
     },
     "output_type": "display_data"
    }
   ],
   "source": [
    "print(\"CORRELAÇÃO IDHM - POPULAÇÃO RURAL\")\n",
    "corr_altitude,pval=stats.pearsonr(df_altitudes['IDHM'],df_altitudes[\"Rural/Total\"])\n",
    "print(corr_altitude)\n",
    "print(pval)\n",
    "m,b = np.polyfit(df_altitudes['IDHM'], df_altitudes[\"Rural/Total\"], deg=1)\n",
    "plt.plot(df_altitudes['IDHM'], m*df_altitudes['IDHM'] + b)\n",
    "plt.scatter(df_altitudes[\"IDHM\"],df_altitudes[\"Rural/Total\"], s=4, color='red')\n",
    "plt.title(\"IDHM por % de população rural\")\n",
    "plt.xlabel('IDHM')\n",
    "plt.ylabel('% de População Rural')\n",
    "plt.show()"
   ]
  },
  {
   "cell_type": "code",
   "execution_count": null,
   "id": "indonesian-analysis",
   "metadata": {},
   "outputs": [],
   "source": []
  }
 ],
 "metadata": {
  "kernelspec": {
   "display_name": "Python 3",
   "language": "python",
   "name": "python3"
  },
  "language_info": {
   "codemirror_mode": {
    "name": "ipython",
    "version": 3
   },
   "file_extension": ".py",
   "mimetype": "text/x-python",
   "name": "python",
   "nbconvert_exporter": "python",
   "pygments_lexer": "ipython3",
   "version": "3.8.6"
  }
 },
 "nbformat": 4,
 "nbformat_minor": 5
}
