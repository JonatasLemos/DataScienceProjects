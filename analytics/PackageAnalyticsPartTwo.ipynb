{
 "cells": [
  {
   "cell_type": "markdown",
   "metadata": {
    "id": "U6XQ5zcKuG1k"
   },
   "source": [
    "# Drawing conclusions from analytics values"
   ]
  },
  {
   "cell_type": "code",
   "execution_count": 84,
   "metadata": {
    "id": "cwpWcl8y65zY"
   },
   "outputs": [],
   "source": [
    "import pandas as pd\n",
    "import numpy as np\n",
    "import matplotlib.pyplot as plt\n",
    "df_packages = pd.read_csv(\"packages.csv\")\n",
    "df_packages = df_packages.rename(columns=\n",
    "                                 {\"name\":\"package name\",\"desc\": \"package description\", \"last_30_d\": \"installs last 30 days\",\n",
    "                                  \"last_90_d\":\"installs last 90 days\",\"last_year\":\"installs last year\"})\n",
    "df_packages = df_packages.drop(\"build_error\",axis=1)\n",
    "len_col = len(df_packages[\"installs last year\"])"
   ]
  },
  {
   "cell_type": "code",
   "execution_count": 85,
   "metadata": {
    "colab": {
     "base_uri": "https://localhost:8080/",
     "height": 142
    },
    "id": "Vavq_a1VllE-",
    "outputId": "f012e7e8-9393-4e2a-d478-655293c32fd3"
   },
   "outputs": [
    {
     "data": {
      "text/html": [
       "<div>\n",
       "<style scoped>\n",
       "    .dataframe tbody tr th:only-of-type {\n",
       "        vertical-align: middle;\n",
       "    }\n",
       "\n",
       "    .dataframe tbody tr th {\n",
       "        vertical-align: top;\n",
       "    }\n",
       "\n",
       "    .dataframe thead th {\n",
       "        text-align: right;\n",
       "    }\n",
       "</style>\n",
       "<table border=\"1\" class=\"dataframe\">\n",
       "  <thead>\n",
       "    <tr style=\"text-align: right;\">\n",
       "      <th></th>\n",
       "      <th>package name</th>\n",
       "      <th>package description</th>\n",
       "      <th>installs last 30 days</th>\n",
       "      <th>installs last 90 days</th>\n",
       "      <th>installs last year</th>\n",
       "    </tr>\n",
       "  </thead>\n",
       "  <tbody>\n",
       "    <tr>\n",
       "      <th>0</th>\n",
       "      <td>a2ps</td>\n",
       "      <td>Any-to-PostScript filter</td>\n",
       "      <td>106</td>\n",
       "      <td>263</td>\n",
       "      <td>1013</td>\n",
       "    </tr>\n",
       "    <tr>\n",
       "      <th>1</th>\n",
       "      <td>a52dec</td>\n",
       "      <td>Library for decoding ATSC A/52 streams (AKA 'A...</td>\n",
       "      <td>100</td>\n",
       "      <td>242</td>\n",
       "      <td>732</td>\n",
       "    </tr>\n",
       "    <tr>\n",
       "      <th>2</th>\n",
       "      <td>aacgain</td>\n",
       "      <td>AAC-supporting version of mp3gain</td>\n",
       "      <td>60</td>\n",
       "      <td>150</td>\n",
       "      <td>602</td>\n",
       "    </tr>\n",
       "  </tbody>\n",
       "</table>\n",
       "</div>"
      ],
      "text/plain": [
       "  package name                                package description  \\\n",
       "0         a2ps                           Any-to-PostScript filter   \n",
       "1       a52dec  Library for decoding ATSC A/52 streams (AKA 'A...   \n",
       "2      aacgain                  AAC-supporting version of mp3gain   \n",
       "\n",
       "   installs last 30 days  installs last 90 days  installs last year  \n",
       "0                    106                    263                1013  \n",
       "1                    100                    242                 732  \n",
       "2                     60                    150                 602  "
      ]
     },
     "execution_count": 85,
     "metadata": {},
     "output_type": "execute_result"
    }
   ],
   "source": [
    "df_packages.head(3)"
   ]
  },
  {
   "cell_type": "markdown",
   "metadata": {
    "id": "fAzd-cJOvsmD"
   },
   "source": [
    "## Sorting values by installs in last 90 days\n"
   ]
  },
  {
   "cell_type": "code",
   "execution_count": 86,
   "metadata": {
    "colab": {
     "base_uri": "https://localhost:8080/",
     "height": 142
    },
    "id": "9UaNl1jV8qw_",
    "outputId": "d60758ee-1ff9-48b4-b836-a20f9ec6e88e"
   },
   "outputs": [
    {
     "data": {
      "text/html": [
       "<div>\n",
       "<style scoped>\n",
       "    .dataframe tbody tr th:only-of-type {\n",
       "        vertical-align: middle;\n",
       "    }\n",
       "\n",
       "    .dataframe tbody tr th {\n",
       "        vertical-align: top;\n",
       "    }\n",
       "\n",
       "    .dataframe thead th {\n",
       "        text-align: right;\n",
       "    }\n",
       "</style>\n",
       "<table border=\"1\" class=\"dataframe\">\n",
       "  <thead>\n",
       "    <tr style=\"text-align: right;\">\n",
       "      <th></th>\n",
       "      <th>package name</th>\n",
       "      <th>package description</th>\n",
       "      <th>installs last 30 days</th>\n",
       "      <th>installs last 90 days</th>\n",
       "      <th>installs last year</th>\n",
       "      <th>position_90d</th>\n",
       "    </tr>\n",
       "  </thead>\n",
       "  <tbody>\n",
       "    <tr>\n",
       "      <th>4069</th>\n",
       "      <td>python@3.9</td>\n",
       "      <td>Interpreted, interactive, object-oriented prog...</td>\n",
       "      <td>734572</td>\n",
       "      <td>2419581</td>\n",
       "      <td>3129188</td>\n",
       "      <td>0</td>\n",
       "    </tr>\n",
       "    <tr>\n",
       "      <th>3655</th>\n",
       "      <td>openssl@1.1</td>\n",
       "      <td>Cryptography and SSL/TLS Toolkit</td>\n",
       "      <td>688868</td>\n",
       "      <td>2244016</td>\n",
       "      <td>8238647</td>\n",
       "      <td>1</td>\n",
       "    </tr>\n",
       "    <tr>\n",
       "      <th>4177</th>\n",
       "      <td>readline</td>\n",
       "      <td>Library for command-line editing</td>\n",
       "      <td>605013</td>\n",
       "      <td>1804149</td>\n",
       "      <td>6047926</td>\n",
       "      <td>2</td>\n",
       "    </tr>\n",
       "  </tbody>\n",
       "</table>\n",
       "</div>"
      ],
      "text/plain": [
       "     package name                                package description  \\\n",
       "4069   python@3.9  Interpreted, interactive, object-oriented prog...   \n",
       "3655  openssl@1.1                   Cryptography and SSL/TLS Toolkit   \n",
       "4177     readline                   Library for command-line editing   \n",
       "\n",
       "      installs last 30 days  installs last 90 days  installs last year  \\\n",
       "4069                 734572                2419581             3129188   \n",
       "3655                 688868                2244016             8238647   \n",
       "4177                 605013                1804149             6047926   \n",
       "\n",
       "      position_90d  \n",
       "4069             0  \n",
       "3655             1  \n",
       "4177             2  "
      ]
     },
     "execution_count": 86,
     "metadata": {},
     "output_type": "execute_result"
    }
   ],
   "source": [
    "df_packages_90d = df_packages.sort_values(by=\"installs last 90 days\",ascending=False)\n",
    "df_packages_90d[\"position_90d\"] = np.arange(len_col)\n",
    "df_packages_90d.head(3)"
   ]
  },
  {
   "cell_type": "markdown",
   "metadata": {
    "id": "Uka0rvN7wfbb"
   },
   "source": [
    "## Sorting values by installs last 30 days to see the package's change in position - Which packages are becoming more popular compared to 90 days before? And less popular?\n"
   ]
  },
  {
   "cell_type": "code",
   "execution_count": 87,
   "metadata": {
    "colab": {
     "base_uri": "https://localhost:8080/",
     "height": 504
    },
    "id": "J1IXWrcJD7BU",
    "outputId": "9a2ca90c-889d-48cb-f82e-99c0d7309caa"
   },
   "outputs": [],
   "source": [
    "df_packages_30d = df_packages_90d.sort_values(by=\"installs last 30 days\",ascending=False)\n",
    "df_packages_30d[\"position_30d\"] = np.arange(len_col)\n",
    "df_packages_30d[\"change of position\"] = df_packages_30d[\"position_90d\"]-df_packages_30d[\"position_30d\"]"
   ]
  },
  {
   "cell_type": "markdown",
   "metadata": {
    "id": "JB0j3Yw3xQA5"
   },
   "source": [
    "## Sorting values by installs in last year\n"
   ]
  },
  {
   "cell_type": "code",
   "execution_count": 88,
   "metadata": {
    "colab": {
     "base_uri": "https://localhost:8080/",
     "height": 142
    },
    "id": "o0kdCg1OhDOd",
    "outputId": "3f0a5c23-db7e-42f5-ab78-a2f44d69178d"
   },
   "outputs": [
    {
     "data": {
      "text/html": [
       "<div>\n",
       "<style scoped>\n",
       "    .dataframe tbody tr th:only-of-type {\n",
       "        vertical-align: middle;\n",
       "    }\n",
       "\n",
       "    .dataframe tbody tr th {\n",
       "        vertical-align: top;\n",
       "    }\n",
       "\n",
       "    .dataframe thead th {\n",
       "        text-align: right;\n",
       "    }\n",
       "</style>\n",
       "<table border=\"1\" class=\"dataframe\">\n",
       "  <thead>\n",
       "    <tr style=\"text-align: right;\">\n",
       "      <th></th>\n",
       "      <th>package name</th>\n",
       "      <th>package description</th>\n",
       "      <th>installs last 30 days</th>\n",
       "      <th>installs last 90 days</th>\n",
       "      <th>installs last year</th>\n",
       "      <th>position_last_year</th>\n",
       "    </tr>\n",
       "  </thead>\n",
       "  <tbody>\n",
       "    <tr>\n",
       "      <th>3655</th>\n",
       "      <td>openssl@1.1</td>\n",
       "      <td>Cryptography and SSL/TLS Toolkit</td>\n",
       "      <td>688868</td>\n",
       "      <td>2244016</td>\n",
       "      <td>8238647</td>\n",
       "      <td>0</td>\n",
       "    </tr>\n",
       "    <tr>\n",
       "      <th>4177</th>\n",
       "      <td>readline</td>\n",
       "      <td>Library for command-line editing</td>\n",
       "      <td>605013</td>\n",
       "      <td>1804149</td>\n",
       "      <td>6047926</td>\n",
       "      <td>1</td>\n",
       "    </tr>\n",
       "    <tr>\n",
       "      <th>4617</th>\n",
       "      <td>sqlite</td>\n",
       "      <td>Command-line interface for SQLite</td>\n",
       "      <td>477451</td>\n",
       "      <td>1533054</td>\n",
       "      <td>5725333</td>\n",
       "      <td>2</td>\n",
       "    </tr>\n",
       "  </tbody>\n",
       "</table>\n",
       "</div>"
      ],
      "text/plain": [
       "     package name                package description  installs last 30 days  \\\n",
       "3655  openssl@1.1   Cryptography and SSL/TLS Toolkit                 688868   \n",
       "4177     readline   Library for command-line editing                 605013   \n",
       "4617       sqlite  Command-line interface for SQLite                 477451   \n",
       "\n",
       "      installs last 90 days  installs last year  position_last_year  \n",
       "3655                2244016             8238647                   0  \n",
       "4177                1804149             6047926                   1  \n",
       "4617                1533054             5725333                   2  "
      ]
     },
     "execution_count": 88,
     "metadata": {},
     "output_type": "execute_result"
    }
   ],
   "source": [
    "df_packages_year = df_packages.sort_values(by=\"installs last year\",ascending=False)\n",
    "df_packages_year[\"position_last_year\"] = np.arange(len_col)\n",
    "df_packages_year.head(3)"
   ]
  },
  {
   "cell_type": "markdown",
   "metadata": {
    "id": "3l3GhFz_xdoC"
   },
   "source": [
    "## Sorting values by installs last 30 days to see the package's change of position - Which packages are becoming more popular compared to a year before? And less popular?\n"
   ]
  },
  {
   "cell_type": "code",
   "execution_count": 89,
   "metadata": {
    "colab": {
     "base_uri": "https://localhost:8080/",
     "height": 504
    },
    "id": "h3c8bBYakEo8",
    "outputId": "3dee67d9-56d1-49ed-b5f3-05927b899fa7"
   },
   "outputs": [
    {
     "data": {
      "text/html": [
       "<div>\n",
       "<style scoped>\n",
       "    .dataframe tbody tr th:only-of-type {\n",
       "        vertical-align: middle;\n",
       "    }\n",
       "\n",
       "    .dataframe tbody tr th {\n",
       "        vertical-align: top;\n",
       "    }\n",
       "\n",
       "    .dataframe thead th {\n",
       "        text-align: right;\n",
       "    }\n",
       "</style>\n",
       "<table border=\"1\" class=\"dataframe\">\n",
       "  <thead>\n",
       "    <tr style=\"text-align: right;\">\n",
       "      <th></th>\n",
       "      <th>package name</th>\n",
       "      <th>package description</th>\n",
       "      <th>installs last 30 days</th>\n",
       "      <th>installs last 90 days</th>\n",
       "      <th>installs last year</th>\n",
       "      <th>position_last_year</th>\n",
       "      <th>position_30d</th>\n",
       "      <th>change of position</th>\n",
       "    </tr>\n",
       "  </thead>\n",
       "  <tbody>\n",
       "    <tr>\n",
       "      <th>4069</th>\n",
       "      <td>python@3.9</td>\n",
       "      <td>Interpreted, interactive, object-oriented prog...</td>\n",
       "      <td>734572</td>\n",
       "      <td>2419581</td>\n",
       "      <td>3129188</td>\n",
       "      <td>10</td>\n",
       "      <td>0</td>\n",
       "      <td>10</td>\n",
       "    </tr>\n",
       "    <tr>\n",
       "      <th>3655</th>\n",
       "      <td>openssl@1.1</td>\n",
       "      <td>Cryptography and SSL/TLS Toolkit</td>\n",
       "      <td>688868</td>\n",
       "      <td>2244016</td>\n",
       "      <td>8238647</td>\n",
       "      <td>0</td>\n",
       "      <td>1</td>\n",
       "      <td>-1</td>\n",
       "    </tr>\n",
       "    <tr>\n",
       "      <th>4781</th>\n",
       "      <td>tcl-tk</td>\n",
       "      <td>Tool Command Language</td>\n",
       "      <td>638433</td>\n",
       "      <td>792986</td>\n",
       "      <td>877834</td>\n",
       "      <td>87</td>\n",
       "      <td>2</td>\n",
       "      <td>85</td>\n",
       "    </tr>\n",
       "    <tr>\n",
       "      <th>4177</th>\n",
       "      <td>readline</td>\n",
       "      <td>Library for command-line editing</td>\n",
       "      <td>605013</td>\n",
       "      <td>1804149</td>\n",
       "      <td>6047926</td>\n",
       "      <td>1</td>\n",
       "      <td>3</td>\n",
       "      <td>-2</td>\n",
       "    </tr>\n",
       "    <tr>\n",
       "      <th>4617</th>\n",
       "      <td>sqlite</td>\n",
       "      <td>Command-line interface for SQLite</td>\n",
       "      <td>477451</td>\n",
       "      <td>1533054</td>\n",
       "      <td>5725333</td>\n",
       "      <td>2</td>\n",
       "      <td>4</td>\n",
       "      <td>-2</td>\n",
       "    </tr>\n",
       "    <tr>\n",
       "      <th>...</th>\n",
       "      <td>...</td>\n",
       "      <td>...</td>\n",
       "      <td>...</td>\n",
       "      <td>...</td>\n",
       "      <td>...</td>\n",
       "      <td>...</td>\n",
       "      <td>...</td>\n",
       "      <td>...</td>\n",
       "    </tr>\n",
       "    <tr>\n",
       "      <th>3885</th>\n",
       "      <td>pk</td>\n",
       "      <td>Field extractor command-line utility</td>\n",
       "      <td>0</td>\n",
       "      <td>3</td>\n",
       "      <td>28</td>\n",
       "      <td>5115</td>\n",
       "      <td>5472</td>\n",
       "      <td>-357</td>\n",
       "    </tr>\n",
       "    <tr>\n",
       "      <th>3080</th>\n",
       "      <td>makeicns</td>\n",
       "      <td>Create icns files from the command-line</td>\n",
       "      <td>0</td>\n",
       "      <td>39</td>\n",
       "      <td>329</td>\n",
       "      <td>3305</td>\n",
       "      <td>5473</td>\n",
       "      <td>-2168</td>\n",
       "    </tr>\n",
       "    <tr>\n",
       "      <th>2397</th>\n",
       "      <td>kobalt</td>\n",
       "      <td>Build system</td>\n",
       "      <td>0</td>\n",
       "      <td>6</td>\n",
       "      <td>43</td>\n",
       "      <td>4900</td>\n",
       "      <td>5474</td>\n",
       "      <td>-574</td>\n",
       "    </tr>\n",
       "    <tr>\n",
       "      <th>4832</th>\n",
       "      <td>terraform-provisioner-ansible</td>\n",
       "      <td>Ansible provisioner for Terraform</td>\n",
       "      <td>0</td>\n",
       "      <td>0</td>\n",
       "      <td>174</td>\n",
       "      <td>3873</td>\n",
       "      <td>5475</td>\n",
       "      <td>-1602</td>\n",
       "    </tr>\n",
       "    <tr>\n",
       "      <th>2735</th>\n",
       "      <td>libnfnetlink</td>\n",
       "      <td>Low-level library for netfilter related commun...</td>\n",
       "      <td>0</td>\n",
       "      <td>0</td>\n",
       "      <td>0</td>\n",
       "      <td>5476</td>\n",
       "      <td>5476</td>\n",
       "      <td>0</td>\n",
       "    </tr>\n",
       "  </tbody>\n",
       "</table>\n",
       "<p>5477 rows × 8 columns</p>\n",
       "</div>"
      ],
      "text/plain": [
       "                       package name  \\\n",
       "4069                     python@3.9   \n",
       "3655                    openssl@1.1   \n",
       "4781                         tcl-tk   \n",
       "4177                       readline   \n",
       "4617                         sqlite   \n",
       "...                             ...   \n",
       "3885                             pk   \n",
       "3080                       makeicns   \n",
       "2397                         kobalt   \n",
       "4832  terraform-provisioner-ansible   \n",
       "2735                   libnfnetlink   \n",
       "\n",
       "                                    package description  \\\n",
       "4069  Interpreted, interactive, object-oriented prog...   \n",
       "3655                   Cryptography and SSL/TLS Toolkit   \n",
       "4781                              Tool Command Language   \n",
       "4177                   Library for command-line editing   \n",
       "4617                  Command-line interface for SQLite   \n",
       "...                                                 ...   \n",
       "3885               Field extractor command-line utility   \n",
       "3080            Create icns files from the command-line   \n",
       "2397                                       Build system   \n",
       "4832                  Ansible provisioner for Terraform   \n",
       "2735  Low-level library for netfilter related commun...   \n",
       "\n",
       "      installs last 30 days  installs last 90 days  installs last year  \\\n",
       "4069                 734572                2419581             3129188   \n",
       "3655                 688868                2244016             8238647   \n",
       "4781                 638433                 792986              877834   \n",
       "4177                 605013                1804149             6047926   \n",
       "4617                 477451                1533054             5725333   \n",
       "...                     ...                    ...                 ...   \n",
       "3885                      0                      3                  28   \n",
       "3080                      0                     39                 329   \n",
       "2397                      0                      6                  43   \n",
       "4832                      0                      0                 174   \n",
       "2735                      0                      0                   0   \n",
       "\n",
       "      position_last_year  position_30d  change of position  \n",
       "4069                  10             0                  10  \n",
       "3655                   0             1                  -1  \n",
       "4781                  87             2                  85  \n",
       "4177                   1             3                  -2  \n",
       "4617                   2             4                  -2  \n",
       "...                  ...           ...                 ...  \n",
       "3885                5115          5472                -357  \n",
       "3080                3305          5473               -2168  \n",
       "2397                4900          5474                -574  \n",
       "4832                3873          5475               -1602  \n",
       "2735                5476          5476                   0  \n",
       "\n",
       "[5477 rows x 8 columns]"
      ]
     },
     "execution_count": 89,
     "metadata": {},
     "output_type": "execute_result"
    }
   ],
   "source": [
    "df_packages_30d_last = df_packages_year.sort_values(by=\"installs last 30 days\",ascending=False)\n",
    "df_packages_30d_last[\"position_30d\"] = np.arange(len_col)\n",
    "df_packages_30d_last[\"change of position\"] = df_packages_30d_last[\"position_last_year\"]-df_packages_30d_last[\"position_30d\"]\n",
    "df_packages_30d_last"
   ]
  },
  {
   "cell_type": "markdown",
   "metadata": {
    "id": "XurcSWVOyKDh"
   },
   "source": [
    "## major changes of position - first 10 installed packages - Last year to last 30 days"
   ]
  },
  {
   "cell_type": "code",
   "execution_count": 90,
   "metadata": {
    "colab": {
     "base_uri": "https://localhost:8080/",
     "height": 444
    },
    "id": "4dxD1SYhTDoV",
    "outputId": "c873679d-b335-475c-8b41-4692af3e7eca"
   },
   "outputs": [
    {
     "data": {
      "text/html": [
       "<div>\n",
       "<style scoped>\n",
       "    .dataframe tbody tr th:only-of-type {\n",
       "        vertical-align: middle;\n",
       "    }\n",
       "\n",
       "    .dataframe tbody tr th {\n",
       "        vertical-align: top;\n",
       "    }\n",
       "\n",
       "    .dataframe thead th {\n",
       "        text-align: right;\n",
       "    }\n",
       "</style>\n",
       "<table border=\"1\" class=\"dataframe\">\n",
       "  <thead>\n",
       "    <tr style=\"text-align: right;\">\n",
       "      <th></th>\n",
       "      <th>package name</th>\n",
       "      <th>package description</th>\n",
       "      <th>installs last 30 days</th>\n",
       "      <th>installs last 90 days</th>\n",
       "      <th>installs last year</th>\n",
       "      <th>position_last_year</th>\n",
       "      <th>position_30d</th>\n",
       "      <th>change of position</th>\n",
       "    </tr>\n",
       "  </thead>\n",
       "  <tbody>\n",
       "    <tr>\n",
       "      <th>4781</th>\n",
       "      <td>tcl-tk</td>\n",
       "      <td>Tool Command Language</td>\n",
       "      <td>638433</td>\n",
       "      <td>792986</td>\n",
       "      <td>877834</td>\n",
       "      <td>87</td>\n",
       "      <td>2</td>\n",
       "      <td>85</td>\n",
       "    </tr>\n",
       "    <tr>\n",
       "      <th>4069</th>\n",
       "      <td>python@3.9</td>\n",
       "      <td>Interpreted, interactive, object-oriented prog...</td>\n",
       "      <td>734572</td>\n",
       "      <td>2419581</td>\n",
       "      <td>3129188</td>\n",
       "      <td>10</td>\n",
       "      <td>0</td>\n",
       "      <td>10</td>\n",
       "    </tr>\n",
       "    <tr>\n",
       "      <th>2614</th>\n",
       "      <td>libffi</td>\n",
       "      <td>Portable Foreign Function Interface library</td>\n",
       "      <td>404198</td>\n",
       "      <td>862198</td>\n",
       "      <td>2793010</td>\n",
       "      <td>11</td>\n",
       "      <td>5</td>\n",
       "      <td>6</td>\n",
       "    </tr>\n",
       "    <tr>\n",
       "      <th>1706</th>\n",
       "      <td>glib</td>\n",
       "      <td>Core application library for C</td>\n",
       "      <td>375067</td>\n",
       "      <td>1061549</td>\n",
       "      <td>4183253</td>\n",
       "      <td>7</td>\n",
       "      <td>6</td>\n",
       "      <td>1</td>\n",
       "    </tr>\n",
       "    <tr>\n",
       "      <th>1540</th>\n",
       "      <td>gdbm</td>\n",
       "      <td>GNU database manager</td>\n",
       "      <td>319317</td>\n",
       "      <td>970874</td>\n",
       "      <td>3719001</td>\n",
       "      <td>9</td>\n",
       "      <td>8</td>\n",
       "      <td>1</td>\n",
       "    </tr>\n",
       "  </tbody>\n",
       "</table>\n",
       "</div>"
      ],
      "text/plain": [
       "     package name                                package description  \\\n",
       "4781       tcl-tk                              Tool Command Language   \n",
       "4069   python@3.9  Interpreted, interactive, object-oriented prog...   \n",
       "2614       libffi        Portable Foreign Function Interface library   \n",
       "1706         glib                     Core application library for C   \n",
       "1540         gdbm                               GNU database manager   \n",
       "\n",
       "      installs last 30 days  installs last 90 days  installs last year  \\\n",
       "4781                 638433                 792986              877834   \n",
       "4069                 734572                2419581             3129188   \n",
       "2614                 404198                 862198             2793010   \n",
       "1706                 375067                1061549             4183253   \n",
       "1540                 319317                 970874             3719001   \n",
       "\n",
       "      position_last_year  position_30d  change of position  \n",
       "4781                  87             2                  85  \n",
       "4069                  10             0                  10  \n",
       "2614                  11             5                   6  \n",
       "1706                   7             6                   1  \n",
       "1540                   9             8                   1  "
      ]
     },
     "execution_count": 90,
     "metadata": {},
     "output_type": "execute_result"
    }
   ],
   "source": [
    "df_major_changes_30d_last = df_packages_30d_last.head(10).sort_values(by=\"change of position\",ascending=False)\n",
    "df_major_changes_30d_last.head(5)"
   ]
  },
  {
   "cell_type": "markdown",
   "metadata": {},
   "source": [
    "## major changes of position - first 10 installed packages - Last 90 days to last 30 days"
   ]
  },
  {
   "cell_type": "code",
   "execution_count": 91,
   "metadata": {
    "colab": {
     "base_uri": "https://localhost:8080/",
     "height": 427
    },
    "id": "-ypumPXIWb2_",
    "outputId": "f5ba0575-11b2-4279-f553-7dd9fd054da4"
   },
   "outputs": [
    {
     "data": {
      "text/html": [
       "<div>\n",
       "<style scoped>\n",
       "    .dataframe tbody tr th:only-of-type {\n",
       "        vertical-align: middle;\n",
       "    }\n",
       "\n",
       "    .dataframe tbody tr th {\n",
       "        vertical-align: top;\n",
       "    }\n",
       "\n",
       "    .dataframe thead th {\n",
       "        text-align: right;\n",
       "    }\n",
       "</style>\n",
       "<table border=\"1\" class=\"dataframe\">\n",
       "  <thead>\n",
       "    <tr style=\"text-align: right;\">\n",
       "      <th></th>\n",
       "      <th>package name</th>\n",
       "      <th>package description</th>\n",
       "      <th>installs last 30 days</th>\n",
       "      <th>installs last 90 days</th>\n",
       "      <th>installs last year</th>\n",
       "      <th>position_90d</th>\n",
       "      <th>position_30d</th>\n",
       "      <th>change of position</th>\n",
       "    </tr>\n",
       "  </thead>\n",
       "  <tbody>\n",
       "    <tr>\n",
       "      <th>4781</th>\n",
       "      <td>tcl-tk</td>\n",
       "      <td>Tool Command Language</td>\n",
       "      <td>638433</td>\n",
       "      <td>792986</td>\n",
       "      <td>877834</td>\n",
       "      <td>15</td>\n",
       "      <td>2</td>\n",
       "      <td>13</td>\n",
       "    </tr>\n",
       "    <tr>\n",
       "      <th>2614</th>\n",
       "      <td>libffi</td>\n",
       "      <td>Portable Foreign Function Interface library</td>\n",
       "      <td>404198</td>\n",
       "      <td>862198</td>\n",
       "      <td>2793010</td>\n",
       "      <td>11</td>\n",
       "      <td>5</td>\n",
       "      <td>6</td>\n",
       "    </tr>\n",
       "    <tr>\n",
       "      <th>4069</th>\n",
       "      <td>python@3.9</td>\n",
       "      <td>Interpreted, interactive, object-oriented prog...</td>\n",
       "      <td>734572</td>\n",
       "      <td>2419581</td>\n",
       "      <td>3129188</td>\n",
       "      <td>0</td>\n",
       "      <td>0</td>\n",
       "      <td>0</td>\n",
       "    </tr>\n",
       "    <tr>\n",
       "      <th>3655</th>\n",
       "      <td>openssl@1.1</td>\n",
       "      <td>Cryptography and SSL/TLS Toolkit</td>\n",
       "      <td>688868</td>\n",
       "      <td>2244016</td>\n",
       "      <td>8238647</td>\n",
       "      <td>1</td>\n",
       "      <td>1</td>\n",
       "      <td>0</td>\n",
       "    </tr>\n",
       "    <tr>\n",
       "      <th>4177</th>\n",
       "      <td>readline</td>\n",
       "      <td>Library for command-line editing</td>\n",
       "      <td>605013</td>\n",
       "      <td>1804149</td>\n",
       "      <td>6047926</td>\n",
       "      <td>2</td>\n",
       "      <td>3</td>\n",
       "      <td>-1</td>\n",
       "    </tr>\n",
       "  </tbody>\n",
       "</table>\n",
       "</div>"
      ],
      "text/plain": [
       "     package name                                package description  \\\n",
       "4781       tcl-tk                              Tool Command Language   \n",
       "2614       libffi        Portable Foreign Function Interface library   \n",
       "4069   python@3.9  Interpreted, interactive, object-oriented prog...   \n",
       "3655  openssl@1.1                   Cryptography and SSL/TLS Toolkit   \n",
       "4177     readline                   Library for command-line editing   \n",
       "\n",
       "      installs last 30 days  installs last 90 days  installs last year  \\\n",
       "4781                 638433                 792986              877834   \n",
       "2614                 404198                 862198             2793010   \n",
       "4069                 734572                2419581             3129188   \n",
       "3655                 688868                2244016             8238647   \n",
       "4177                 605013                1804149             6047926   \n",
       "\n",
       "      position_90d  position_30d  change of position  \n",
       "4781            15             2                  13  \n",
       "2614            11             5                   6  \n",
       "4069             0             0                   0  \n",
       "3655             1             1                   0  \n",
       "4177             2             3                  -1  "
      ]
     },
     "execution_count": 91,
     "metadata": {},
     "output_type": "execute_result"
    }
   ],
   "source": [
    "df_great_changes_30d_90 = df_packages_30d.head(10).sort_values(by=\"change of position\",ascending=False)\n",
    "df_great_changes_30d_90.head(5)"
   ]
  },
  {
   "cell_type": "markdown",
   "metadata": {},
   "source": [
    "## major changes of position - all installed packages - Last year to last 30 days"
   ]
  },
  {
   "cell_type": "code",
   "execution_count": 92,
   "metadata": {
    "colab": {
     "base_uri": "https://localhost:8080/",
     "height": 555
    },
    "id": "0fn04sIXlkCe",
    "outputId": "0616aa36-5f12-40ee-d103-f5ad68a7bf4b"
   },
   "outputs": [
    {
     "data": {
      "text/html": [
       "<div>\n",
       "<style scoped>\n",
       "    .dataframe tbody tr th:only-of-type {\n",
       "        vertical-align: middle;\n",
       "    }\n",
       "\n",
       "    .dataframe tbody tr th {\n",
       "        vertical-align: top;\n",
       "    }\n",
       "\n",
       "    .dataframe thead th {\n",
       "        text-align: right;\n",
       "    }\n",
       "</style>\n",
       "<table border=\"1\" class=\"dataframe\">\n",
       "  <thead>\n",
       "    <tr style=\"text-align: right;\">\n",
       "      <th></th>\n",
       "      <th>package name</th>\n",
       "      <th>package description</th>\n",
       "      <th>installs last 30 days</th>\n",
       "      <th>installs last 90 days</th>\n",
       "      <th>installs last year</th>\n",
       "      <th>position_last_year</th>\n",
       "      <th>position_30d</th>\n",
       "      <th>change of position</th>\n",
       "    </tr>\n",
       "  </thead>\n",
       "  <tbody>\n",
       "    <tr>\n",
       "      <th>2396</th>\n",
       "      <td>ko</td>\n",
       "      <td>Build and deploy Go applications on Kubernetes</td>\n",
       "      <td>92</td>\n",
       "      <td>92</td>\n",
       "      <td>92</td>\n",
       "      <td>4409</td>\n",
       "      <td>2390</td>\n",
       "      <td>2019</td>\n",
       "    </tr>\n",
       "    <tr>\n",
       "      <th>5161</th>\n",
       "      <td>vsh</td>\n",
       "      <td>HashiCorp Vault interactive shell</td>\n",
       "      <td>88</td>\n",
       "      <td>88</td>\n",
       "      <td>88</td>\n",
       "      <td>4433</td>\n",
       "      <td>2422</td>\n",
       "      <td>2011</td>\n",
       "    </tr>\n",
       "    <tr>\n",
       "      <th>3337</th>\n",
       "      <td>msc-generator</td>\n",
       "      <td>Draws signalling charts from textual description</td>\n",
       "      <td>60</td>\n",
       "      <td>60</td>\n",
       "      <td>60</td>\n",
       "      <td>4692</td>\n",
       "      <td>2705</td>\n",
       "      <td>1987</td>\n",
       "    </tr>\n",
       "    <tr>\n",
       "      <th>889</th>\n",
       "      <td>curlie</td>\n",
       "      <td>Power of curl, ease of use of httpie</td>\n",
       "      <td>79</td>\n",
       "      <td>79</td>\n",
       "      <td>79</td>\n",
       "      <td>4490</td>\n",
       "      <td>2503</td>\n",
       "      <td>1987</td>\n",
       "    </tr>\n",
       "    <tr>\n",
       "      <th>754</th>\n",
       "      <td>coin3d</td>\n",
       "      <td>Open Inventor 2.1 API implementation (Coin) wi...</td>\n",
       "      <td>79</td>\n",
       "      <td>79</td>\n",
       "      <td>79</td>\n",
       "      <td>4492</td>\n",
       "      <td>2505</td>\n",
       "      <td>1987</td>\n",
       "    </tr>\n",
       "    <tr>\n",
       "      <th>...</th>\n",
       "      <td>...</td>\n",
       "      <td>...</td>\n",
       "      <td>...</td>\n",
       "      <td>...</td>\n",
       "      <td>...</td>\n",
       "      <td>...</td>\n",
       "      <td>...</td>\n",
       "      <td>...</td>\n",
       "    </tr>\n",
       "    <tr>\n",
       "      <th>1422</th>\n",
       "      <td>fondu</td>\n",
       "      <td>Tools to convert between different font formats</td>\n",
       "      <td>0</td>\n",
       "      <td>29</td>\n",
       "      <td>515</td>\n",
       "      <td>2893</td>\n",
       "      <td>5406</td>\n",
       "      <td>-2513</td>\n",
       "    </tr>\n",
       "    <tr>\n",
       "      <th>425</th>\n",
       "      <td>boost@1.60</td>\n",
       "      <td>Collection of portable C++ source libraries</td>\n",
       "      <td>10</td>\n",
       "      <td>49</td>\n",
       "      <td>3036</td>\n",
       "      <td>1646</td>\n",
       "      <td>4196</td>\n",
       "      <td>-2550</td>\n",
       "    </tr>\n",
       "    <tr>\n",
       "      <th>1246</th>\n",
       "      <td>erlang@20</td>\n",
       "      <td>Programming language for highly scalable real-...</td>\n",
       "      <td>5</td>\n",
       "      <td>34</td>\n",
       "      <td>4235</td>\n",
       "      <td>1450</td>\n",
       "      <td>4697</td>\n",
       "      <td>-3247</td>\n",
       "    </tr>\n",
       "    <tr>\n",
       "      <th>3729</th>\n",
       "      <td>pandoc-citeproc</td>\n",
       "      <td>Library and executable for using citeproc with...</td>\n",
       "      <td>11</td>\n",
       "      <td>421</td>\n",
       "      <td>18694</td>\n",
       "      <td>760</td>\n",
       "      <td>4165</td>\n",
       "      <td>-3405</td>\n",
       "    </tr>\n",
       "    <tr>\n",
       "      <th>3693</th>\n",
       "      <td>osquery</td>\n",
       "      <td>SQL powered operating system instrumentation a...</td>\n",
       "      <td>2</td>\n",
       "      <td>2</td>\n",
       "      <td>3027</td>\n",
       "      <td>1649</td>\n",
       "      <td>5092</td>\n",
       "      <td>-3443</td>\n",
       "    </tr>\n",
       "  </tbody>\n",
       "</table>\n",
       "<p>5477 rows × 8 columns</p>\n",
       "</div>"
      ],
      "text/plain": [
       "         package name                                package description  \\\n",
       "2396               ko     Build and deploy Go applications on Kubernetes   \n",
       "5161              vsh                  HashiCorp Vault interactive shell   \n",
       "3337    msc-generator   Draws signalling charts from textual description   \n",
       "889            curlie               Power of curl, ease of use of httpie   \n",
       "754            coin3d  Open Inventor 2.1 API implementation (Coin) wi...   \n",
       "...               ...                                                ...   \n",
       "1422            fondu    Tools to convert between different font formats   \n",
       "425        boost@1.60        Collection of portable C++ source libraries   \n",
       "1246        erlang@20  Programming language for highly scalable real-...   \n",
       "3729  pandoc-citeproc  Library and executable for using citeproc with...   \n",
       "3693          osquery  SQL powered operating system instrumentation a...   \n",
       "\n",
       "      installs last 30 days  installs last 90 days  installs last year  \\\n",
       "2396                     92                     92                  92   \n",
       "5161                     88                     88                  88   \n",
       "3337                     60                     60                  60   \n",
       "889                      79                     79                  79   \n",
       "754                      79                     79                  79   \n",
       "...                     ...                    ...                 ...   \n",
       "1422                      0                     29                 515   \n",
       "425                      10                     49                3036   \n",
       "1246                      5                     34                4235   \n",
       "3729                     11                    421               18694   \n",
       "3693                      2                      2                3027   \n",
       "\n",
       "      position_last_year  position_30d  change of position  \n",
       "2396                4409          2390                2019  \n",
       "5161                4433          2422                2011  \n",
       "3337                4692          2705                1987  \n",
       "889                 4490          2503                1987  \n",
       "754                 4492          2505                1987  \n",
       "...                  ...           ...                 ...  \n",
       "1422                2893          5406               -2513  \n",
       "425                 1646          4196               -2550  \n",
       "1246                1450          4697               -3247  \n",
       "3729                 760          4165               -3405  \n",
       "3693                1649          5092               -3443  \n",
       "\n",
       "[5477 rows x 8 columns]"
      ]
     },
     "execution_count": 92,
     "metadata": {},
     "output_type": "execute_result"
    }
   ],
   "source": [
    "df_great_changes_30d_last_all = df_packages_30d_last.sort_values(by=\"change of position\",ascending=False)\n",
    "df_great_changes_30d_last_all"
   ]
  },
  {
   "cell_type": "markdown",
   "metadata": {
    "id": "vtmBtO8QzYMQ"
   },
   "source": [
    "## Creating dictionary with number of installs  \n"
   ]
  },
  {
   "cell_type": "code",
   "execution_count": 93,
   "metadata": {
    "colab": {
     "base_uri": "https://localhost:8080/"
    },
    "id": "SXtGdY1HWO4V",
    "outputId": "631d5874-26d2-4ec1-fd36-0b73851a1ed6",
    "scrolled": true
   },
   "outputs": [
    {
     "data": {
      "text/plain": [
       "{'number of installs last year': 274731178,\n",
       " 'number of installs last 90 days': 79238914,\n",
       " 'number of installs last 30 days': 27365368,\n",
       " 'first 10 - percent - last year': 15.824464961162871,\n",
       " 'first one - percent - last year': 1.1389999572600384}"
      ]
     },
     "execution_count": 93,
     "metadata": {},
     "output_type": "execute_result"
    }
   ],
   "source": [
    "values_dict = {\n",
    "      \"number of installs last year\" :\n",
    "      df_packages[\"installs last year\"].sum(),\n",
    "      \"number of installs last 90 days\" : \n",
    "      df_packages[\"installs last 90 days\"].sum(),\n",
    "      \"number of installs last 30 days\" :\n",
    "      df_packages[\"installs last 30 days\"].sum(),\n",
    "      \"first 10 - percent - last year\" :\n",
    "      (df_packages_30d[\"installs last year\"].head(10).sum()\n",
    "      /df_packages_30d[\"installs last year\"].sum())*100,\n",
    "      \"first one - percent - last year\" :\n",
    "      (df_packages_30d[\"installs last year\"].head(1).sum()\n",
    "      /df_packages_30d[\"installs last year\"].sum())*100\n",
    "    } \n",
    "values_dict"
   ]
  },
  {
   "cell_type": "markdown",
   "metadata": {
    "id": "F7mtpNF0zc01"
   },
   "source": [
    "## Percent columns - percent of installs (30 days 90 days) in the year"
   ]
  },
  {
   "cell_type": "code",
   "execution_count": 94,
   "metadata": {
    "colab": {
     "base_uri": "https://localhost:8080/",
     "height": 512
    },
    "id": "6jjfuSdAopJF",
    "outputId": "18370e04-70c9-4ecc-dc67-0425f80b3969"
   },
   "outputs": [
    {
     "data": {
      "text/html": [
       "<div>\n",
       "<style scoped>\n",
       "    .dataframe tbody tr th:only-of-type {\n",
       "        vertical-align: middle;\n",
       "    }\n",
       "\n",
       "    .dataframe tbody tr th {\n",
       "        vertical-align: top;\n",
       "    }\n",
       "\n",
       "    .dataframe thead th {\n",
       "        text-align: right;\n",
       "    }\n",
       "</style>\n",
       "<table border=\"1\" class=\"dataframe\">\n",
       "  <thead>\n",
       "    <tr style=\"text-align: right;\">\n",
       "      <th></th>\n",
       "      <th>package name</th>\n",
       "      <th>package description</th>\n",
       "      <th>installs last 30 days</th>\n",
       "      <th>installs last 90 days</th>\n",
       "      <th>installs last year</th>\n",
       "      <th>position_90d</th>\n",
       "      <th>position_30d</th>\n",
       "      <th>change of position</th>\n",
       "      <th>percent of installs last 30 days</th>\n",
       "      <th>percent of installs last 90 days</th>\n",
       "    </tr>\n",
       "  </thead>\n",
       "  <tbody>\n",
       "    <tr>\n",
       "      <th>4781</th>\n",
       "      <td>tcl-tk</td>\n",
       "      <td>Tool Command Language</td>\n",
       "      <td>638433</td>\n",
       "      <td>792986</td>\n",
       "      <td>877834</td>\n",
       "      <td>15</td>\n",
       "      <td>2</td>\n",
       "      <td>13</td>\n",
       "      <td>72.728215</td>\n",
       "      <td>90.334391</td>\n",
       "    </tr>\n",
       "    <tr>\n",
       "      <th>4069</th>\n",
       "      <td>python@3.9</td>\n",
       "      <td>Interpreted, interactive, object-oriented prog...</td>\n",
       "      <td>734572</td>\n",
       "      <td>2419581</td>\n",
       "      <td>3129188</td>\n",
       "      <td>0</td>\n",
       "      <td>0</td>\n",
       "      <td>0</td>\n",
       "      <td>23.474844</td>\n",
       "      <td>77.322967</td>\n",
       "    </tr>\n",
       "    <tr>\n",
       "      <th>4177</th>\n",
       "      <td>readline</td>\n",
       "      <td>Library for command-line editing</td>\n",
       "      <td>605013</td>\n",
       "      <td>1804149</td>\n",
       "      <td>6047926</td>\n",
       "      <td>2</td>\n",
       "      <td>3</td>\n",
       "      <td>-1</td>\n",
       "      <td>10.003644</td>\n",
       "      <td>29.830871</td>\n",
       "    </tr>\n",
       "    <tr>\n",
       "      <th>3655</th>\n",
       "      <td>openssl@1.1</td>\n",
       "      <td>Cryptography and SSL/TLS Toolkit</td>\n",
       "      <td>688868</td>\n",
       "      <td>2244016</td>\n",
       "      <td>8238647</td>\n",
       "      <td>1</td>\n",
       "      <td>1</td>\n",
       "      <td>0</td>\n",
       "      <td>8.361421</td>\n",
       "      <td>27.237676</td>\n",
       "    </tr>\n",
       "    <tr>\n",
       "      <th>4617</th>\n",
       "      <td>sqlite</td>\n",
       "      <td>Command-line interface for SQLite</td>\n",
       "      <td>477451</td>\n",
       "      <td>1533054</td>\n",
       "      <td>5725333</td>\n",
       "      <td>3</td>\n",
       "      <td>4</td>\n",
       "      <td>-1</td>\n",
       "      <td>8.339270</td>\n",
       "      <td>26.776678</td>\n",
       "    </tr>\n",
       "  </tbody>\n",
       "</table>\n",
       "</div>"
      ],
      "text/plain": [
       "     package name                                package description  \\\n",
       "4781       tcl-tk                              Tool Command Language   \n",
       "4069   python@3.9  Interpreted, interactive, object-oriented prog...   \n",
       "4177     readline                   Library for command-line editing   \n",
       "3655  openssl@1.1                   Cryptography and SSL/TLS Toolkit   \n",
       "4617       sqlite                  Command-line interface for SQLite   \n",
       "\n",
       "      installs last 30 days  installs last 90 days  installs last year  \\\n",
       "4781                 638433                 792986              877834   \n",
       "4069                 734572                2419581             3129188   \n",
       "4177                 605013                1804149             6047926   \n",
       "3655                 688868                2244016             8238647   \n",
       "4617                 477451                1533054             5725333   \n",
       "\n",
       "      position_90d  position_30d  change of position  \\\n",
       "4781            15             2                  13   \n",
       "4069             0             0                   0   \n",
       "4177             2             3                  -1   \n",
       "3655             1             1                   0   \n",
       "4617             3             4                  -1   \n",
       "\n",
       "      percent of installs last 30 days  percent of installs last 90 days  \n",
       "4781                         72.728215                         90.334391  \n",
       "4069                         23.474844                         77.322967  \n",
       "4177                         10.003644                         29.830871  \n",
       "3655                          8.361421                         27.237676  \n",
       "4617                          8.339270                         26.776678  "
      ]
     },
     "execution_count": 94,
     "metadata": {},
     "output_type": "execute_result"
    }
   ],
   "source": [
    "df_packages_30d[\"percent of installs last 30 days\"] = (df_packages_30d[\"installs last 30 days\"]/\n",
    "                                                  df_packages_30d[\"installs last year\"])*100\n",
    "df_packages_30d[\"percent of installs last 90 days\"] = (df_packages_30d[\"installs last 90 days\"]/\n",
    "                                                  df_packages_30d[\"installs last year\"])*100                                                  \n",
    "df_packages_30d.head(5).sort_values(by=\"percent of installs last 30 days\",ascending=False)                                        "
   ]
  },
  {
   "cell_type": "markdown",
   "metadata": {},
   "source": [
    "## Visualizing the data"
   ]
  },
  {
   "cell_type": "code",
   "execution_count": 95,
   "metadata": {},
   "outputs": [
    {
     "data": {
      "image/png": "[encoded data removed]",
      "text/plain": [
       "<Figure size 432x288 with 1 Axes>"
      ]
     },
     "metadata": {
      "needs_background": "light"
     },
     "output_type": "display_data"
    }
   ],
   "source": [
    "df_packages_30d = df_packages_30d.head(10).sort_values(by=\"installs last 30 days\",ascending=True)\n",
    "plt.barh(df_packages_30d[\"package name\"],df_packages_30d[\"installs last 30 days\"])\n",
    "plt.title(\"Number of installs last 30 days\")\n",
    "plt.xlabel('Number of installs')\n",
    "plt.ylabel('Package name')\n",
    "plt.grid(lw=0.2)\n",
    "plt.show()"
   ]
  },
  {
   "cell_type": "code",
   "execution_count": 96,
   "metadata": {},
   "outputs": [
    {
     "data": {
      "image/png": "[encoded data removed]",
      "text/plain": [
       "<Figure size 432x288 with 1 Axes>"
      ]
     },
     "metadata": {
      "needs_background": "light"
     },
     "output_type": "display_data"
    }
   ],
   "source": [
    "df_packages_30d = df_packages_30d.head(10).sort_values(by=\"installs last year\",ascending=True)\n",
    "plt.barh(df_packages_30d[\"package name\"],df_packages_30d[\"installs last year\"])\n",
    "plt.title(\"Number of installs last year\")\n",
    "plt.xlabel('Number of installs')\n",
    "plt.ylabel('Package name')\n",
    "plt.grid(lw=0.2)\n",
    "plt.show()"
   ]
  },
  {
   "cell_type": "code",
   "execution_count": 97,
   "metadata": {},
   "outputs": [
    {
     "data": {
      "image/png": "[encoded data removed]",
      "text/plain": [
       "<Figure size 432x288 with 1 Axes>"
      ]
     },
     "metadata": {
      "needs_background": "light"
     },
     "output_type": "display_data"
    }
   ],
   "source": [
    "df_major_changes_30d_last = df_packages_30d_last.head(10).sort_values(by=\"change of position\",ascending=True)\n",
    "plt.bar(df_major_changes_30d_last[\"package name\"],df_major_changes_30d_last[\"change of position\"])\n",
    "plt.title(\"Change of position last year\")\n",
    "plt.xlabel('Change of position')\n",
    "plt.xticks(rotation=45)\n",
    "plt.ylabel('Package name')\n",
    "plt.grid(lw=0.2)\n",
    "plt.show()"
   ]
  },
  {
   "cell_type": "code",
   "execution_count": 98,
   "metadata": {},
   "outputs": [
    {
     "data": {
      "image/png": "[encoded data removed]",
      "text/plain": [
       "<Figure size 432x288 with 1 Axes>"
      ]
     },
     "metadata": {
      "needs_background": "light"
     },
     "output_type": "display_data"
    }
   ],
   "source": [
    "df_packages_30d = df_packages_30d.head(10).sort_values(by=\"percent of installs last 30 days\",ascending=True)\n",
    "plt.barh(df_packages_30d[\"package name\"],df_packages_30d[\"percent of installs last 30 days\"])\n",
    "plt.title(\"Percent of installs last 30 days/last year\")\n",
    "plt.xlabel('Percent of installs')\n",
    "plt.ylabel('Package name')\n",
    "plt.grid(lw=0.2)\n",
    "plt.show()"
   ]
  }
 ],
 "metadata": {
  "colab": {
   "collapsed_sections": [],
   "name": "JsonAnalysis.ipynb",
   "provenance": []
  },
  "kernelspec": {
   "display_name": "Python 3",
   "language": "python",
   "name": "python3"
  },
  "language_info": {
   "codemirror_mode": {
    "name": "ipython",
    "version": 3
   },
   "file_extension": ".py",
   "mimetype": "text/x-python",
   "name": "python",
   "nbconvert_exporter": "python",
   "pygments_lexer": "ipython3",
   "version": "3.8.6"
  }
 },
 "nbformat": 4,
 "nbformat_minor": 1
}
