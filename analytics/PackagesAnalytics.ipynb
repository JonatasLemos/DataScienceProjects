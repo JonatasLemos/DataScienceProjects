{
 "cells": [
  {
   "cell_type": "markdown",
   "metadata": {
    "id": "wqnKthva0uNA"
   },
   "source": [
    "# Obtaining package information from Homebrew package manager API - 12/02/2021"
   ]
  },
  {
   "cell_type": "code",
   "execution_count": 2,
   "metadata": {
    "id": "jY6YX6AvpuQC"
   },
   "outputs": [],
   "source": [
    "import time\n",
    "import requests\n",
    "import json\n",
    "import pandas as pd\n",
    "from requests.exceptions import HTTPError"
   ]
  },
  {
   "cell_type": "markdown",
   "metadata": {
    "id": "ASN8fRZU0ygB"
   },
   "source": [
    "## Requesting and transforming to json format"
   ]
  },
  {
   "cell_type": "code",
   "execution_count": 3,
   "metadata": {
    "colab": {
     "base_uri": "https://localhost:8080/"
    },
    "id": "vSBRFVB-p0Yo",
    "outputId": "11e4c1bb-1bfa-4222-c02e-6e0818c759c0"
   },
   "outputs": [
    {
     "name": "stdout",
     "output_type": "stream",
     "text": [
      "0.7.4\n",
      "35\n",
      "a2ps\n"
     ]
    }
   ],
   "source": [
    "source = requests.get(\"https://formulae.brew.sh/api/formula.json\")\n",
    "total_time = source.elapsed.total_seconds()\n",
    "json_data = source.json()\n",
    "print(json_data[1][\"versions\"][\"stable\"])\n",
    "print(len(json_data[1]))\n",
    "print(json_data[0][\"name\"])"
   ]
  },
  {
   "cell_type": "markdown",
   "metadata": {
    "id": "Fi1d7XqL1ZcH"
   },
   "source": [
    "## Appending relevant packages analytics values to dictionary"
   ]
  },
  {
   "cell_type": "code",
   "execution_count": null,
   "metadata": {
    "id": "EYcbSO0pqSuM"
   },
   "outputs": [],
   "source": [
    "list_of_dicts  = []\n",
    "for i in range(len(json_data)):\n",
    "    package_url = f'https://formulae.brew.sh/api/formula/{json_data[i][\"name\"]}.json'\n",
    "    source = requests.get(package_url)\n",
    "    package_json = source.json()\n",
    "    name = json_data[i][\"name\"]\n",
    "    myDict = {\n",
    "        \"name\" : name,\n",
    "        \"desc\" : json_data[i][\"desc\"],\n",
    "        \"last_30_d\" :package_json[\"analytics\"][\"install\"][\"30d\"][name],\n",
    "        \"last_90_d\" :package_json[\"analytics\"][\"install\"][\"90d\"][name],\n",
    "        \"last_year\" :package_json[\"analytics\"][\"install\"][\"365d\"][name],\n",
    "        \"build_error\":package_json[\"analytics\"][\"build_error\"][\"30d\"][name] \n",
    "        } \n",
    "    list_of_dicts.append(myDict)\n",
    "    print(json_data[i][\"name\"])\n",
    "    time.sleep(total_time)"
   ]
  },
  {
   "cell_type": "markdown",
   "metadata": {
    "id": "YmeRy5-y2N92"
   },
   "source": [
    "## Converting dictionary to dataframe and exporting to CSV"
   ]
  },
  {
   "cell_type": "code",
   "execution_count": 7,
   "metadata": {
    "colab": {
     "base_uri": "https://localhost:8080/",
     "height": 419
    },
    "id": "Aq0bY98Lre_H",
    "outputId": "882e7728-0124-4c04-b233-0b315eab01f4"
   },
   "outputs": [
    {
     "data": {
      "text/html": [
       "<div>\n",
       "<style scoped>\n",
       "    .dataframe tbody tr th:only-of-type {\n",
       "        vertical-align: middle;\n",
       "    }\n",
       "\n",
       "    .dataframe tbody tr th {\n",
       "        vertical-align: top;\n",
       "    }\n",
       "\n",
       "    .dataframe thead th {\n",
       "        text-align: right;\n",
       "    }\n",
       "</style>\n",
       "<table border=\"1\" class=\"dataframe\">\n",
       "  <thead>\n",
       "    <tr style=\"text-align: right;\">\n",
       "      <th></th>\n",
       "      <th>name</th>\n",
       "      <th>desc</th>\n",
       "      <th>last_30_d</th>\n",
       "      <th>last_90_d</th>\n",
       "      <th>last_year</th>\n",
       "      <th>build_error</th>\n",
       "    </tr>\n",
       "  </thead>\n",
       "  <tbody>\n",
       "    <tr>\n",
       "      <th>0</th>\n",
       "      <td>a2ps</td>\n",
       "      <td>Any-to-PostScript filter</td>\n",
       "      <td>106</td>\n",
       "      <td>263</td>\n",
       "      <td>1013</td>\n",
       "      <td>0</td>\n",
       "    </tr>\n",
       "    <tr>\n",
       "      <th>1</th>\n",
       "      <td>a52dec</td>\n",
       "      <td>Library for decoding ATSC A/52 streams (AKA 'A...</td>\n",
       "      <td>100</td>\n",
       "      <td>242</td>\n",
       "      <td>732</td>\n",
       "      <td>0</td>\n",
       "    </tr>\n",
       "    <tr>\n",
       "      <th>2</th>\n",
       "      <td>aacgain</td>\n",
       "      <td>AAC-supporting version of mp3gain</td>\n",
       "      <td>60</td>\n",
       "      <td>150</td>\n",
       "      <td>602</td>\n",
       "      <td>0</td>\n",
       "    </tr>\n",
       "    <tr>\n",
       "      <th>3</th>\n",
       "      <td>aalib</td>\n",
       "      <td>Portable ASCII art graphics library</td>\n",
       "      <td>595</td>\n",
       "      <td>799</td>\n",
       "      <td>1681</td>\n",
       "      <td>0</td>\n",
       "    </tr>\n",
       "    <tr>\n",
       "      <th>4</th>\n",
       "      <td>aamath</td>\n",
       "      <td>Renders mathematical expressions as ASCII art</td>\n",
       "      <td>20</td>\n",
       "      <td>44</td>\n",
       "      <td>185</td>\n",
       "      <td>0</td>\n",
       "    </tr>\n",
       "    <tr>\n",
       "      <th>...</th>\n",
       "      <td>...</td>\n",
       "      <td>...</td>\n",
       "      <td>...</td>\n",
       "      <td>...</td>\n",
       "      <td>...</td>\n",
       "      <td>...</td>\n",
       "    </tr>\n",
       "    <tr>\n",
       "      <th>5472</th>\n",
       "      <td>zxcc</td>\n",
       "      <td>CP/M 2/3 emulator for cross-compiling and CP/M...</td>\n",
       "      <td>2</td>\n",
       "      <td>7</td>\n",
       "      <td>26</td>\n",
       "      <td>0</td>\n",
       "    </tr>\n",
       "    <tr>\n",
       "      <th>5473</th>\n",
       "      <td>zydis</td>\n",
       "      <td>Fast and lightweight x86/x86_64 disassembler l...</td>\n",
       "      <td>2</td>\n",
       "      <td>5</td>\n",
       "      <td>30</td>\n",
       "      <td>0</td>\n",
       "    </tr>\n",
       "    <tr>\n",
       "      <th>5474</th>\n",
       "      <td>zyre</td>\n",
       "      <td>Local Area Clustering for Peer-to-Peer Applica...</td>\n",
       "      <td>14</td>\n",
       "      <td>28</td>\n",
       "      <td>59</td>\n",
       "      <td>0</td>\n",
       "    </tr>\n",
       "    <tr>\n",
       "      <th>5475</th>\n",
       "      <td>zzuf</td>\n",
       "      <td>Transparent application input fuzzer</td>\n",
       "      <td>5</td>\n",
       "      <td>15</td>\n",
       "      <td>76</td>\n",
       "      <td>0</td>\n",
       "    </tr>\n",
       "    <tr>\n",
       "      <th>5476</th>\n",
       "      <td>zzz</td>\n",
       "      <td>Command-line tool to put Macs to sleep</td>\n",
       "      <td>43</td>\n",
       "      <td>109</td>\n",
       "      <td>362</td>\n",
       "      <td>0</td>\n",
       "    </tr>\n",
       "  </tbody>\n",
       "</table>\n",
       "<p>5477 rows × 6 columns</p>\n",
       "</div>"
      ],
      "text/plain": [
       "         name  ... build_error\n",
       "0        a2ps  ...           0\n",
       "1      a52dec  ...           0\n",
       "2     aacgain  ...           0\n",
       "3       aalib  ...           0\n",
       "4      aamath  ...           0\n",
       "...       ...  ...         ...\n",
       "5472     zxcc  ...           0\n",
       "5473    zydis  ...           0\n",
       "5474     zyre  ...           0\n",
       "5475     zzuf  ...           0\n",
       "5476      zzz  ...           0\n",
       "\n",
       "[5477 rows x 6 columns]"
      ]
     },
     "execution_count": 7,
     "metadata": {
      "tags": []
     },
     "output_type": "execute_result"
    }
   ],
   "source": [
    "df = pd.DataFrame(list_of_dicts)\n",
    "df.to_csv('packages.csv',index=False)\n",
    "df"
   ]
  }
 ],
 "metadata": {
  "colab": {
   "collapsed_sections": [],
   "name": "PackagesAnalytics.ipynb",
   "provenance": []
  },
  "kernelspec": {
   "display_name": "Python 3",
   "language": "python",
   "name": "python3"
  },
  "language_info": {
   "codemirror_mode": {
    "name": "ipython",
    "version": 3
   },
   "file_extension": ".py",
   "mimetype": "text/x-python",
   "name": "python",
   "nbconvert_exporter": "python",
   "pygments_lexer": "ipython3",
   "version": "3.8.6"
  }
 },
 "nbformat": 4,
 "nbformat_minor": 1
}
